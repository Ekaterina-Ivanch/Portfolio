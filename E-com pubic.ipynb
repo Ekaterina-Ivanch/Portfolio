{
  "cells": [
    {
      "cell_type": "markdown",
      "id": "d6200fb6",
      "metadata": {
        "toc": true,
        "id": "d6200fb6"
      },
      "source": [
        "<h1>Содержание<span class=\"tocSkip\"></span></h1>\n",
        "<div class=\"toc\"><ul class=\"toc-item\"><li><span><a href=\"#Описание-проекта\" data-toc-modified-id=\"Описание-проекта-1\"><span class=\"toc-item-num\">1&nbsp;&nbsp;</span>Описание проекта</a></span></li><li><span><a href=\"#Материалы-по-проекту\" data-toc-modified-id=\"Материалы-по-проекту-2\"><span class=\"toc-item-num\">2&nbsp;&nbsp;</span>Материалы по проекту</a></span></li><li><span><a href=\"#Загрузка-данных-и-подготовка-их-к-анализу\" data-toc-modified-id=\"Загрузка-данных-и-подготовка-их-к-анализу-3\"><span class=\"toc-item-num\">3&nbsp;&nbsp;</span>Загрузка данных и подготовка их к анализу</a></span></li><li><span><a href=\"#Исследовательский-анализ-данных\" data-toc-modified-id=\"Исследовательский-анализ-данных-4\"><span class=\"toc-item-num\">4&nbsp;&nbsp;</span>Исследовательский анализ данных</a></span></li><li><span><a href=\"#Категоризация-товаров\" data-toc-modified-id=\"Категоризация-товаров-5\"><span class=\"toc-item-num\">5&nbsp;&nbsp;</span>Категоризация товаров</a></span></li><li><span><a href=\"#Кластеризация-покупателей-на-основе-истории-их-покупок\" data-toc-modified-id=\"Кластеризация-покупателей-на-основе-истории-их-покупок-6\"><span class=\"toc-item-num\">6&nbsp;&nbsp;</span>Кластеризация покупателей на основе истории их покупок</a></span></li><li><span><a href=\"#Проверка-статистических-гипотез\" data-toc-modified-id=\"Проверка-статистических-гипотез-7\"><span class=\"toc-item-num\">7&nbsp;&nbsp;</span>Проверка статистических гипотез</a></span></li><li><span><a href=\"#Выводы\" data-toc-modified-id=\"Выводы-8\"><span class=\"toc-item-num\">8&nbsp;&nbsp;</span>Выводы</a></span></li></ul></div>"
      ]
    },
    {
      "cell_type": "markdown",
      "id": "f02f9bc0",
      "metadata": {
        "id": "f02f9bc0"
      },
      "source": [
        "# Описание проекта"
      ]
    },
    {
      "cell_type": "markdown",
      "id": "cc5159a0",
      "metadata": {
        "id": "cc5159a0"
      },
      "source": [
        "**Название проекта: E-commerce — Выявление профилей потребления**\n",
        "\n",
        "**Цель исследования:**\n",
        "Выявить закономерности: какие покупатели (сегменты) покупают какие товары (товарные категории) в какие периоды (сезоны) для разработки более персонализированных предложений и повышения продаж.\n",
        "\n",
        "**Гипотеза:** в определенные сезоны покупатели увеличивают покупки определенных товаров.\n",
        "\n",
        "**План работы:**\n",
        "\n",
        "1.  Сделать предобработку данных\n",
        "2.  Провести исследовательский анализ данных\n",
        "3.  Выделить категории товаров (например: товары для дачи, посуда, товары для ремонта - посмотрим, какие категории выделяют обычно подобные магазины). Проверить получившиеся категории: как часто покупаются товары этой категории и сколько она приносит денег\n",
        "4.  Выделить сегменты покупателей на основе истории их покупок (по категории товара, количеству, по частоте и сезонности).\n",
        "Сделаем кластеризацию (инструмет ML) покупателей по показателям:\n",
        "- Стоимость товара\n",
        "- Кол-во товаров\n",
        "- Общая сумма покупок\n",
        "- Средний чек\n",
        "\n",
        "Далее посмотрим на эти сегменты по сезонам.\n",
        "\n",
        "5.  Сформулировать и проверить статистические гипотезы.\n",
        "Например: есть статистически значимые отличия между сегментами покупателей.\n",
        "\n",
        "6.  Сделать выводы, в какой сезон каким сегментам покупателей какие товарные категории предлагать.\n",
        "\n",
        "**Описание данных:**\n",
        "\n",
        "Датасет описывает транзакции интернет-магазина товаров для дома и быта «Пока все ещё тут».\n",
        "\n",
        "Колонки в  *ecommerce_dataset.csv* :\n",
        "\n",
        "- `date` — дата заказа;\n",
        "- `customer_id` — идентификатор покупателя;\n",
        "- `order_id` — идентификатор заказа;\n",
        "- `product` — наименование товара;\n",
        "- `quantity` — количество товара в заказе;\n",
        "- `price` — цена товара."
      ]
    },
    {
      "cell_type": "markdown",
      "id": "de50c505",
      "metadata": {
        "id": "de50c505"
      },
      "source": [
        "# Материалы по проекту"
      ]
    },
    {
      "cell_type": "markdown",
      "id": "fc3135c5",
      "metadata": {
        "id": "fc3135c5"
      },
      "source": [
        "[Презентация](https://drive.google.com/file/d/13W6QD1T38nW_pscqnpSO-Vv-AthCL5uJ/view?usp=sharing)"
      ]
    },
    {
      "cell_type": "markdown",
      "id": "0318df1b",
      "metadata": {
        "id": "0318df1b"
      },
      "source": [
        "[Дашборд](https://public.tableau.com/app/profile/ekaterina1291/viz/-_16606394444260/Dashboard1?publish=yes)"
      ]
    },
    {
      "cell_type": "markdown",
      "id": "6862a1a5",
      "metadata": {
        "id": "6862a1a5"
      },
      "source": [
        "# Загрузка данных и подготовка их к анализу"
      ]
    },
    {
      "cell_type": "markdown",
      "id": "46727c2f",
      "metadata": {
        "id": "46727c2f"
      },
      "source": [
        "Загрузим бибилотеки, датасет и посмотрим на информацию по данным"
      ]
    },
    {
      "cell_type": "code",
      "execution_count": null,
      "id": "de645368",
      "metadata": {
        "id": "de645368"
      },
      "outputs": [],
      "source": [
        "import pandas as pd\n",
        "import numpy as np\n",
        "import matplotlib.pyplot as plt\n",
        "from scipy import stats as st\n",
        "import seaborn as sns\n",
        "from datetime import datetime\n",
        "from sklearn.cluster import KMeans\n",
        "from sklearn import metrics\n",
        "from scipy.spatial.distance import cdist\n",
        "from sklearn.preprocessing import StandardScaler\n",
        "from scipy.cluster.hierarchy import dendrogram, linkage"
      ]
    },
    {
      "cell_type": "code",
      "execution_count": null,
      "id": "3c38c08e",
      "metadata": {
        "id": "3c38c08e"
      },
      "outputs": [],
      "source": [
        "import os\n",
        "pth1 = 'C:/Users/Пользователь/OneDrive/Рабочий стол/Аналитик данных _ Яндекс практикум/Финальный проект/ecommerce_dataset.csv'\n",
        "pth2 = '/datasets/ecommerce_dataset.csv'\n",
        "if os.path.exists(pth1):\n",
        "    data = pd.read_csv(pth1)\n",
        "elif os.path.exists(pth2):\n",
        "    data = pd.read_csv(pth2)\n",
        "else:\n",
        "    print(\"Проверьте правильность пути к датасету\")"
      ]
    },
    {
      "cell_type": "code",
      "execution_count": null,
      "id": "2e8daac4",
      "metadata": {
        "id": "2e8daac4",
        "outputId": "8f96dbb2-e2d7-448d-c104-469bb0573205"
      },
      "outputs": [
        {
          "data": {
            "text/html": [
              "<div>\n",
              "<style scoped>\n",
              "    .dataframe tbody tr th:only-of-type {\n",
              "        vertical-align: middle;\n",
              "    }\n",
              "\n",
              "    .dataframe tbody tr th {\n",
              "        vertical-align: top;\n",
              "    }\n",
              "\n",
              "    .dataframe thead th {\n",
              "        text-align: right;\n",
              "    }\n",
              "</style>\n",
              "<table border=\"1\" class=\"dataframe\">\n",
              "  <thead>\n",
              "    <tr style=\"text-align: right;\">\n",
              "      <th></th>\n",
              "      <th>date</th>\n",
              "      <th>customer_id</th>\n",
              "      <th>order_id</th>\n",
              "      <th>product</th>\n",
              "      <th>quantity</th>\n",
              "      <th>price</th>\n",
              "    </tr>\n",
              "  </thead>\n",
              "  <tbody>\n",
              "    <tr>\n",
              "      <th>0</th>\n",
              "      <td>2018100100</td>\n",
              "      <td>ee47d746-6d2f-4d3c-9622-c31412542920</td>\n",
              "      <td>68477</td>\n",
              "      <td>Комнатное растение в горшке Алое Вера, d12, h30</td>\n",
              "      <td>1</td>\n",
              "      <td>142.0</td>\n",
              "    </tr>\n",
              "    <tr>\n",
              "      <th>1</th>\n",
              "      <td>2018100100</td>\n",
              "      <td>ee47d746-6d2f-4d3c-9622-c31412542920</td>\n",
              "      <td>68477</td>\n",
              "      <td>Комнатное растение в горшке Кофе Арабика, d12,...</td>\n",
              "      <td>1</td>\n",
              "      <td>194.0</td>\n",
              "    </tr>\n",
              "    <tr>\n",
              "      <th>2</th>\n",
              "      <td>2018100100</td>\n",
              "      <td>ee47d746-6d2f-4d3c-9622-c31412542920</td>\n",
              "      <td>68477</td>\n",
              "      <td>Радермахера d-12 см h-20 см</td>\n",
              "      <td>1</td>\n",
              "      <td>112.0</td>\n",
              "    </tr>\n",
              "    <tr>\n",
              "      <th>3</th>\n",
              "      <td>2018100100</td>\n",
              "      <td>ee47d746-6d2f-4d3c-9622-c31412542920</td>\n",
              "      <td>68477</td>\n",
              "      <td>Хризолидокарпус Лутесценс d-9 см</td>\n",
              "      <td>1</td>\n",
              "      <td>179.0</td>\n",
              "    </tr>\n",
              "    <tr>\n",
              "      <th>4</th>\n",
              "      <td>2018100100</td>\n",
              "      <td>ee47d746-6d2f-4d3c-9622-c31412542920</td>\n",
              "      <td>68477</td>\n",
              "      <td>Циперус Зумула d-12 см h-25 см</td>\n",
              "      <td>1</td>\n",
              "      <td>112.0</td>\n",
              "    </tr>\n",
              "  </tbody>\n",
              "</table>\n",
              "</div>"
            ],
            "text/plain": [
              "         date                           customer_id  order_id  \\\n",
              "0  2018100100  ee47d746-6d2f-4d3c-9622-c31412542920     68477   \n",
              "1  2018100100  ee47d746-6d2f-4d3c-9622-c31412542920     68477   \n",
              "2  2018100100  ee47d746-6d2f-4d3c-9622-c31412542920     68477   \n",
              "3  2018100100  ee47d746-6d2f-4d3c-9622-c31412542920     68477   \n",
              "4  2018100100  ee47d746-6d2f-4d3c-9622-c31412542920     68477   \n",
              "\n",
              "                                             product  quantity  price  \n",
              "0    Комнатное растение в горшке Алое Вера, d12, h30         1  142.0  \n",
              "1  Комнатное растение в горшке Кофе Арабика, d12,...         1  194.0  \n",
              "2                        Радермахера d-12 см h-20 см         1  112.0  \n",
              "3                   Хризолидокарпус Лутесценс d-9 см         1  179.0  \n",
              "4                     Циперус Зумула d-12 см h-25 см         1  112.0  "
            ]
          },
          "execution_count": 3,
          "metadata": {},
          "output_type": "execute_result"
        }
      ],
      "source": [
        "data.head(5)"
      ]
    },
    {
      "cell_type": "code",
      "execution_count": null,
      "id": "84eef35a",
      "metadata": {
        "id": "84eef35a",
        "outputId": "92ecd0e5-2331-45f9-8829-1b73649bb0e9"
      },
      "outputs": [
        {
          "name": "stdout",
          "output_type": "stream",
          "text": [
            "<class 'pandas.core.frame.DataFrame'>\n",
            "RangeIndex: 6737 entries, 0 to 6736\n",
            "Data columns (total 6 columns):\n",
            " #   Column       Non-Null Count  Dtype  \n",
            "---  ------       --------------  -----  \n",
            " 0   date         6737 non-null   int64  \n",
            " 1   customer_id  6737 non-null   object \n",
            " 2   order_id     6737 non-null   int64  \n",
            " 3   product      6737 non-null   object \n",
            " 4   quantity     6737 non-null   int64  \n",
            " 5   price        6737 non-null   float64\n",
            "dtypes: float64(1), int64(3), object(2)\n",
            "memory usage: 315.9+ KB\n"
          ]
        }
      ],
      "source": [
        "data.info()"
      ]
    },
    {
      "cell_type": "markdown",
      "id": "eba72afd",
      "metadata": {
        "id": "eba72afd"
      },
      "source": [
        "Видим 6 737 заказов, пропусков нет, названия колонок в змеином регистре."
      ]
    },
    {
      "cell_type": "code",
      "execution_count": null,
      "id": "7718e9d2",
      "metadata": {
        "id": "7718e9d2",
        "outputId": "1e877b73-0908-4e8e-cd0d-382cde1e6d9f"
      },
      "outputs": [
        {
          "data": {
            "text/html": [
              "<div>\n",
              "<style scoped>\n",
              "    .dataframe tbody tr th:only-of-type {\n",
              "        vertical-align: middle;\n",
              "    }\n",
              "\n",
              "    .dataframe tbody tr th {\n",
              "        vertical-align: top;\n",
              "    }\n",
              "\n",
              "    .dataframe thead th {\n",
              "        text-align: right;\n",
              "    }\n",
              "</style>\n",
              "<table border=\"1\" class=\"dataframe\">\n",
              "  <thead>\n",
              "    <tr style=\"text-align: right;\">\n",
              "      <th></th>\n",
              "      <th>date</th>\n",
              "      <th>customer_id</th>\n",
              "      <th>order_id</th>\n",
              "      <th>product</th>\n",
              "      <th>quantity</th>\n",
              "      <th>price</th>\n",
              "    </tr>\n",
              "  </thead>\n",
              "  <tbody>\n",
              "    <tr>\n",
              "      <th>0</th>\n",
              "      <td>2018-10-01</td>\n",
              "      <td>ee47d746-6d2f-4d3c-9622-c31412542920</td>\n",
              "      <td>68477</td>\n",
              "      <td>Комнатное растение в горшке Алое Вера, d12, h30</td>\n",
              "      <td>1</td>\n",
              "      <td>142.0</td>\n",
              "    </tr>\n",
              "    <tr>\n",
              "      <th>1</th>\n",
              "      <td>2018-10-01</td>\n",
              "      <td>ee47d746-6d2f-4d3c-9622-c31412542920</td>\n",
              "      <td>68477</td>\n",
              "      <td>Комнатное растение в горшке Кофе Арабика, d12,...</td>\n",
              "      <td>1</td>\n",
              "      <td>194.0</td>\n",
              "    </tr>\n",
              "    <tr>\n",
              "      <th>2</th>\n",
              "      <td>2018-10-01</td>\n",
              "      <td>ee47d746-6d2f-4d3c-9622-c31412542920</td>\n",
              "      <td>68477</td>\n",
              "      <td>Радермахера d-12 см h-20 см</td>\n",
              "      <td>1</td>\n",
              "      <td>112.0</td>\n",
              "    </tr>\n",
              "    <tr>\n",
              "      <th>3</th>\n",
              "      <td>2018-10-01</td>\n",
              "      <td>ee47d746-6d2f-4d3c-9622-c31412542920</td>\n",
              "      <td>68477</td>\n",
              "      <td>Хризолидокарпус Лутесценс d-9 см</td>\n",
              "      <td>1</td>\n",
              "      <td>179.0</td>\n",
              "    </tr>\n",
              "    <tr>\n",
              "      <th>4</th>\n",
              "      <td>2018-10-01</td>\n",
              "      <td>ee47d746-6d2f-4d3c-9622-c31412542920</td>\n",
              "      <td>68477</td>\n",
              "      <td>Циперус Зумула d-12 см h-25 см</td>\n",
              "      <td>1</td>\n",
              "      <td>112.0</td>\n",
              "    </tr>\n",
              "  </tbody>\n",
              "</table>\n",
              "</div>"
            ],
            "text/plain": [
              "         date                           customer_id  order_id  \\\n",
              "0  2018-10-01  ee47d746-6d2f-4d3c-9622-c31412542920     68477   \n",
              "1  2018-10-01  ee47d746-6d2f-4d3c-9622-c31412542920     68477   \n",
              "2  2018-10-01  ee47d746-6d2f-4d3c-9622-c31412542920     68477   \n",
              "3  2018-10-01  ee47d746-6d2f-4d3c-9622-c31412542920     68477   \n",
              "4  2018-10-01  ee47d746-6d2f-4d3c-9622-c31412542920     68477   \n",
              "\n",
              "                                             product  quantity  price  \n",
              "0    Комнатное растение в горшке Алое Вера, d12, h30         1  142.0  \n",
              "1  Комнатное растение в горшке Кофе Арабика, d12,...         1  194.0  \n",
              "2                        Радермахера d-12 см h-20 см         1  112.0  \n",
              "3                   Хризолидокарпус Лутесценс d-9 см         1  179.0  \n",
              "4                     Циперус Зумула d-12 см h-25 см         1  112.0  "
            ]
          },
          "execution_count": 5,
          "metadata": {},
          "output_type": "execute_result"
        }
      ],
      "source": [
        "# Переведем даты из числового объекта в datetime и сразу удалим часы, т.к. они нам не нужны для анализа:\n",
        "data['date'] = pd.to_datetime(data['date'], format='%Y%m%d%H').dt.date\n",
        "# Проверим:\n",
        "data.head()"
      ]
    },
    {
      "cell_type": "markdown",
      "id": "c611ee0b",
      "metadata": {
        "id": "c611ee0b"
      },
      "source": [
        "# Исследовательский анализ данных"
      ]
    },
    {
      "cell_type": "code",
      "execution_count": null,
      "id": "6bbeba88",
      "metadata": {
        "id": "6bbeba88",
        "outputId": "52ac783c-2423-40b1-87e7-6de489c436d4"
      },
      "outputs": [
        {
          "data": {
            "text/plain": [
              "Рассада Кабачка сорт Зебра кассета 6 шт E6                                         79\n",
              "Рассада Кабачка сорт Золотинка кассета 6 шт E6                                     78\n",
              "Рассада Кабачка сорт Белогор кассета 6 шт E6                                       77\n",
              "Рассада Огурца сорт Каролина кассета 6 шт E6                                       76\n",
              "Пеларгония розебудная Red Pandora укорененный черенок                              76\n",
              "                                                                                   ..\n",
              "Азалия Индика фиолетовая d-10 см h-20                                               1\n",
              "Чехол для гладильной доски I LOVE GIMI M из полиэстера и хлопка 132*48 см, Gimi     1\n",
              "Петля рояльная цинк 960 мм, 1103055                                                 1\n",
              "Весы напольные Edition Feet механические                                            1\n",
              "Литопс Микс d-5 см                                                                  1\n",
              "Name: product, Length: 2343, dtype: int64"
            ]
          },
          "execution_count": 6,
          "metadata": {},
          "output_type": "execute_result"
        }
      ],
      "source": [
        "# Взглянем, какие у нас продукты заказывались:\n",
        "data['product'].value_counts()"
      ]
    },
    {
      "cell_type": "markdown",
      "id": "2b777474",
      "metadata": {
        "id": "2b777474"
      },
      "source": [
        "Видим, что в датасете 2 235 уникальных продукта. Позже приступим к сегментации товаров по товарным категориям."
      ]
    },
    {
      "cell_type": "code",
      "execution_count": null,
      "id": "ed33ac20",
      "metadata": {
        "id": "ed33ac20",
        "outputId": "617c76ea-ada2-4394-cd95-cc95f51e1a93"
      },
      "outputs": [
        {
          "data": {
            "text/html": [
              "<div>\n",
              "<style scoped>\n",
              "    .dataframe tbody tr th:only-of-type {\n",
              "        vertical-align: middle;\n",
              "    }\n",
              "\n",
              "    .dataframe tbody tr th {\n",
              "        vertical-align: top;\n",
              "    }\n",
              "\n",
              "    .dataframe thead th {\n",
              "        text-align: right;\n",
              "    }\n",
              "</style>\n",
              "<table border=\"1\" class=\"dataframe\">\n",
              "  <thead>\n",
              "    <tr style=\"text-align: right;\">\n",
              "      <th></th>\n",
              "      <th>order_id</th>\n",
              "      <th>quantity</th>\n",
              "      <th>price</th>\n",
              "    </tr>\n",
              "  </thead>\n",
              "  <tbody>\n",
              "    <tr>\n",
              "      <th>count</th>\n",
              "      <td>6737.000000</td>\n",
              "      <td>6737.000000</td>\n",
              "      <td>6737.000000</td>\n",
              "    </tr>\n",
              "    <tr>\n",
              "      <th>mean</th>\n",
              "      <td>43128.948345</td>\n",
              "      <td>2.501559</td>\n",
              "      <td>462.028499</td>\n",
              "    </tr>\n",
              "    <tr>\n",
              "      <th>std</th>\n",
              "      <td>27899.414662</td>\n",
              "      <td>15.266478</td>\n",
              "      <td>871.296064</td>\n",
              "    </tr>\n",
              "    <tr>\n",
              "      <th>min</th>\n",
              "      <td>12624.000000</td>\n",
              "      <td>1.000000</td>\n",
              "      <td>9.000000</td>\n",
              "    </tr>\n",
              "    <tr>\n",
              "      <th>25%</th>\n",
              "      <td>14827.000000</td>\n",
              "      <td>1.000000</td>\n",
              "      <td>101.000000</td>\n",
              "    </tr>\n",
              "    <tr>\n",
              "      <th>50%</th>\n",
              "      <td>68503.000000</td>\n",
              "      <td>1.000000</td>\n",
              "      <td>135.000000</td>\n",
              "    </tr>\n",
              "    <tr>\n",
              "      <th>75%</th>\n",
              "      <td>70504.000000</td>\n",
              "      <td>1.000000</td>\n",
              "      <td>398.000000</td>\n",
              "    </tr>\n",
              "    <tr>\n",
              "      <th>max</th>\n",
              "      <td>73164.000000</td>\n",
              "      <td>1000.000000</td>\n",
              "      <td>14917.000000</td>\n",
              "    </tr>\n",
              "  </tbody>\n",
              "</table>\n",
              "</div>"
            ],
            "text/plain": [
              "           order_id     quantity         price\n",
              "count   6737.000000  6737.000000   6737.000000\n",
              "mean   43128.948345     2.501559    462.028499\n",
              "std    27899.414662    15.266478    871.296064\n",
              "min    12624.000000     1.000000      9.000000\n",
              "25%    14827.000000     1.000000    101.000000\n",
              "50%    68503.000000     1.000000    135.000000\n",
              "75%    70504.000000     1.000000    398.000000\n",
              "max    73164.000000  1000.000000  14917.000000"
            ]
          },
          "execution_count": 7,
          "metadata": {},
          "output_type": "execute_result"
        }
      ],
      "source": [
        "data.describe()"
      ]
    },
    {
      "cell_type": "markdown",
      "id": "a1c9ddc1",
      "metadata": {
        "id": "a1c9ddc1"
      },
      "source": [
        "Видим, что в каждом заказе - 1 товар, но есть странная аномалия - 1000 штук. Цены на товары распределены не равномерно: от 9 до 14 917 ден. ед., однако 3/4 всех товаров - до 398 ден. ед."
      ]
    },
    {
      "cell_type": "markdown",
      "id": "380a8a12",
      "metadata": {
        "id": "380a8a12"
      },
      "source": [
        "Посмотрим на распределение данных в колонках `цена` и `количество`:"
      ]
    },
    {
      "cell_type": "code",
      "execution_count": null,
      "id": "390befa8",
      "metadata": {
        "id": "390befa8",
        "outputId": "e68bb235-3915-49f2-af3d-b223924eb921"
      },
      "outputs": [
        {
          "data": {
            "image/png": "[encoded data removed]",
            "text/plain": [
              "<Figure size 1080x720 with 1 Axes>"
            ]
          },
          "metadata": {
            "needs_background": "light"
          },
          "output_type": "display_data"
        }
      ],
      "source": [
        "data['quantity'].plot(\n",
        "    figsize=(15,10),kind='hist', bins=100, title='Гистограмма количества купленных товаров')\n",
        "plt.xlabel('Количество покупок')\n",
        "plt.ylabel('Частота')\n",
        "plt.show()"
      ]
    },
    {
      "cell_type": "markdown",
      "id": "471da0c6",
      "metadata": {
        "id": "471da0c6"
      },
      "source": [
        "Взглянем на заказы, в которых больше 5 позиций товара:"
      ]
    },
    {
      "cell_type": "code",
      "execution_count": null,
      "id": "11fdb7c4",
      "metadata": {
        "id": "11fdb7c4",
        "outputId": "ef6ffb54-4c54-4262-9450-1fb1b539863d"
      },
      "outputs": [
        {
          "data": {
            "text/html": [
              "<div>\n",
              "<style scoped>\n",
              "    .dataframe tbody tr th:only-of-type {\n",
              "        vertical-align: middle;\n",
              "    }\n",
              "\n",
              "    .dataframe tbody tr th {\n",
              "        vertical-align: top;\n",
              "    }\n",
              "\n",
              "    .dataframe thead th {\n",
              "        text-align: right;\n",
              "    }\n",
              "</style>\n",
              "<table border=\"1\" class=\"dataframe\">\n",
              "  <thead>\n",
              "    <tr style=\"text-align: right;\">\n",
              "      <th></th>\n",
              "      <th>date</th>\n",
              "      <th>customer_id</th>\n",
              "      <th>order_id</th>\n",
              "      <th>product</th>\n",
              "      <th>quantity</th>\n",
              "      <th>price</th>\n",
              "    </tr>\n",
              "  </thead>\n",
              "  <tbody>\n",
              "    <tr>\n",
              "      <th>5456</th>\n",
              "      <td>2019-06-18</td>\n",
              "      <td>312e9a3e-5fca-43ff-a6a1-892d2b2d5ba6</td>\n",
              "      <td>71743</td>\n",
              "      <td>Вантуз с деревянной ручкой d14 см красный, Bur...</td>\n",
              "      <td>1000</td>\n",
              "      <td>675.0</td>\n",
              "    </tr>\n",
              "    <tr>\n",
              "      <th>5071</th>\n",
              "      <td>2019-06-11</td>\n",
              "      <td>146cd9bf-a95c-4afb-915b-5f6684b17444</td>\n",
              "      <td>71668</td>\n",
              "      <td>Вешалки мягкие для деликатных вещей 3 шт шоколад</td>\n",
              "      <td>334</td>\n",
              "      <td>148.0</td>\n",
              "    </tr>\n",
              "    <tr>\n",
              "      <th>3961</th>\n",
              "      <td>2019-05-20</td>\n",
              "      <td>5d189e88-d4d6-4eac-ab43-fa65a3c4d106</td>\n",
              "      <td>71478</td>\n",
              "      <td>Муляж ЯБЛОКО 9 см красное</td>\n",
              "      <td>300</td>\n",
              "      <td>51.0</td>\n",
              "    </tr>\n",
              "    <tr>\n",
              "      <th>1158</th>\n",
              "      <td>2018-12-10</td>\n",
              "      <td>a984c5b7-ff7e-4647-b84e-ef0b85a2762d</td>\n",
              "      <td>69289</td>\n",
              "      <td>Ручка-скоба РС-100 белая *Трибатрон*, 1108035</td>\n",
              "      <td>200</td>\n",
              "      <td>29.0</td>\n",
              "    </tr>\n",
              "    <tr>\n",
              "      <th>568</th>\n",
              "      <td>2018-11-01</td>\n",
              "      <td>aa42dc38-780f-4b50-9a65-83b6fa64e766</td>\n",
              "      <td>68815</td>\n",
              "      <td>Муляж ЯБЛОКО 9 см красное</td>\n",
              "      <td>170</td>\n",
              "      <td>51.0</td>\n",
              "    </tr>\n",
              "    <tr>\n",
              "      <th>...</th>\n",
              "      <td>...</td>\n",
              "      <td>...</td>\n",
              "      <td>...</td>\n",
              "      <td>...</td>\n",
              "      <td>...</td>\n",
              "      <td>...</td>\n",
              "    </tr>\n",
              "    <tr>\n",
              "      <th>2423</th>\n",
              "      <td>2019-03-22</td>\n",
              "      <td>273efa10-902f-4b90-a3c7-d59f95c9ee63</td>\n",
              "      <td>70831</td>\n",
              "      <td>Гладильная доска НИКА ДСП ЭКОНОМ 106,5х29 ЭК1</td>\n",
              "      <td>6</td>\n",
              "      <td>449.0</td>\n",
              "    </tr>\n",
              "    <tr>\n",
              "      <th>3050</th>\n",
              "      <td>2019-04-23</td>\n",
              "      <td>b7b865ab-0735-407f-8d0c-31f74d2806cc</td>\n",
              "      <td>14680</td>\n",
              "      <td>томата (помидор) Колоновидный № 90 сорт детерм...</td>\n",
              "      <td>6</td>\n",
              "      <td>38.0</td>\n",
              "    </tr>\n",
              "    <tr>\n",
              "      <th>1587</th>\n",
              "      <td>2019-01-24</td>\n",
              "      <td>dfad9aa4-f5f7-4902-9e07-1dee83bc3506</td>\n",
              "      <td>69956</td>\n",
              "      <td>Таз пластмассовый 16,0 л пищевой круглый М2507...</td>\n",
              "      <td>6</td>\n",
              "      <td>224.0</td>\n",
              "    </tr>\n",
              "    <tr>\n",
              "      <th>2399</th>\n",
              "      <td>2019-03-19</td>\n",
              "      <td>e6a2e8c3-2fe1-4aac-ae93-11d6e7c9f910</td>\n",
              "      <td>70788</td>\n",
              "      <td>Искусственная композиция из цветов пластиковая...</td>\n",
              "      <td>6</td>\n",
              "      <td>74.0</td>\n",
              "    </tr>\n",
              "    <tr>\n",
              "      <th>1904</th>\n",
              "      <td>2019-02-19</td>\n",
              "      <td>ee0306c8-a02c-488f-8aac-91177ef8dff3</td>\n",
              "      <td>70348</td>\n",
              "      <td>Комплект махровых салфеток ТОП_2, 100% хлопок ...</td>\n",
              "      <td>6</td>\n",
              "      <td>134.0</td>\n",
              "    </tr>\n",
              "  </tbody>\n",
              "</table>\n",
              "<p>365 rows × 6 columns</p>\n",
              "</div>"
            ],
            "text/plain": [
              "            date                           customer_id  order_id  \\\n",
              "5456  2019-06-18  312e9a3e-5fca-43ff-a6a1-892d2b2d5ba6     71743   \n",
              "5071  2019-06-11  146cd9bf-a95c-4afb-915b-5f6684b17444     71668   \n",
              "3961  2019-05-20  5d189e88-d4d6-4eac-ab43-fa65a3c4d106     71478   \n",
              "1158  2018-12-10  a984c5b7-ff7e-4647-b84e-ef0b85a2762d     69289   \n",
              "568   2018-11-01  aa42dc38-780f-4b50-9a65-83b6fa64e766     68815   \n",
              "...          ...                                   ...       ...   \n",
              "2423  2019-03-22  273efa10-902f-4b90-a3c7-d59f95c9ee63     70831   \n",
              "3050  2019-04-23  b7b865ab-0735-407f-8d0c-31f74d2806cc     14680   \n",
              "1587  2019-01-24  dfad9aa4-f5f7-4902-9e07-1dee83bc3506     69956   \n",
              "2399  2019-03-19  e6a2e8c3-2fe1-4aac-ae93-11d6e7c9f910     70788   \n",
              "1904  2019-02-19  ee0306c8-a02c-488f-8aac-91177ef8dff3     70348   \n",
              "\n",
              "                                                product  quantity  price  \n",
              "5456  Вантуз с деревянной ручкой d14 см красный, Bur...      1000  675.0  \n",
              "5071   Вешалки мягкие для деликатных вещей 3 шт шоколад       334  148.0  \n",
              "3961                          Муляж ЯБЛОКО 9 см красное       300   51.0  \n",
              "1158      Ручка-скоба РС-100 белая *Трибатрон*, 1108035       200   29.0  \n",
              "568                           Муляж ЯБЛОКО 9 см красное       170   51.0  \n",
              "...                                                 ...       ...    ...  \n",
              "2423      Гладильная доска НИКА ДСП ЭКОНОМ 106,5х29 ЭК1         6  449.0  \n",
              "3050  томата (помидор) Колоновидный № 90 сорт детерм...         6   38.0  \n",
              "1587  Таз пластмассовый 16,0 л пищевой круглый М2507...         6  224.0  \n",
              "2399  Искусственная композиция из цветов пластиковая...         6   74.0  \n",
              "1904  Комплект махровых салфеток ТОП_2, 100% хлопок ...         6  134.0  \n",
              "\n",
              "[365 rows x 6 columns]"
            ]
          },
          "execution_count": 9,
          "metadata": {},
          "output_type": "execute_result"
        }
      ],
      "source": [
        "data[data['quantity']>5].sort_values(by='quantity', ascending=False)"
      ]
    },
    {
      "cell_type": "code",
      "execution_count": null,
      "id": "dc5cdf2d",
      "metadata": {
        "id": "dc5cdf2d",
        "outputId": "45f6fc98-e925-418d-8251-376e38b0326a"
      },
      "outputs": [
        {
          "data": {
            "text/plain": [
              "array([ 3.  ,  6.  , 26.64])"
            ]
          },
          "execution_count": 10,
          "metadata": {},
          "output_type": "execute_result"
        }
      ],
      "source": [
        "np.percentile(data['quantity'], [90, 95, 99])"
      ]
    },
    {
      "cell_type": "markdown",
      "id": "e186f157",
      "metadata": {
        "id": "e186f157"
      },
      "source": [
        "Удалим данные, где количество покупок больше 6 (по 95-ому перцентилю), считая их выбросами. На всякий случай сохраним оптовые данные в датасете data_opt."
      ]
    },
    {
      "cell_type": "code",
      "execution_count": null,
      "id": "663c1978",
      "metadata": {
        "id": "663c1978"
      },
      "outputs": [],
      "source": [
        "data_opt = data[data['quantity']>6].reset_index(drop=True)\n",
        "data = data[data['quantity']<=6].reset_index(drop=True)"
      ]
    },
    {
      "cell_type": "code",
      "execution_count": null,
      "id": "e4fd002b",
      "metadata": {
        "id": "e4fd002b",
        "outputId": "b66fa600-e84c-4991-ebde-87e3903e6938"
      },
      "outputs": [
        {
          "data": {
            "text/html": [
              "<div>\n",
              "<style scoped>\n",
              "    .dataframe tbody tr th:only-of-type {\n",
              "        vertical-align: middle;\n",
              "    }\n",
              "\n",
              "    .dataframe tbody tr th {\n",
              "        vertical-align: top;\n",
              "    }\n",
              "\n",
              "    .dataframe thead th {\n",
              "        text-align: right;\n",
              "    }\n",
              "</style>\n",
              "<table border=\"1\" class=\"dataframe\">\n",
              "  <thead>\n",
              "    <tr style=\"text-align: right;\">\n",
              "      <th></th>\n",
              "      <th>date</th>\n",
              "      <th>customer_id</th>\n",
              "      <th>order_id</th>\n",
              "      <th>product</th>\n",
              "      <th>quantity</th>\n",
              "      <th>price</th>\n",
              "    </tr>\n",
              "  </thead>\n",
              "  <tbody>\n",
              "    <tr>\n",
              "      <th>0</th>\n",
              "      <td>2018-10-01</td>\n",
              "      <td>161e1b98-45ba-4b4e-8236-e6e3e70f6f7c</td>\n",
              "      <td>68483</td>\n",
              "      <td>Вешалка для брюк металлическая с резиновым пок...</td>\n",
              "      <td>10</td>\n",
              "      <td>82.0</td>\n",
              "    </tr>\n",
              "    <tr>\n",
              "      <th>1</th>\n",
              "      <td>2018-10-01</td>\n",
              "      <td>0948b0c2-990b-4a11-b835-69ac4714b21d</td>\n",
              "      <td>68486</td>\n",
              "      <td>Крючок одежный 2-х рожковый серый металлик с п...</td>\n",
              "      <td>96</td>\n",
              "      <td>38.0</td>\n",
              "    </tr>\n",
              "    <tr>\n",
              "      <th>2</th>\n",
              "      <td>2018-10-02</td>\n",
              "      <td>4d93d3f6-8b24-403b-a74b-f5173e40d7db</td>\n",
              "      <td>68493</td>\n",
              "      <td>Щетка-сметка 3-х рядная деревянная 450 мм (пло...</td>\n",
              "      <td>15</td>\n",
              "      <td>49.0</td>\n",
              "    </tr>\n",
              "    <tr>\n",
              "      <th>3</th>\n",
              "      <td>2018-10-02</td>\n",
              "      <td>4d93d3f6-8b24-403b-a74b-f5173e40d7db</td>\n",
              "      <td>68493</td>\n",
              "      <td>Щетка-сметка 4-х рядная деревянная 300 мм (фиг...</td>\n",
              "      <td>15</td>\n",
              "      <td>70.0</td>\n",
              "    </tr>\n",
              "    <tr>\n",
              "      <th>4</th>\n",
              "      <td>2018-10-02</td>\n",
              "      <td>4d93d3f6-8b24-403b-a74b-f5173e40d7db</td>\n",
              "      <td>68506</td>\n",
              "      <td>Герань домашняя (пеларгония зональная) цветуща...</td>\n",
              "      <td>11</td>\n",
              "      <td>142.0</td>\n",
              "    </tr>\n",
              "    <tr>\n",
              "      <th>...</th>\n",
              "      <td>...</td>\n",
              "      <td>...</td>\n",
              "      <td>...</td>\n",
              "      <td>...</td>\n",
              "      <td>...</td>\n",
              "      <td>...</td>\n",
              "    </tr>\n",
              "    <tr>\n",
              "      <th>314</th>\n",
              "      <td>2019-10-23</td>\n",
              "      <td>2fac41bf-e800-4bc3-a4b3-0df800f33e99</td>\n",
              "      <td>73073</td>\n",
              "      <td>Ведро резинопластиковое строительное 12,0 л (М...</td>\n",
              "      <td>50</td>\n",
              "      <td>64.0</td>\n",
              "    </tr>\n",
              "    <tr>\n",
              "      <th>315</th>\n",
              "      <td>2019-10-25</td>\n",
              "      <td>14cc96d3-7d14-4e84-9c15-76e57b642c72</td>\n",
              "      <td>73092</td>\n",
              "      <td>Цветок искусственный Нарцисс одиночный в ассор...</td>\n",
              "      <td>25</td>\n",
              "      <td>20.0</td>\n",
              "    </tr>\n",
              "    <tr>\n",
              "      <th>316</th>\n",
              "      <td>2019-10-26</td>\n",
              "      <td>56710968-02ea-46b7-9638-0ad9fa8544d0</td>\n",
              "      <td>73095</td>\n",
              "      <td>Тимьян d-9 см</td>\n",
              "      <td>8</td>\n",
              "      <td>119.0</td>\n",
              "    </tr>\n",
              "    <tr>\n",
              "      <th>317</th>\n",
              "      <td>2019-10-26</td>\n",
              "      <td>56710968-02ea-46b7-9638-0ad9fa8544d0</td>\n",
              "      <td>73095</td>\n",
              "      <td>Тимьян d-9 см</td>\n",
              "      <td>8</td>\n",
              "      <td>119.0</td>\n",
              "    </tr>\n",
              "    <tr>\n",
              "      <th>318</th>\n",
              "      <td>2019-10-28</td>\n",
              "      <td>018fb729-3525-4314-8e4d-1982b1062f9f</td>\n",
              "      <td>73110</td>\n",
              "      <td>Шпингалет 80 мм белый с пружиной, 1102188</td>\n",
              "      <td>100</td>\n",
              "      <td>44.0</td>\n",
              "    </tr>\n",
              "  </tbody>\n",
              "</table>\n",
              "<p>319 rows × 6 columns</p>\n",
              "</div>"
            ],
            "text/plain": [
              "           date                           customer_id  order_id  \\\n",
              "0    2018-10-01  161e1b98-45ba-4b4e-8236-e6e3e70f6f7c     68483   \n",
              "1    2018-10-01  0948b0c2-990b-4a11-b835-69ac4714b21d     68486   \n",
              "2    2018-10-02  4d93d3f6-8b24-403b-a74b-f5173e40d7db     68493   \n",
              "3    2018-10-02  4d93d3f6-8b24-403b-a74b-f5173e40d7db     68493   \n",
              "4    2018-10-02  4d93d3f6-8b24-403b-a74b-f5173e40d7db     68506   \n",
              "..          ...                                   ...       ...   \n",
              "314  2019-10-23  2fac41bf-e800-4bc3-a4b3-0df800f33e99     73073   \n",
              "315  2019-10-25  14cc96d3-7d14-4e84-9c15-76e57b642c72     73092   \n",
              "316  2019-10-26  56710968-02ea-46b7-9638-0ad9fa8544d0     73095   \n",
              "317  2019-10-26  56710968-02ea-46b7-9638-0ad9fa8544d0     73095   \n",
              "318  2019-10-28  018fb729-3525-4314-8e4d-1982b1062f9f     73110   \n",
              "\n",
              "                                               product  quantity  price  \n",
              "0    Вешалка для брюк металлическая с резиновым пок...        10   82.0  \n",
              "1    Крючок одежный 2-х рожковый серый металлик с п...        96   38.0  \n",
              "2    Щетка-сметка 3-х рядная деревянная 450 мм (пло...        15   49.0  \n",
              "3    Щетка-сметка 4-х рядная деревянная 300 мм (фиг...        15   70.0  \n",
              "4    Герань домашняя (пеларгония зональная) цветуща...        11  142.0  \n",
              "..                                                 ...       ...    ...  \n",
              "314  Ведро резинопластиковое строительное 12,0 л (М...        50   64.0  \n",
              "315  Цветок искусственный Нарцисс одиночный в ассор...        25   20.0  \n",
              "316                                      Тимьян d-9 см         8  119.0  \n",
              "317                                      Тимьян d-9 см         8  119.0  \n",
              "318          Шпингалет 80 мм белый с пружиной, 1102188       100   44.0  \n",
              "\n",
              "[319 rows x 6 columns]"
            ]
          },
          "execution_count": 12,
          "metadata": {},
          "output_type": "execute_result"
        }
      ],
      "source": [
        "data_opt"
      ]
    },
    {
      "cell_type": "markdown",
      "id": "b1c1a3e1",
      "metadata": {
        "id": "b1c1a3e1"
      },
      "source": [
        "Аналогично взглянем на распределение цены и посмотрим самые дорогие товары:"
      ]
    },
    {
      "cell_type": "code",
      "execution_count": null,
      "id": "f5b898ae",
      "metadata": {
        "id": "f5b898ae",
        "outputId": "55e95e95-a08d-4957-9a4d-c14033d08ffc"
      },
      "outputs": [
        {
          "data": {
            "image/png": "[encoded data removed]",
            "text/plain": [
              "<Figure size 720x504 with 1 Axes>"
            ]
          },
          "metadata": {
            "needs_background": "light"
          },
          "output_type": "display_data"
        }
      ],
      "source": [
        "data['price'].plot(\n",
        "    figsize=(10,7),kind='hist', bins=100, title='Гистограмма цен товара')\n",
        "plt.xlabel('Цена товара')\n",
        "plt.ylabel('Частота')\n",
        "plt.show()"
      ]
    },
    {
      "cell_type": "code",
      "execution_count": null,
      "id": "60fd2525",
      "metadata": {
        "id": "60fd2525",
        "outputId": "2d7472fe-6e85-4e64-8928-43eee64f722a"
      },
      "outputs": [
        {
          "data": {
            "text/html": [
              "<div>\n",
              "<style scoped>\n",
              "    .dataframe tbody tr th:only-of-type {\n",
              "        vertical-align: middle;\n",
              "    }\n",
              "\n",
              "    .dataframe tbody tr th {\n",
              "        vertical-align: top;\n",
              "    }\n",
              "\n",
              "    .dataframe thead th {\n",
              "        text-align: right;\n",
              "    }\n",
              "</style>\n",
              "<table border=\"1\" class=\"dataframe\">\n",
              "  <thead>\n",
              "    <tr style=\"text-align: right;\">\n",
              "      <th></th>\n",
              "      <th>date</th>\n",
              "      <th>customer_id</th>\n",
              "      <th>order_id</th>\n",
              "      <th>product</th>\n",
              "      <th>quantity</th>\n",
              "      <th>price</th>\n",
              "    </tr>\n",
              "  </thead>\n",
              "  <tbody>\n",
              "    <tr>\n",
              "      <th>5717</th>\n",
              "      <td>2019-07-29</td>\n",
              "      <td>0d87f4ae-465a-4fac-81e6-5d629761783e</td>\n",
              "      <td>72139</td>\n",
              "      <td>Сушилка уличная Leifheit 85210 LINOMATIC V 400...</td>\n",
              "      <td>1</td>\n",
              "      <td>14917.0</td>\n",
              "    </tr>\n",
              "    <tr>\n",
              "      <th>2509</th>\n",
              "      <td>2019-04-05</td>\n",
              "      <td>c0c60544-3a99-49d0-8a8e-cf7f293c22cb</td>\n",
              "      <td>71035</td>\n",
              "      <td>Сумка-тележка хозяйственная Andersen Royal Sho...</td>\n",
              "      <td>1</td>\n",
              "      <td>8737.0</td>\n",
              "    </tr>\n",
              "    <tr>\n",
              "      <th>1849</th>\n",
              "      <td>2019-02-24</td>\n",
              "      <td>ac250053-a236-467a-97d2-ddbb9bf4a1ba</td>\n",
              "      <td>70423</td>\n",
              "      <td>Сумка-тележка хозяйственная Andersen Alu Star ...</td>\n",
              "      <td>1</td>\n",
              "      <td>8437.0</td>\n",
              "    </tr>\n",
              "    <tr>\n",
              "      <th>2793</th>\n",
              "      <td>2019-04-21</td>\n",
              "      <td>19d904d8-8d16-476d-8f66-b2a3b7a23660</td>\n",
              "      <td>71227</td>\n",
              "      <td>Сумка-тележка хозяйственная Rolser MNB019 rojo...</td>\n",
              "      <td>1</td>\n",
              "      <td>8077.0</td>\n",
              "    </tr>\n",
              "    <tr>\n",
              "      <th>6321</th>\n",
              "      <td>2019-10-16</td>\n",
              "      <td>d5584388-ffbe-42fd-a746-a98828ec919f</td>\n",
              "      <td>72992</td>\n",
              "      <td>Стремянка 7 ступенчатая Hailo 8040-707 XXL 13 ...</td>\n",
              "      <td>1</td>\n",
              "      <td>7724.0</td>\n",
              "    </tr>\n",
              "    <tr>\n",
              "      <th>5719</th>\n",
              "      <td>2019-07-30</td>\n",
              "      <td>e2fe6b48-1955-4882-925c-733f545df026</td>\n",
              "      <td>72140</td>\n",
              "      <td>Сумка-тележка хозяйственная Rolser MNB017 fucs...</td>\n",
              "      <td>1</td>\n",
              "      <td>7679.0</td>\n",
              "    </tr>\n",
              "    <tr>\n",
              "      <th>2183</th>\n",
              "      <td>2019-03-14</td>\n",
              "      <td>27d4ce42-352b-4756-bf5b-8724e05d5131</td>\n",
              "      <td>70740</td>\n",
              "      <td>Сумка-тележка хозяйственная Rolser IMX006 bass...</td>\n",
              "      <td>1</td>\n",
              "      <td>7679.0</td>\n",
              "    </tr>\n",
              "    <tr>\n",
              "      <th>610</th>\n",
              "      <td>2018-11-05</td>\n",
              "      <td>fc333417-1d11-4a2a-b946-0957ae0603e9</td>\n",
              "      <td>68872</td>\n",
              "      <td>Сумка-тележка хозяйственная Rolser MOU041 malv...</td>\n",
              "      <td>1</td>\n",
              "      <td>7597.0</td>\n",
              "    </tr>\n",
              "    <tr>\n",
              "      <th>1158</th>\n",
              "      <td>2018-12-17</td>\n",
              "      <td>86c97bf1-c834-423e-9e38-8acda68f97e8</td>\n",
              "      <td>69417</td>\n",
              "      <td>Гладильная доска Leifheit AirBoard Compact M P...</td>\n",
              "      <td>1</td>\n",
              "      <td>7424.0</td>\n",
              "    </tr>\n",
              "    <tr>\n",
              "      <th>5888</th>\n",
              "      <td>2019-08-23</td>\n",
              "      <td>8d85f320-5f55-4647-814c-da1a6b21c2a4</td>\n",
              "      <td>72381</td>\n",
              "      <td>Урна уличная стальная Сальвадор 02.021.0 46х11...</td>\n",
              "      <td>1</td>\n",
              "      <td>7349.0</td>\n",
              "    </tr>\n",
              "  </tbody>\n",
              "</table>\n",
              "</div>"
            ],
            "text/plain": [
              "            date                           customer_id  order_id  \\\n",
              "5717  2019-07-29  0d87f4ae-465a-4fac-81e6-5d629761783e     72139   \n",
              "2509  2019-04-05  c0c60544-3a99-49d0-8a8e-cf7f293c22cb     71035   \n",
              "1849  2019-02-24  ac250053-a236-467a-97d2-ddbb9bf4a1ba     70423   \n",
              "2793  2019-04-21  19d904d8-8d16-476d-8f66-b2a3b7a23660     71227   \n",
              "6321  2019-10-16  d5584388-ffbe-42fd-a746-a98828ec919f     72992   \n",
              "5719  2019-07-30  e2fe6b48-1955-4882-925c-733f545df026     72140   \n",
              "2183  2019-03-14  27d4ce42-352b-4756-bf5b-8724e05d5131     70740   \n",
              "610   2018-11-05  fc333417-1d11-4a2a-b946-0957ae0603e9     68872   \n",
              "1158  2018-12-17  86c97bf1-c834-423e-9e38-8acda68f97e8     69417   \n",
              "5888  2019-08-23  8d85f320-5f55-4647-814c-da1a6b21c2a4     72381   \n",
              "\n",
              "                                                product  quantity    price  \n",
              "5717  Сушилка уличная Leifheit 85210 LINOMATIC V 400...         1  14917.0  \n",
              "2509  Сумка-тележка хозяйственная Andersen Royal Sho...         1   8737.0  \n",
              "1849  Сумка-тележка хозяйственная Andersen Alu Star ...         1   8437.0  \n",
              "2793  Сумка-тележка хозяйственная Rolser MNB019 rojo...         1   8077.0  \n",
              "6321  Стремянка 7 ступенчатая Hailo 8040-707 XXL 13 ...         1   7724.0  \n",
              "5719  Сумка-тележка хозяйственная Rolser MNB017 fucs...         1   7679.0  \n",
              "2183  Сумка-тележка хозяйственная Rolser IMX006 bass...         1   7679.0  \n",
              "610   Сумка-тележка хозяйственная Rolser MOU041 malv...         1   7597.0  \n",
              "1158  Гладильная доска Leifheit AirBoard Compact M P...         1   7424.0  \n",
              "5888  Урна уличная стальная Сальвадор 02.021.0 46х11...         1   7349.0  "
            ]
          },
          "execution_count": 14,
          "metadata": {},
          "output_type": "execute_result"
        }
      ],
      "source": [
        "data[data['price']>3000].sort_values(by='price', ascending=False).head(10)"
      ]
    },
    {
      "cell_type": "markdown",
      "id": "d5b94d71",
      "metadata": {
        "id": "d5b94d71"
      },
      "source": [
        "Аномалий по цене не выявлено."
      ]
    },
    {
      "cell_type": "code",
      "execution_count": null,
      "id": "1c6f4e15",
      "metadata": {
        "id": "1c6f4e15",
        "outputId": "c9195d42-f12d-4bc4-edc7-e6453c6a576a"
      },
      "outputs": [
        {
          "data": {
            "text/plain": [
              "950"
            ]
          },
          "execution_count": 15,
          "metadata": {},
          "output_type": "execute_result"
        }
      ],
      "source": [
        "# Проверим дубликаты:\n",
        "data.duplicated().sum()"
      ]
    },
    {
      "cell_type": "code",
      "execution_count": null,
      "id": "739e381c",
      "metadata": {
        "id": "739e381c",
        "outputId": "768e2f2c-d3df-409c-e8c6-3379de3f7503"
      },
      "outputs": [
        {
          "data": {
            "text/html": [
              "<div>\n",
              "<style scoped>\n",
              "    .dataframe tbody tr th:only-of-type {\n",
              "        vertical-align: middle;\n",
              "    }\n",
              "\n",
              "    .dataframe tbody tr th {\n",
              "        vertical-align: top;\n",
              "    }\n",
              "\n",
              "    .dataframe thead th {\n",
              "        text-align: right;\n",
              "    }\n",
              "</style>\n",
              "<table border=\"1\" class=\"dataframe\">\n",
              "  <thead>\n",
              "    <tr style=\"text-align: right;\">\n",
              "      <th></th>\n",
              "      <th>date</th>\n",
              "      <th>customer_id</th>\n",
              "      <th>order_id</th>\n",
              "      <th>product</th>\n",
              "      <th>quantity</th>\n",
              "      <th>price</th>\n",
              "    </tr>\n",
              "  </thead>\n",
              "  <tbody>\n",
              "    <tr>\n",
              "      <th>53</th>\n",
              "      <td>2018-10-02</td>\n",
              "      <td>b731df05-98fa-4610-8496-716ec530a02c</td>\n",
              "      <td>68474</td>\n",
              "      <td>Доска гладильная Eurogold Professional 130х48 ...</td>\n",
              "      <td>1</td>\n",
              "      <td>3299.0</td>\n",
              "    </tr>\n",
              "    <tr>\n",
              "      <th>54</th>\n",
              "      <td>2018-10-02</td>\n",
              "      <td>b731df05-98fa-4610-8496-716ec530a02c</td>\n",
              "      <td>68474</td>\n",
              "      <td>Доска гладильная Eurogold Professional 130х48 ...</td>\n",
              "      <td>1</td>\n",
              "      <td>3299.0</td>\n",
              "    </tr>\n",
              "    <tr>\n",
              "      <th>55</th>\n",
              "      <td>2018-10-02</td>\n",
              "      <td>b731df05-98fa-4610-8496-716ec530a02c</td>\n",
              "      <td>68474</td>\n",
              "      <td>Доска гладильная Eurogold Professional 130х48 ...</td>\n",
              "      <td>1</td>\n",
              "      <td>3299.0</td>\n",
              "    </tr>\n",
              "    <tr>\n",
              "      <th>74</th>\n",
              "      <td>2018-10-04</td>\n",
              "      <td>32de7df8-8d4f-4c84-a7b9-c41d00dd83ba</td>\n",
              "      <td>68522</td>\n",
              "      <td>Эвкалипт Гунни d-17 см h-60 см</td>\n",
              "      <td>1</td>\n",
              "      <td>1409.0</td>\n",
              "    </tr>\n",
              "    <tr>\n",
              "      <th>87</th>\n",
              "      <td>2018-10-04</td>\n",
              "      <td>32de7df8-8d4f-4c84-a7b9-c41d00dd83ba</td>\n",
              "      <td>68522</td>\n",
              "      <td>Эвкалипт Гунни d-17 см h-60 см</td>\n",
              "      <td>1</td>\n",
              "      <td>1409.0</td>\n",
              "    </tr>\n",
              "  </tbody>\n",
              "</table>\n",
              "</div>"
            ],
            "text/plain": [
              "          date                           customer_id  order_id  \\\n",
              "53  2018-10-02  b731df05-98fa-4610-8496-716ec530a02c     68474   \n",
              "54  2018-10-02  b731df05-98fa-4610-8496-716ec530a02c     68474   \n",
              "55  2018-10-02  b731df05-98fa-4610-8496-716ec530a02c     68474   \n",
              "74  2018-10-04  32de7df8-8d4f-4c84-a7b9-c41d00dd83ba     68522   \n",
              "87  2018-10-04  32de7df8-8d4f-4c84-a7b9-c41d00dd83ba     68522   \n",
              "\n",
              "                                              product  quantity   price  \n",
              "53  Доска гладильная Eurogold Professional 130х48 ...         1  3299.0  \n",
              "54  Доска гладильная Eurogold Professional 130х48 ...         1  3299.0  \n",
              "55  Доска гладильная Eurogold Professional 130х48 ...         1  3299.0  \n",
              "74                     Эвкалипт Гунни d-17 см h-60 см         1  1409.0  \n",
              "87                     Эвкалипт Гунни d-17 см h-60 см         1  1409.0  "
            ]
          },
          "execution_count": 16,
          "metadata": {},
          "output_type": "execute_result"
        }
      ],
      "source": [
        "data[data.duplicated(keep=False)].head()"
      ]
    },
    {
      "cell_type": "code",
      "execution_count": null,
      "id": "0cd09aa0",
      "metadata": {
        "id": "0cd09aa0",
        "outputId": "867f06e9-9b0d-44c0-ec3b-d283933c9010"
      },
      "outputs": [
        {
          "data": {
            "text/plain": [
              "2302"
            ]
          },
          "execution_count": 17,
          "metadata": {},
          "output_type": "execute_result"
        }
      ],
      "source": [
        "# Поищем скрытые дубликаты:\n",
        "data[['customer_id', 'order_id', 'product']].duplicated(keep=False).sum()"
      ]
    },
    {
      "cell_type": "markdown",
      "id": "b56529f4",
      "metadata": {
        "id": "b56529f4"
      },
      "source": [
        "Видим, что треть датасета - это дубликаты. Взглянем на них:"
      ]
    },
    {
      "cell_type": "code",
      "execution_count": null,
      "id": "f89502e2",
      "metadata": {
        "id": "f89502e2",
        "outputId": "bde06e8e-241a-4a62-c380-689d75905939"
      },
      "outputs": [
        {
          "data": {
            "text/html": [
              "<div>\n",
              "<style scoped>\n",
              "    .dataframe tbody tr th:only-of-type {\n",
              "        vertical-align: middle;\n",
              "    }\n",
              "\n",
              "    .dataframe tbody tr th {\n",
              "        vertical-align: top;\n",
              "    }\n",
              "\n",
              "    .dataframe thead th {\n",
              "        text-align: right;\n",
              "    }\n",
              "</style>\n",
              "<table border=\"1\" class=\"dataframe\">\n",
              "  <thead>\n",
              "    <tr style=\"text-align: right;\">\n",
              "      <th></th>\n",
              "      <th>date</th>\n",
              "      <th>customer_id</th>\n",
              "      <th>order_id</th>\n",
              "      <th>product</th>\n",
              "      <th>quantity</th>\n",
              "      <th>price</th>\n",
              "    </tr>\n",
              "  </thead>\n",
              "  <tbody>\n",
              "    <tr>\n",
              "      <th>13</th>\n",
              "      <td>2018-10-01</td>\n",
              "      <td>17213b88-1514-47a4-b8aa-ce51378ab34e</td>\n",
              "      <td>68476</td>\n",
              "      <td>Мини-сковорода Marmiton \"Сердце\" с антипригарн...</td>\n",
              "      <td>1</td>\n",
              "      <td>239.0</td>\n",
              "    </tr>\n",
              "    <tr>\n",
              "      <th>14</th>\n",
              "      <td>2018-10-01</td>\n",
              "      <td>17213b88-1514-47a4-b8aa-ce51378ab34e</td>\n",
              "      <td>68476</td>\n",
              "      <td>Сковорода алюминиевая с антипригарным покрытие...</td>\n",
              "      <td>1</td>\n",
              "      <td>824.0</td>\n",
              "    </tr>\n",
              "    <tr>\n",
              "      <th>15</th>\n",
              "      <td>2018-10-01</td>\n",
              "      <td>17213b88-1514-47a4-b8aa-ce51378ab34e</td>\n",
              "      <td>68476</td>\n",
              "      <td>Стеклянная крышка для сковороды ALPENKOK 26 см...</td>\n",
              "      <td>1</td>\n",
              "      <td>262.0</td>\n",
              "    </tr>\n",
              "    <tr>\n",
              "      <th>16</th>\n",
              "      <td>2018-10-01</td>\n",
              "      <td>17213b88-1514-47a4-b8aa-ce51378ab34e</td>\n",
              "      <td>68476</td>\n",
              "      <td>Сушилка для белья напольная Colombo Star 18, 3679</td>\n",
              "      <td>1</td>\n",
              "      <td>1049.0</td>\n",
              "    </tr>\n",
              "    <tr>\n",
              "      <th>17</th>\n",
              "      <td>2018-10-01</td>\n",
              "      <td>b731df05-98fa-4610-8496-716ec530a02c</td>\n",
              "      <td>68474</td>\n",
              "      <td>Доска гладильная Eurogold Professional 130х48 ...</td>\n",
              "      <td>1</td>\n",
              "      <td>3299.0</td>\n",
              "    </tr>\n",
              "    <tr>\n",
              "      <th>...</th>\n",
              "      <td>...</td>\n",
              "      <td>...</td>\n",
              "      <td>...</td>\n",
              "      <td>...</td>\n",
              "      <td>...</td>\n",
              "      <td>...</td>\n",
              "    </tr>\n",
              "    <tr>\n",
              "      <th>6397</th>\n",
              "      <td>2019-10-30</td>\n",
              "      <td>ffaeab76-3a8d-49ee-860f-17273b2fc8a2</td>\n",
              "      <td>73136</td>\n",
              "      <td>Таз пластмассовый со стиральной доской (Иж), 1...</td>\n",
              "      <td>1</td>\n",
              "      <td>397.0</td>\n",
              "    </tr>\n",
              "    <tr>\n",
              "      <th>6398</th>\n",
              "      <td>2019-10-30</td>\n",
              "      <td>344aa778-e436-419e-a9c6-9b8f37b7c1df</td>\n",
              "      <td>73137</td>\n",
              "      <td>Сумка-тележка 2-х колесная Gimi Argo синяя</td>\n",
              "      <td>1</td>\n",
              "      <td>1087.0</td>\n",
              "    </tr>\n",
              "    <tr>\n",
              "      <th>6409</th>\n",
              "      <td>2019-10-31</td>\n",
              "      <td>ffaeab76-3a8d-49ee-860f-17273b2fc8a2</td>\n",
              "      <td>73136</td>\n",
              "      <td>Таз пластмассовый со стиральной доской (Иж), 1...</td>\n",
              "      <td>1</td>\n",
              "      <td>397.0</td>\n",
              "    </tr>\n",
              "    <tr>\n",
              "      <th>6410</th>\n",
              "      <td>2019-10-31</td>\n",
              "      <td>ffaeab76-3a8d-49ee-860f-17273b2fc8a2</td>\n",
              "      <td>73136</td>\n",
              "      <td>Таз пластмассовый со стиральной доской (Иж), 1...</td>\n",
              "      <td>1</td>\n",
              "      <td>397.0</td>\n",
              "    </tr>\n",
              "    <tr>\n",
              "      <th>6417</th>\n",
              "      <td>2019-10-31</td>\n",
              "      <td>344aa778-e436-419e-a9c6-9b8f37b7c1df</td>\n",
              "      <td>73137</td>\n",
              "      <td>Сумка-тележка 2-х колесная Gimi Argo синяя</td>\n",
              "      <td>1</td>\n",
              "      <td>1087.0</td>\n",
              "    </tr>\n",
              "  </tbody>\n",
              "</table>\n",
              "<p>2302 rows × 6 columns</p>\n",
              "</div>"
            ],
            "text/plain": [
              "            date                           customer_id  order_id  \\\n",
              "13    2018-10-01  17213b88-1514-47a4-b8aa-ce51378ab34e     68476   \n",
              "14    2018-10-01  17213b88-1514-47a4-b8aa-ce51378ab34e     68476   \n",
              "15    2018-10-01  17213b88-1514-47a4-b8aa-ce51378ab34e     68476   \n",
              "16    2018-10-01  17213b88-1514-47a4-b8aa-ce51378ab34e     68476   \n",
              "17    2018-10-01  b731df05-98fa-4610-8496-716ec530a02c     68474   \n",
              "...          ...                                   ...       ...   \n",
              "6397  2019-10-30  ffaeab76-3a8d-49ee-860f-17273b2fc8a2     73136   \n",
              "6398  2019-10-30  344aa778-e436-419e-a9c6-9b8f37b7c1df     73137   \n",
              "6409  2019-10-31  ffaeab76-3a8d-49ee-860f-17273b2fc8a2     73136   \n",
              "6410  2019-10-31  ffaeab76-3a8d-49ee-860f-17273b2fc8a2     73136   \n",
              "6417  2019-10-31  344aa778-e436-419e-a9c6-9b8f37b7c1df     73137   \n",
              "\n",
              "                                                product  quantity   price  \n",
              "13    Мини-сковорода Marmiton \"Сердце\" с антипригарн...         1   239.0  \n",
              "14    Сковорода алюминиевая с антипригарным покрытие...         1   824.0  \n",
              "15    Стеклянная крышка для сковороды ALPENKOK 26 см...         1   262.0  \n",
              "16    Сушилка для белья напольная Colombo Star 18, 3679         1  1049.0  \n",
              "17    Доска гладильная Eurogold Professional 130х48 ...         1  3299.0  \n",
              "...                                                 ...       ...     ...  \n",
              "6397  Таз пластмассовый со стиральной доской (Иж), 1...         1   397.0  \n",
              "6398         Сумка-тележка 2-х колесная Gimi Argo синяя         1  1087.0  \n",
              "6409  Таз пластмассовый со стиральной доской (Иж), 1...         1   397.0  \n",
              "6410  Таз пластмассовый со стиральной доской (Иж), 1...         1   397.0  \n",
              "6417         Сумка-тележка 2-х колесная Gimi Argo синяя         1  1087.0  \n",
              "\n",
              "[2302 rows x 6 columns]"
            ]
          },
          "execution_count": 18,
          "metadata": {},
          "output_type": "execute_result"
        }
      ],
      "source": [
        "data[data[['customer_id', 'order_id', 'product']].duplicated(keep=False)]"
      ]
    },
    {
      "cell_type": "code",
      "execution_count": null,
      "id": "21e93547",
      "metadata": {
        "id": "21e93547",
        "outputId": "31a2e579-a929-4723-e094-b5222cbfb2d5"
      },
      "outputs": [
        {
          "data": {
            "text/html": [
              "<div>\n",
              "<style scoped>\n",
              "    .dataframe tbody tr th:only-of-type {\n",
              "        vertical-align: middle;\n",
              "    }\n",
              "\n",
              "    .dataframe tbody tr th {\n",
              "        vertical-align: top;\n",
              "    }\n",
              "\n",
              "    .dataframe thead th {\n",
              "        text-align: right;\n",
              "    }\n",
              "</style>\n",
              "<table border=\"1\" class=\"dataframe\">\n",
              "  <thead>\n",
              "    <tr style=\"text-align: right;\">\n",
              "      <th></th>\n",
              "      <th>date</th>\n",
              "      <th>customer_id</th>\n",
              "      <th>order_id</th>\n",
              "      <th>product</th>\n",
              "      <th>quantity</th>\n",
              "      <th>price</th>\n",
              "    </tr>\n",
              "  </thead>\n",
              "  <tbody>\n",
              "    <tr>\n",
              "      <th>13</th>\n",
              "      <td>2018-10-01</td>\n",
              "      <td>17213b88-1514-47a4-b8aa-ce51378ab34e</td>\n",
              "      <td>68476</td>\n",
              "      <td>Мини-сковорода Marmiton \"Сердце\" с антипригарн...</td>\n",
              "      <td>1</td>\n",
              "      <td>239.0</td>\n",
              "    </tr>\n",
              "    <tr>\n",
              "      <th>14</th>\n",
              "      <td>2018-10-01</td>\n",
              "      <td>17213b88-1514-47a4-b8aa-ce51378ab34e</td>\n",
              "      <td>68476</td>\n",
              "      <td>Сковорода алюминиевая с антипригарным покрытие...</td>\n",
              "      <td>1</td>\n",
              "      <td>824.0</td>\n",
              "    </tr>\n",
              "    <tr>\n",
              "      <th>15</th>\n",
              "      <td>2018-10-01</td>\n",
              "      <td>17213b88-1514-47a4-b8aa-ce51378ab34e</td>\n",
              "      <td>68476</td>\n",
              "      <td>Стеклянная крышка для сковороды ALPENKOK 26 см...</td>\n",
              "      <td>1</td>\n",
              "      <td>262.0</td>\n",
              "    </tr>\n",
              "    <tr>\n",
              "      <th>16</th>\n",
              "      <td>2018-10-01</td>\n",
              "      <td>17213b88-1514-47a4-b8aa-ce51378ab34e</td>\n",
              "      <td>68476</td>\n",
              "      <td>Сушилка для белья напольная Colombo Star 18, 3679</td>\n",
              "      <td>1</td>\n",
              "      <td>1049.0</td>\n",
              "    </tr>\n",
              "    <tr>\n",
              "      <th>250</th>\n",
              "      <td>2018-10-16</td>\n",
              "      <td>17213b88-1514-47a4-b8aa-ce51378ab34e</td>\n",
              "      <td>68476</td>\n",
              "      <td>Мини-сковорода Marmiton \"Сердце\" с антипригарн...</td>\n",
              "      <td>1</td>\n",
              "      <td>239.0</td>\n",
              "    </tr>\n",
              "    <tr>\n",
              "      <th>251</th>\n",
              "      <td>2018-10-16</td>\n",
              "      <td>17213b88-1514-47a4-b8aa-ce51378ab34e</td>\n",
              "      <td>68476</td>\n",
              "      <td>Сковорода алюминиевая с антипригарным покрытие...</td>\n",
              "      <td>1</td>\n",
              "      <td>824.0</td>\n",
              "    </tr>\n",
              "    <tr>\n",
              "      <th>252</th>\n",
              "      <td>2018-10-16</td>\n",
              "      <td>17213b88-1514-47a4-b8aa-ce51378ab34e</td>\n",
              "      <td>68476</td>\n",
              "      <td>Стеклянная крышка для сковороды ALPENKOK 26 см...</td>\n",
              "      <td>1</td>\n",
              "      <td>262.0</td>\n",
              "    </tr>\n",
              "    <tr>\n",
              "      <th>253</th>\n",
              "      <td>2018-10-16</td>\n",
              "      <td>17213b88-1514-47a4-b8aa-ce51378ab34e</td>\n",
              "      <td>68476</td>\n",
              "      <td>Сушилка для белья напольная Colombo Star 18, 3679</td>\n",
              "      <td>1</td>\n",
              "      <td>1049.0</td>\n",
              "    </tr>\n",
              "  </tbody>\n",
              "</table>\n",
              "</div>"
            ],
            "text/plain": [
              "           date                           customer_id  order_id  \\\n",
              "13   2018-10-01  17213b88-1514-47a4-b8aa-ce51378ab34e     68476   \n",
              "14   2018-10-01  17213b88-1514-47a4-b8aa-ce51378ab34e     68476   \n",
              "15   2018-10-01  17213b88-1514-47a4-b8aa-ce51378ab34e     68476   \n",
              "16   2018-10-01  17213b88-1514-47a4-b8aa-ce51378ab34e     68476   \n",
              "250  2018-10-16  17213b88-1514-47a4-b8aa-ce51378ab34e     68476   \n",
              "251  2018-10-16  17213b88-1514-47a4-b8aa-ce51378ab34e     68476   \n",
              "252  2018-10-16  17213b88-1514-47a4-b8aa-ce51378ab34e     68476   \n",
              "253  2018-10-16  17213b88-1514-47a4-b8aa-ce51378ab34e     68476   \n",
              "\n",
              "                                               product  quantity   price  \n",
              "13   Мини-сковорода Marmiton \"Сердце\" с антипригарн...         1   239.0  \n",
              "14   Сковорода алюминиевая с антипригарным покрытие...         1   824.0  \n",
              "15   Стеклянная крышка для сковороды ALPENKOK 26 см...         1   262.0  \n",
              "16   Сушилка для белья напольная Colombo Star 18, 3679         1  1049.0  \n",
              "250  Мини-сковорода Marmiton \"Сердце\" с антипригарн...         1   239.0  \n",
              "251  Сковорода алюминиевая с антипригарным покрытие...         1   824.0  \n",
              "252  Стеклянная крышка для сковороды ALPENKOK 26 см...         1   262.0  \n",
              "253  Сушилка для белья напольная Colombo Star 18, 3679         1  1049.0  "
            ]
          },
          "execution_count": 19,
          "metadata": {},
          "output_type": "execute_result"
        }
      ],
      "source": [
        "# Посмотрим на примере мини-сковороды (строка с индексом 15), как дублируются товары:\n",
        "data[data['customer_id']==data['customer_id'][15]]"
      ]
    },
    {
      "cell_type": "markdown",
      "id": "02dfb1c9",
      "metadata": {
        "id": "02dfb1c9"
      },
      "source": [
        "Видим, что у нас повторяется id покупателя и заказа, а также товар. Предполагаем, что это был сбой в системе, т.к. если бы человек хотел два раза купить один и тот же товар, то `order_id` должен был бы отличаться.\n",
        "Поэтому удалим все дубликаты, оставив только последний дубликат `keep='last'` в надежде, что последняя попытка покупки была удачной."
      ]
    },
    {
      "cell_type": "code",
      "execution_count": null,
      "id": "92a80ef8",
      "metadata": {
        "id": "92a80ef8",
        "outputId": "481e0aff-e76a-4039-979a-3eff88430d1e"
      },
      "outputs": [
        {
          "data": {
            "text/html": [
              "<div>\n",
              "<style scoped>\n",
              "    .dataframe tbody tr th:only-of-type {\n",
              "        vertical-align: middle;\n",
              "    }\n",
              "\n",
              "    .dataframe tbody tr th {\n",
              "        vertical-align: top;\n",
              "    }\n",
              "\n",
              "    .dataframe thead th {\n",
              "        text-align: right;\n",
              "    }\n",
              "</style>\n",
              "<table border=\"1\" class=\"dataframe\">\n",
              "  <thead>\n",
              "    <tr style=\"text-align: right;\">\n",
              "      <th></th>\n",
              "      <th>date</th>\n",
              "      <th>customer_id</th>\n",
              "      <th>order_id</th>\n",
              "      <th>product</th>\n",
              "      <th>quantity</th>\n",
              "      <th>price</th>\n",
              "    </tr>\n",
              "  </thead>\n",
              "  <tbody>\n",
              "    <tr>\n",
              "      <th>0</th>\n",
              "      <td>2018-10-01</td>\n",
              "      <td>ee47d746-6d2f-4d3c-9622-c31412542920</td>\n",
              "      <td>68477</td>\n",
              "      <td>Комнатное растение в горшке Алое Вера, d12, h30</td>\n",
              "      <td>1</td>\n",
              "      <td>142.0</td>\n",
              "    </tr>\n",
              "    <tr>\n",
              "      <th>1</th>\n",
              "      <td>2018-10-01</td>\n",
              "      <td>ee47d746-6d2f-4d3c-9622-c31412542920</td>\n",
              "      <td>68477</td>\n",
              "      <td>Комнатное растение в горшке Кофе Арабика, d12,...</td>\n",
              "      <td>1</td>\n",
              "      <td>194.0</td>\n",
              "    </tr>\n",
              "    <tr>\n",
              "      <th>2</th>\n",
              "      <td>2018-10-01</td>\n",
              "      <td>ee47d746-6d2f-4d3c-9622-c31412542920</td>\n",
              "      <td>68477</td>\n",
              "      <td>Радермахера d-12 см h-20 см</td>\n",
              "      <td>1</td>\n",
              "      <td>112.0</td>\n",
              "    </tr>\n",
              "    <tr>\n",
              "      <th>3</th>\n",
              "      <td>2018-10-01</td>\n",
              "      <td>ee47d746-6d2f-4d3c-9622-c31412542920</td>\n",
              "      <td>68477</td>\n",
              "      <td>Хризолидокарпус Лутесценс d-9 см</td>\n",
              "      <td>1</td>\n",
              "      <td>179.0</td>\n",
              "    </tr>\n",
              "    <tr>\n",
              "      <th>4</th>\n",
              "      <td>2018-10-01</td>\n",
              "      <td>ee47d746-6d2f-4d3c-9622-c31412542920</td>\n",
              "      <td>68477</td>\n",
              "      <td>Циперус Зумула d-12 см h-25 см</td>\n",
              "      <td>1</td>\n",
              "      <td>112.0</td>\n",
              "    </tr>\n",
              "  </tbody>\n",
              "</table>\n",
              "</div>"
            ],
            "text/plain": [
              "         date                           customer_id  order_id  \\\n",
              "0  2018-10-01  ee47d746-6d2f-4d3c-9622-c31412542920     68477   \n",
              "1  2018-10-01  ee47d746-6d2f-4d3c-9622-c31412542920     68477   \n",
              "2  2018-10-01  ee47d746-6d2f-4d3c-9622-c31412542920     68477   \n",
              "3  2018-10-01  ee47d746-6d2f-4d3c-9622-c31412542920     68477   \n",
              "4  2018-10-01  ee47d746-6d2f-4d3c-9622-c31412542920     68477   \n",
              "\n",
              "                                             product  quantity  price  \n",
              "0    Комнатное растение в горшке Алое Вера, d12, h30         1  142.0  \n",
              "1  Комнатное растение в горшке Кофе Арабика, d12,...         1  194.0  \n",
              "2                        Радермахера d-12 см h-20 см         1  112.0  \n",
              "3                   Хризолидокарпус Лутесценс d-9 см         1  179.0  \n",
              "4                     Циперус Зумула d-12 см h-25 см         1  112.0  "
            ]
          },
          "execution_count": 20,
          "metadata": {},
          "output_type": "execute_result"
        }
      ],
      "source": [
        "data = data.drop_duplicates(subset = ('customer_id', 'order_id', 'product'), keep='last').reset_index(drop=True)\n",
        "data.head()"
      ]
    },
    {
      "cell_type": "code",
      "execution_count": null,
      "id": "7385562f",
      "metadata": {
        "id": "7385562f",
        "outputId": "d04f54aa-213a-4e02-bc42-cd394d112372"
      },
      "outputs": [
        {
          "data": {
            "image/png": "[encoded data removed]",
            "text/plain": [
              "<Figure size 432x288 with 1 Axes>"
            ]
          },
          "metadata": {
            "needs_background": "light"
          },
          "output_type": "display_data"
        }
      ],
      "source": [
        "# Взглянем на распределение данных по дате:\n",
        "data['date'].hist(bins= 70)\n",
        "plt.xlabel('Дата')\n",
        "plt.ylabel('Частота')\n",
        "plt.title('Гистограмма по датам покупки товара')\n",
        "plt.show()"
      ]
    },
    {
      "cell_type": "markdown",
      "id": "f6e6d217",
      "metadata": {
        "id": "f6e6d217"
      },
      "source": [
        "Видим, что у нас данные с ноября 2018 года по ноябрь 2019 года, в мае всплеск заказов, а начало января - спад. Предполагаем, что в мае закупаются дачники."
      ]
    },
    {
      "cell_type": "code",
      "execution_count": null,
      "id": "af213a22",
      "metadata": {
        "id": "af213a22",
        "outputId": "edcfa933-81c8-4376-f470-66941f5e1b90"
      },
      "outputs": [
        {
          "data": {
            "image/png": "[encoded data removed]",
            "text/plain": [
              "<Figure size 432x288 with 2 Axes>"
            ]
          },
          "metadata": {
            "needs_background": "light"
          },
          "output_type": "display_data"
        }
      ],
      "source": [
        "# Посмотрим на корреляции в данных:\n",
        "cm = data.corr()\n",
        "sns.heatmap(cm, annot=True)\n",
        "\n",
        "plt.title('Тепловая карта')\n",
        "plt.show()"
      ]
    },
    {
      "cell_type": "markdown",
      "id": "f17eb1c2",
      "metadata": {
        "id": "f17eb1c2"
      },
      "source": [
        "Видим занятную слабую корреляцию между ценой и номером id заказа. По всем видимости, цена на товары росла в течение года."
      ]
    },
    {
      "cell_type": "code",
      "execution_count": null,
      "id": "653600e8",
      "metadata": {
        "id": "653600e8",
        "outputId": "0046e6e2-740c-4759-ebce-504337726b55"
      },
      "outputs": [
        {
          "data": {
            "text/plain": [
              "order_id\n",
              "14698    51\n",
              "14715    36\n",
              "14688    31\n",
              "14753    30\n",
              "14835    29\n",
              "         ..\n",
              "70079     1\n",
              "70078     1\n",
              "70077     1\n",
              "70075     1\n",
              "73164     1\n",
              "Name: customer_id, Length: 2565, dtype: int64"
            ]
          },
          "execution_count": 23,
          "metadata": {},
          "output_type": "execute_result"
        }
      ],
      "source": [
        "data.groupby('order_id')['customer_id'].count().sort_values(ascending=False)"
      ]
    },
    {
      "cell_type": "markdown",
      "id": "2b709678",
      "metadata": {
        "id": "2b709678"
      },
      "source": [
        "Вероятно, это сбой в системе: один заказ не может быть совершен нексолькими пользователями. Посмотрим на эти заказы:"
      ]
    },
    {
      "cell_type": "code",
      "execution_count": null,
      "id": "6aa1a5b8",
      "metadata": {
        "id": "6aa1a5b8",
        "outputId": "49bb2a91-42f1-4f93-8305-aea2bfdc8539"
      },
      "outputs": [
        {
          "data": {
            "text/plain": [
              "order_id\n",
              "14872    True\n",
              "68785    True\n",
              "69283    True\n",
              "69345    True\n",
              "69410    True\n",
              "69485    True\n",
              "69531    True\n",
              "69833    True\n",
              "70542    True\n",
              "70631    True\n",
              "70726    True\n",
              "70808    True\n",
              "70903    True\n",
              "70946    True\n",
              "71226    True\n",
              "71461    True\n",
              "71480    True\n",
              "71542    True\n",
              "71571    True\n",
              "71648    True\n",
              "71663    True\n",
              "72188    True\n",
              "72778    True\n",
              "72790    True\n",
              "72950    True\n",
              "Name: customer_id, dtype: bool"
            ]
          },
          "execution_count": 24,
          "metadata": {},
          "output_type": "execute_result"
        }
      ],
      "source": [
        "# Создадим временный датасет, куда запишем заказы, совершенные 2 и более пользователями:\n",
        "t=data.groupby('order_id')['customer_id'].nunique() > 1\n",
        "t=t[t==True]\n",
        "t"
      ]
    },
    {
      "cell_type": "code",
      "execution_count": null,
      "id": "d9f23fd2",
      "metadata": {
        "id": "d9f23fd2",
        "outputId": "1a80dc8a-ef56-4133-cbf6-a435893a14b2"
      },
      "outputs": [
        {
          "data": {
            "text/html": [
              "<div>\n",
              "<style scoped>\n",
              "    .dataframe tbody tr th:only-of-type {\n",
              "        vertical-align: middle;\n",
              "    }\n",
              "\n",
              "    .dataframe tbody tr th {\n",
              "        vertical-align: top;\n",
              "    }\n",
              "\n",
              "    .dataframe thead th {\n",
              "        text-align: right;\n",
              "    }\n",
              "</style>\n",
              "<table border=\"1\" class=\"dataframe\">\n",
              "  <thead>\n",
              "    <tr style=\"text-align: right;\">\n",
              "      <th></th>\n",
              "      <th>date</th>\n",
              "      <th>customer_id</th>\n",
              "      <th>order_id</th>\n",
              "      <th>product</th>\n",
              "      <th>quantity</th>\n",
              "      <th>price</th>\n",
              "    </tr>\n",
              "  </thead>\n",
              "  <tbody>\n",
              "    <tr>\n",
              "      <th>404</th>\n",
              "      <td>2018-10-28</td>\n",
              "      <td>0b5ce2c7-acef-4a9a-b821-61a44ed05557</td>\n",
              "      <td>68785</td>\n",
              "      <td>Сиденье в ванну раздвижное, белый, СВ5, НИКА</td>\n",
              "      <td>1</td>\n",
              "      <td>374.0</td>\n",
              "    </tr>\n",
              "    <tr>\n",
              "      <th>428</th>\n",
              "      <td>2018-10-30</td>\n",
              "      <td>c1dd5c0e-51db-4a5d-91a3-5374cb20043d</td>\n",
              "      <td>68785</td>\n",
              "      <td>Сиденье в ванну раздвижное, белый, СВ5, НИКА</td>\n",
              "      <td>1</td>\n",
              "      <td>374.0</td>\n",
              "    </tr>\n",
              "    <tr>\n",
              "      <th>941</th>\n",
              "      <td>2018-12-10</td>\n",
              "      <td>2f955596-4b13-432e-93f3-6433395aafe6</td>\n",
              "      <td>69283</td>\n",
              "      <td>Сушилка для белья на батарею НИКА СБ6-65 двухъ...</td>\n",
              "      <td>1</td>\n",
              "      <td>164.0</td>\n",
              "    </tr>\n",
              "    <tr>\n",
              "      <th>946</th>\n",
              "      <td>2018-12-10</td>\n",
              "      <td>e3805ccd-2d64-4d0e-92dd-902293555c35</td>\n",
              "      <td>69283</td>\n",
              "      <td>Сушилка для белья на батарею НИКА СБ6-65 двухъ...</td>\n",
              "      <td>1</td>\n",
              "      <td>164.0</td>\n",
              "    </tr>\n",
              "    <tr>\n",
              "      <th>977</th>\n",
              "      <td>2018-12-13</td>\n",
              "      <td>70d60304-4b3c-4f34-9430-1872ec6e6309</td>\n",
              "      <td>69345</td>\n",
              "      <td>Сушилка для белья Attribute ПРИМА 18 м синяя A...</td>\n",
              "      <td>1</td>\n",
              "      <td>974.0</td>\n",
              "    </tr>\n",
              "    <tr>\n",
              "      <th>988</th>\n",
              "      <td>2018-12-15</td>\n",
              "      <td>22e4d79f-3613-4c22-8b01-7f880120bf5a</td>\n",
              "      <td>69345</td>\n",
              "      <td>Сушилка для белья Attribute ПРИМА 18 м синяя A...</td>\n",
              "      <td>1</td>\n",
              "      <td>974.0</td>\n",
              "    </tr>\n",
              "    <tr>\n",
              "      <th>1008</th>\n",
              "      <td>2018-12-17</td>\n",
              "      <td>4ea06f66-0876-4dec-8d14-ea994ffe435f</td>\n",
              "      <td>69410</td>\n",
              "      <td>Муляж Желудь 2 шт</td>\n",
              "      <td>3</td>\n",
              "      <td>22.0</td>\n",
              "    </tr>\n",
              "    <tr>\n",
              "      <th>1026</th>\n",
              "      <td>2018-12-18</td>\n",
              "      <td>caaa3f41-c9ab-4e3d-8b75-94e1d3a8d7b4</td>\n",
              "      <td>69410</td>\n",
              "      <td>Муляж Желудь 2 шт</td>\n",
              "      <td>3</td>\n",
              "      <td>22.0</td>\n",
              "    </tr>\n",
              "    <tr>\n",
              "      <th>1046</th>\n",
              "      <td>2018-12-20</td>\n",
              "      <td>5be0f4b4-947f-4672-b147-73ef5936ecd4</td>\n",
              "      <td>69485</td>\n",
              "      <td>Набор столовых приборов 24 предмета SAINT GERM...</td>\n",
              "      <td>1</td>\n",
              "      <td>1087.0</td>\n",
              "    </tr>\n",
              "    <tr>\n",
              "      <th>1055</th>\n",
              "      <td>2018-12-21</td>\n",
              "      <td>266beb08-ec9b-43b4-89bb-ac60fa23ffee</td>\n",
              "      <td>69485</td>\n",
              "      <td>Набор столовых приборов 24 предмета FARANDOLE ...</td>\n",
              "      <td>1</td>\n",
              "      <td>1274.0</td>\n",
              "    </tr>\n",
              "  </tbody>\n",
              "</table>\n",
              "</div>"
            ],
            "text/plain": [
              "            date                           customer_id  order_id  \\\n",
              "404   2018-10-28  0b5ce2c7-acef-4a9a-b821-61a44ed05557     68785   \n",
              "428   2018-10-30  c1dd5c0e-51db-4a5d-91a3-5374cb20043d     68785   \n",
              "941   2018-12-10  2f955596-4b13-432e-93f3-6433395aafe6     69283   \n",
              "946   2018-12-10  e3805ccd-2d64-4d0e-92dd-902293555c35     69283   \n",
              "977   2018-12-13  70d60304-4b3c-4f34-9430-1872ec6e6309     69345   \n",
              "988   2018-12-15  22e4d79f-3613-4c22-8b01-7f880120bf5a     69345   \n",
              "1008  2018-12-17  4ea06f66-0876-4dec-8d14-ea994ffe435f     69410   \n",
              "1026  2018-12-18  caaa3f41-c9ab-4e3d-8b75-94e1d3a8d7b4     69410   \n",
              "1046  2018-12-20  5be0f4b4-947f-4672-b147-73ef5936ecd4     69485   \n",
              "1055  2018-12-21  266beb08-ec9b-43b4-89bb-ac60fa23ffee     69485   \n",
              "\n",
              "                                                product  quantity   price  \n",
              "404        Сиденье в ванну раздвижное, белый, СВ5, НИКА         1   374.0  \n",
              "428        Сиденье в ванну раздвижное, белый, СВ5, НИКА         1   374.0  \n",
              "941   Сушилка для белья на батарею НИКА СБ6-65 двухъ...         1   164.0  \n",
              "946   Сушилка для белья на батарею НИКА СБ6-65 двухъ...         1   164.0  \n",
              "977   Сушилка для белья Attribute ПРИМА 18 м синяя A...         1   974.0  \n",
              "988   Сушилка для белья Attribute ПРИМА 18 м синяя A...         1   974.0  \n",
              "1008                                  Муляж Желудь 2 шт         3    22.0  \n",
              "1026                                  Муляж Желудь 2 шт         3    22.0  \n",
              "1046  Набор столовых приборов 24 предмета SAINT GERM...         1  1087.0  \n",
              "1055  Набор столовых приборов 24 предмета FARANDOLE ...         1  1274.0  "
            ]
          },
          "execution_count": 25,
          "metadata": {},
          "output_type": "execute_result"
        }
      ],
      "source": [
        "# взглянем на эти заказы:\n",
        "data.query('order_id in @t.index').head(10)"
      ]
    },
    {
      "cell_type": "markdown",
      "id": "ac7fe1db",
      "metadata": {
        "id": "ac7fe1db"
      },
      "source": [
        "Видим, что один заказ совершили разные пользователи, но купили один и тот же продукт. Скорей всего - это был один пользователь, который или зашел с разных устройств или был сбой в системе."
      ]
    },
    {
      "cell_type": "code",
      "execution_count": null,
      "id": "1e79acf1",
      "metadata": {
        "id": "1e79acf1",
        "outputId": "ca04eac5-cd40-4410-ed4f-18c94791690f"
      },
      "outputs": [
        {
          "data": {
            "text/html": [
              "<div>\n",
              "<style scoped>\n",
              "    .dataframe tbody tr th:only-of-type {\n",
              "        vertical-align: middle;\n",
              "    }\n",
              "\n",
              "    .dataframe tbody tr th {\n",
              "        vertical-align: top;\n",
              "    }\n",
              "\n",
              "    .dataframe thead th {\n",
              "        text-align: right;\n",
              "    }\n",
              "</style>\n",
              "<table border=\"1\" class=\"dataframe\">\n",
              "  <thead>\n",
              "    <tr style=\"text-align: right;\">\n",
              "      <th></th>\n",
              "      <th>date</th>\n",
              "      <th>customer_id</th>\n",
              "      <th>order_id</th>\n",
              "      <th>product</th>\n",
              "      <th>quantity</th>\n",
              "      <th>price</th>\n",
              "    </tr>\n",
              "  </thead>\n",
              "  <tbody>\n",
              "    <tr>\n",
              "      <th>0</th>\n",
              "      <td>2018-10-01</td>\n",
              "      <td>ee47d746-6d2f-4d3c-9622-c31412542920</td>\n",
              "      <td>68477</td>\n",
              "      <td>Комнатное растение в горшке Алое Вера, d12, h30</td>\n",
              "      <td>1</td>\n",
              "      <td>142.0</td>\n",
              "    </tr>\n",
              "    <tr>\n",
              "      <th>1</th>\n",
              "      <td>2018-10-01</td>\n",
              "      <td>ee47d746-6d2f-4d3c-9622-c31412542920</td>\n",
              "      <td>68477</td>\n",
              "      <td>Комнатное растение в горшке Кофе Арабика, d12,...</td>\n",
              "      <td>1</td>\n",
              "      <td>194.0</td>\n",
              "    </tr>\n",
              "    <tr>\n",
              "      <th>2</th>\n",
              "      <td>2018-10-01</td>\n",
              "      <td>ee47d746-6d2f-4d3c-9622-c31412542920</td>\n",
              "      <td>68477</td>\n",
              "      <td>Радермахера d-12 см h-20 см</td>\n",
              "      <td>1</td>\n",
              "      <td>112.0</td>\n",
              "    </tr>\n",
              "    <tr>\n",
              "      <th>3</th>\n",
              "      <td>2018-10-01</td>\n",
              "      <td>ee47d746-6d2f-4d3c-9622-c31412542920</td>\n",
              "      <td>68477</td>\n",
              "      <td>Хризолидокарпус Лутесценс d-9 см</td>\n",
              "      <td>1</td>\n",
              "      <td>179.0</td>\n",
              "    </tr>\n",
              "    <tr>\n",
              "      <th>4</th>\n",
              "      <td>2018-10-01</td>\n",
              "      <td>ee47d746-6d2f-4d3c-9622-c31412542920</td>\n",
              "      <td>68477</td>\n",
              "      <td>Циперус Зумула d-12 см h-25 см</td>\n",
              "      <td>1</td>\n",
              "      <td>112.0</td>\n",
              "    </tr>\n",
              "    <tr>\n",
              "      <th>...</th>\n",
              "      <td>...</td>\n",
              "      <td>...</td>\n",
              "      <td>...</td>\n",
              "      <td>...</td>\n",
              "      <td>...</td>\n",
              "      <td>...</td>\n",
              "    </tr>\n",
              "    <tr>\n",
              "      <th>4581</th>\n",
              "      <td>2019-10-31</td>\n",
              "      <td>73d1cd35-5e5f-4629-8cf2-3fda829d4e58</td>\n",
              "      <td>73156</td>\n",
              "      <td>Таз пластмассовый 40,0 л пищевой овальный (Иж)...</td>\n",
              "      <td>1</td>\n",
              "      <td>404.0</td>\n",
              "    </tr>\n",
              "    <tr>\n",
              "      <th>4582</th>\n",
              "      <td>2019-10-31</td>\n",
              "      <td>1f0a7f35-7459-4f23-b468-5e45bf481dd1</td>\n",
              "      <td>73158</td>\n",
              "      <td>Сумка-тележка 2-х колесная Gimi Argo синяя</td>\n",
              "      <td>1</td>\n",
              "      <td>1087.0</td>\n",
              "    </tr>\n",
              "    <tr>\n",
              "      <th>4583</th>\n",
              "      <td>2019-10-31</td>\n",
              "      <td>25df96a7-c453-4708-9cea-a3dfc7c342ea</td>\n",
              "      <td>73162</td>\n",
              "      <td>Герань домашняя (пеларгония зональная) цветуща...</td>\n",
              "      <td>1</td>\n",
              "      <td>157.0</td>\n",
              "    </tr>\n",
              "    <tr>\n",
              "      <th>4584</th>\n",
              "      <td>2019-10-31</td>\n",
              "      <td>73d1cd35-5e5f-4629-8cf2-3fda829d4e58</td>\n",
              "      <td>73164</td>\n",
              "      <td>Таз пластмассовый со стиральной доской (Иж), 1...</td>\n",
              "      <td>1</td>\n",
              "      <td>397.0</td>\n",
              "    </tr>\n",
              "    <tr>\n",
              "      <th>4585</th>\n",
              "      <td>2019-10-31</td>\n",
              "      <td>344aa778-e436-419e-a9c6-9b8f37b7c1df</td>\n",
              "      <td>73137</td>\n",
              "      <td>Сумка-тележка 2-х колесная Gimi Argo синяя</td>\n",
              "      <td>1</td>\n",
              "      <td>1087.0</td>\n",
              "    </tr>\n",
              "  </tbody>\n",
              "</table>\n",
              "<p>4586 rows × 6 columns</p>\n",
              "</div>"
            ],
            "text/plain": [
              "            date                           customer_id  order_id  \\\n",
              "0     2018-10-01  ee47d746-6d2f-4d3c-9622-c31412542920     68477   \n",
              "1     2018-10-01  ee47d746-6d2f-4d3c-9622-c31412542920     68477   \n",
              "2     2018-10-01  ee47d746-6d2f-4d3c-9622-c31412542920     68477   \n",
              "3     2018-10-01  ee47d746-6d2f-4d3c-9622-c31412542920     68477   \n",
              "4     2018-10-01  ee47d746-6d2f-4d3c-9622-c31412542920     68477   \n",
              "...          ...                                   ...       ...   \n",
              "4581  2019-10-31  73d1cd35-5e5f-4629-8cf2-3fda829d4e58     73156   \n",
              "4582  2019-10-31  1f0a7f35-7459-4f23-b468-5e45bf481dd1     73158   \n",
              "4583  2019-10-31  25df96a7-c453-4708-9cea-a3dfc7c342ea     73162   \n",
              "4584  2019-10-31  73d1cd35-5e5f-4629-8cf2-3fda829d4e58     73164   \n",
              "4585  2019-10-31  344aa778-e436-419e-a9c6-9b8f37b7c1df     73137   \n",
              "\n",
              "                                                product  quantity   price  \n",
              "0       Комнатное растение в горшке Алое Вера, d12, h30         1   142.0  \n",
              "1     Комнатное растение в горшке Кофе Арабика, d12,...         1   194.0  \n",
              "2                           Радермахера d-12 см h-20 см         1   112.0  \n",
              "3                      Хризолидокарпус Лутесценс d-9 см         1   179.0  \n",
              "4                        Циперус Зумула d-12 см h-25 см         1   112.0  \n",
              "...                                                 ...       ...     ...  \n",
              "4581  Таз пластмассовый 40,0 л пищевой овальный (Иж)...         1   404.0  \n",
              "4582         Сумка-тележка 2-х колесная Gimi Argo синяя         1  1087.0  \n",
              "4583  Герань домашняя (пеларгония зональная) цветуща...         1   157.0  \n",
              "4584  Таз пластмассовый со стиральной доской (Иж), 1...         1   397.0  \n",
              "4585         Сумка-тележка 2-х колесная Gimi Argo синяя         1  1087.0  \n",
              "\n",
              "[4586 rows x 6 columns]"
            ]
          },
          "execution_count": 26,
          "metadata": {},
          "output_type": "execute_result"
        }
      ],
      "source": [
        "# Оставим только те заказы, которые совершены только 1 пользователем:\n",
        "t1 = data.query('order_id in @t.index').drop_duplicates(subset = ('order_id')).index\n",
        "data = data.query('order_id not in @t1').reset_index(drop=True)\n",
        "data"
      ]
    },
    {
      "cell_type": "markdown",
      "id": "12b971a2",
      "metadata": {
        "id": "12b971a2"
      },
      "source": [
        "# Категоризация товаров"
      ]
    },
    {
      "cell_type": "code",
      "execution_count": null,
      "id": "abeb1a35",
      "metadata": {
        "id": "abeb1a35",
        "outputId": "e791be72-5c6d-4c8e-ba72-eb814858003e"
      },
      "outputs": [
        {
          "name": "stdout",
          "output_type": "stream",
          "text": [
            "Количество уникальных товаров: 2214\n"
          ]
        }
      ],
      "source": [
        "# Посмотрим, сколько у нас уникальных товаров:\n",
        "print ('Количество уникальных товаров:', len(data['product'].value_counts()))"
      ]
    },
    {
      "cell_type": "code",
      "execution_count": null,
      "id": "3d51f963",
      "metadata": {
        "id": "3d51f963",
        "outputId": "0f1782c5-fe74-46f2-a166-25a5ce032559"
      },
      "outputs": [
        {
          "data": {
            "text/html": [
              "<div>\n",
              "<style scoped>\n",
              "    .dataframe tbody tr th:only-of-type {\n",
              "        vertical-align: middle;\n",
              "    }\n",
              "\n",
              "    .dataframe tbody tr th {\n",
              "        vertical-align: top;\n",
              "    }\n",
              "\n",
              "    .dataframe thead th {\n",
              "        text-align: right;\n",
              "    }\n",
              "</style>\n",
              "<table border=\"1\" class=\"dataframe\">\n",
              "  <thead>\n",
              "    <tr style=\"text-align: right;\">\n",
              "      <th></th>\n",
              "      <th>date</th>\n",
              "      <th>customer_id</th>\n",
              "      <th>order_id</th>\n",
              "      <th>product</th>\n",
              "      <th>quantity</th>\n",
              "      <th>price</th>\n",
              "    </tr>\n",
              "  </thead>\n",
              "  <tbody>\n",
              "    <tr>\n",
              "      <th>0</th>\n",
              "      <td>2018-10-01</td>\n",
              "      <td>ee47d746-6d2f-4d3c-9622-c31412542920</td>\n",
              "      <td>68477</td>\n",
              "      <td>Комнатное растение в горшке Алое Вера, d12, h30</td>\n",
              "      <td>1</td>\n",
              "      <td>142.0</td>\n",
              "    </tr>\n",
              "    <tr>\n",
              "      <th>1</th>\n",
              "      <td>2018-10-01</td>\n",
              "      <td>ee47d746-6d2f-4d3c-9622-c31412542920</td>\n",
              "      <td>68477</td>\n",
              "      <td>Комнатное растение в горшке Кофе Арабика, d12,...</td>\n",
              "      <td>1</td>\n",
              "      <td>194.0</td>\n",
              "    </tr>\n",
              "    <tr>\n",
              "      <th>2</th>\n",
              "      <td>2018-10-01</td>\n",
              "      <td>ee47d746-6d2f-4d3c-9622-c31412542920</td>\n",
              "      <td>68477</td>\n",
              "      <td>Радермахера d-12 см h-20 см</td>\n",
              "      <td>1</td>\n",
              "      <td>112.0</td>\n",
              "    </tr>\n",
              "    <tr>\n",
              "      <th>3</th>\n",
              "      <td>2018-10-01</td>\n",
              "      <td>ee47d746-6d2f-4d3c-9622-c31412542920</td>\n",
              "      <td>68477</td>\n",
              "      <td>Хризолидокарпус Лутесценс d-9 см</td>\n",
              "      <td>1</td>\n",
              "      <td>179.0</td>\n",
              "    </tr>\n",
              "    <tr>\n",
              "      <th>4</th>\n",
              "      <td>2018-10-01</td>\n",
              "      <td>ee47d746-6d2f-4d3c-9622-c31412542920</td>\n",
              "      <td>68477</td>\n",
              "      <td>Циперус Зумула d-12 см h-25 см</td>\n",
              "      <td>1</td>\n",
              "      <td>112.0</td>\n",
              "    </tr>\n",
              "  </tbody>\n",
              "</table>\n",
              "</div>"
            ],
            "text/plain": [
              "         date                           customer_id  order_id  \\\n",
              "0  2018-10-01  ee47d746-6d2f-4d3c-9622-c31412542920     68477   \n",
              "1  2018-10-01  ee47d746-6d2f-4d3c-9622-c31412542920     68477   \n",
              "2  2018-10-01  ee47d746-6d2f-4d3c-9622-c31412542920     68477   \n",
              "3  2018-10-01  ee47d746-6d2f-4d3c-9622-c31412542920     68477   \n",
              "4  2018-10-01  ee47d746-6d2f-4d3c-9622-c31412542920     68477   \n",
              "\n",
              "                                             product  quantity  price  \n",
              "0    Комнатное растение в горшке Алое Вера, d12, h30         1  142.0  \n",
              "1  Комнатное растение в горшке Кофе Арабика, d12,...         1  194.0  \n",
              "2                        Радермахера d-12 см h-20 см         1  112.0  \n",
              "3                   Хризолидокарпус Лутесценс d-9 см         1  179.0  \n",
              "4                     Циперус Зумула d-12 см h-25 см         1  112.0  "
            ]
          },
          "execution_count": 28,
          "metadata": {},
          "output_type": "execute_result"
        }
      ],
      "source": [
        "data.head()"
      ]
    },
    {
      "cell_type": "code",
      "execution_count": null,
      "id": "cfa38f8b",
      "metadata": {
        "id": "cfa38f8b",
        "outputId": "7bd2d80c-126c-4a47-9ea8-ad1b04e4771f"
      },
      "outputs": [
        {
          "name": "stdout",
          "output_type": "stream",
          "text": [
            "Количество условных категорий по первому слову: 439\n"
          ]
        },
        {
          "data": {
            "text/plain": [
              "Пеларгония       703\n",
              "Рассада          464\n",
              "Сушилка          276\n",
              "Сумка-тележка    235\n",
              "Петуния          141\n",
              "томата           138\n",
              "Муляж            134\n",
              "Гладильная       118\n",
              "Герань           109\n",
              "Коврик           101\n",
              "Тележка           97\n",
              "Чехол             87\n",
              "Штора             76\n",
              "Однолетнее        62\n",
              "Таз               62\n",
              "Роза              54\n",
              "Калибрахоа        50\n",
              "Бакопа            37\n",
              "Набор             34\n",
              "Корзина           33\n",
              "Name: cat, dtype: int64"
            ]
          },
          "execution_count": 29,
          "metadata": {},
          "output_type": "execute_result"
        }
      ],
      "source": [
        "# Посмотрим на продукты и попробуем их категоризировать. Для этого сначала выделим первое слово и выведем уникальные продукты:\n",
        "\n",
        "category = []\n",
        "for i in range(len(data)):\n",
        "    t = data['product'][i].split(' ')[0]\n",
        "    category.append(t)\n",
        "category\n",
        "\n",
        "data['cat'] = category\n",
        "print ('Количество условных категорий по первому слову:', len(data['cat'].value_counts()))\n",
        "data['cat'].value_counts().head(20)"
      ]
    },
    {
      "cell_type": "code",
      "execution_count": null,
      "id": "2a0df02a",
      "metadata": {
        "id": "2a0df02a",
        "outputId": "8fb72735-c582-4afa-db92-b8c43c40e477"
      },
      "outputs": [
        {
          "name": "stdout",
          "output_type": "stream",
          "text": [
            "Количество условных категорий: 1322\n"
          ]
        },
        {
          "data": {
            "text/plain": [
              "Сушилка для белья                     271\n",
              "Пеларгония зональная диам.            266\n",
              "Рассада зелени для                    219\n",
              "Герань домашняя (пеларгония           109\n",
              "Сумка-тележка 2-х колесная             93\n",
              "Тележка багажная DELTA                 83\n",
              "Гладильная доска НИКА                  69\n",
              "Пеларгония розебудная Red              65\n",
              "Штора для ванной                       62\n",
              "Пеларгония розебудная Prins            57\n",
              "Чехол для гладильной                   55\n",
              "Сумка-тележка хозяйственная Rolser     45\n",
              "Пеларгония зональная махровая          44\n",
              "Рассада Арбуза сорт                    40\n",
              "Пеларгония розебудная Mary             39\n",
              "Пеларгония Toscana Angeleyes           37\n",
              "Петуния махровая рассада               35\n",
              "Рассада Капусты белокачанная           33\n",
              "Пеларгония розебудная Queen            30\n",
              "Однолетнее растение Петуния            29\n",
              "Name: cat, dtype: int64"
            ]
          },
          "execution_count": 30,
          "metadata": {},
          "output_type": "execute_result"
        }
      ],
      "source": [
        "# По первому слову сложно отнести товар к той или иной категории. Выделим первые 3 слова и выведем уникальные продукты:\n",
        "\n",
        "category = []\n",
        "for i in range(len(data)):\n",
        "    t = data['product'][i].split(' ')[0] + ' ' + data['product'][i].split(' ')[1] + ' ' + data['product'][i].split(' ')[2]\n",
        "    category.append(t)\n",
        "category\n",
        "\n",
        "data['cat'] = category\n",
        "print ('Количество условных категорий:', len(data['cat'].value_counts()))\n",
        "data['cat'].value_counts().head(20)"
      ]
    },
    {
      "cell_type": "code",
      "execution_count": null,
      "id": "7bdf077b",
      "metadata": {
        "id": "7bdf077b",
        "outputId": "660358e6-90c6-430b-8750-b9186805d8ca"
      },
      "outputs": [
        {
          "data": {
            "text/html": [
              "<div>\n",
              "<style scoped>\n",
              "    .dataframe tbody tr th:only-of-type {\n",
              "        vertical-align: middle;\n",
              "    }\n",
              "\n",
              "    .dataframe tbody tr th {\n",
              "        vertical-align: top;\n",
              "    }\n",
              "\n",
              "    .dataframe thead th {\n",
              "        text-align: right;\n",
              "    }\n",
              "</style>\n",
              "<table border=\"1\" class=\"dataframe\">\n",
              "  <thead>\n",
              "    <tr style=\"text-align: right;\">\n",
              "      <th></th>\n",
              "      <th>date</th>\n",
              "      <th>customer_id</th>\n",
              "      <th>order_id</th>\n",
              "      <th>product</th>\n",
              "      <th>quantity</th>\n",
              "      <th>price</th>\n",
              "      <th>cat</th>\n",
              "      <th>total</th>\n",
              "    </tr>\n",
              "  </thead>\n",
              "  <tbody>\n",
              "    <tr>\n",
              "      <th>0</th>\n",
              "      <td>2018-10-01</td>\n",
              "      <td>ee47d746-6d2f-4d3c-9622-c31412542920</td>\n",
              "      <td>68477</td>\n",
              "      <td>Комнатное растение в горшке Алое Вера, d12, h30</td>\n",
              "      <td>1</td>\n",
              "      <td>142.0</td>\n",
              "      <td>Комнатное растение в</td>\n",
              "      <td>142.0</td>\n",
              "    </tr>\n",
              "    <tr>\n",
              "      <th>1</th>\n",
              "      <td>2018-10-01</td>\n",
              "      <td>ee47d746-6d2f-4d3c-9622-c31412542920</td>\n",
              "      <td>68477</td>\n",
              "      <td>Комнатное растение в горшке Кофе Арабика, d12,...</td>\n",
              "      <td>1</td>\n",
              "      <td>194.0</td>\n",
              "      <td>Комнатное растение в</td>\n",
              "      <td>194.0</td>\n",
              "    </tr>\n",
              "    <tr>\n",
              "      <th>2</th>\n",
              "      <td>2018-10-01</td>\n",
              "      <td>ee47d746-6d2f-4d3c-9622-c31412542920</td>\n",
              "      <td>68477</td>\n",
              "      <td>Радермахера d-12 см h-20 см</td>\n",
              "      <td>1</td>\n",
              "      <td>112.0</td>\n",
              "      <td>Радермахера d-12 см</td>\n",
              "      <td>112.0</td>\n",
              "    </tr>\n",
              "    <tr>\n",
              "      <th>3</th>\n",
              "      <td>2018-10-01</td>\n",
              "      <td>ee47d746-6d2f-4d3c-9622-c31412542920</td>\n",
              "      <td>68477</td>\n",
              "      <td>Хризолидокарпус Лутесценс d-9 см</td>\n",
              "      <td>1</td>\n",
              "      <td>179.0</td>\n",
              "      <td>Хризолидокарпус Лутесценс d-9</td>\n",
              "      <td>179.0</td>\n",
              "    </tr>\n",
              "    <tr>\n",
              "      <th>4</th>\n",
              "      <td>2018-10-01</td>\n",
              "      <td>ee47d746-6d2f-4d3c-9622-c31412542920</td>\n",
              "      <td>68477</td>\n",
              "      <td>Циперус Зумула d-12 см h-25 см</td>\n",
              "      <td>1</td>\n",
              "      <td>112.0</td>\n",
              "      <td>Циперус Зумула d-12</td>\n",
              "      <td>112.0</td>\n",
              "    </tr>\n",
              "    <tr>\n",
              "      <th>...</th>\n",
              "      <td>...</td>\n",
              "      <td>...</td>\n",
              "      <td>...</td>\n",
              "      <td>...</td>\n",
              "      <td>...</td>\n",
              "      <td>...</td>\n",
              "      <td>...</td>\n",
              "      <td>...</td>\n",
              "    </tr>\n",
              "    <tr>\n",
              "      <th>4581</th>\n",
              "      <td>2019-10-31</td>\n",
              "      <td>73d1cd35-5e5f-4629-8cf2-3fda829d4e58</td>\n",
              "      <td>73156</td>\n",
              "      <td>Таз пластмассовый 40,0 л пищевой овальный (Иж)...</td>\n",
              "      <td>1</td>\n",
              "      <td>404.0</td>\n",
              "      <td>Таз пластмассовый 40,0</td>\n",
              "      <td>404.0</td>\n",
              "    </tr>\n",
              "    <tr>\n",
              "      <th>4582</th>\n",
              "      <td>2019-10-31</td>\n",
              "      <td>1f0a7f35-7459-4f23-b468-5e45bf481dd1</td>\n",
              "      <td>73158</td>\n",
              "      <td>Сумка-тележка 2-х колесная Gimi Argo синяя</td>\n",
              "      <td>1</td>\n",
              "      <td>1087.0</td>\n",
              "      <td>Сумка-тележка 2-х колесная</td>\n",
              "      <td>1087.0</td>\n",
              "    </tr>\n",
              "    <tr>\n",
              "      <th>4583</th>\n",
              "      <td>2019-10-31</td>\n",
              "      <td>25df96a7-c453-4708-9cea-a3dfc7c342ea</td>\n",
              "      <td>73162</td>\n",
              "      <td>Герань домашняя (пеларгония зональная) цветуща...</td>\n",
              "      <td>1</td>\n",
              "      <td>157.0</td>\n",
              "      <td>Герань домашняя (пеларгония</td>\n",
              "      <td>157.0</td>\n",
              "    </tr>\n",
              "    <tr>\n",
              "      <th>4584</th>\n",
              "      <td>2019-10-31</td>\n",
              "      <td>73d1cd35-5e5f-4629-8cf2-3fda829d4e58</td>\n",
              "      <td>73164</td>\n",
              "      <td>Таз пластмассовый со стиральной доской (Иж), 1...</td>\n",
              "      <td>1</td>\n",
              "      <td>397.0</td>\n",
              "      <td>Таз пластмассовый со</td>\n",
              "      <td>397.0</td>\n",
              "    </tr>\n",
              "    <tr>\n",
              "      <th>4585</th>\n",
              "      <td>2019-10-31</td>\n",
              "      <td>344aa778-e436-419e-a9c6-9b8f37b7c1df</td>\n",
              "      <td>73137</td>\n",
              "      <td>Сумка-тележка 2-х колесная Gimi Argo синяя</td>\n",
              "      <td>1</td>\n",
              "      <td>1087.0</td>\n",
              "      <td>Сумка-тележка 2-х колесная</td>\n",
              "      <td>1087.0</td>\n",
              "    </tr>\n",
              "  </tbody>\n",
              "</table>\n",
              "<p>4586 rows × 8 columns</p>\n",
              "</div>"
            ],
            "text/plain": [
              "            date                           customer_id  order_id  \\\n",
              "0     2018-10-01  ee47d746-6d2f-4d3c-9622-c31412542920     68477   \n",
              "1     2018-10-01  ee47d746-6d2f-4d3c-9622-c31412542920     68477   \n",
              "2     2018-10-01  ee47d746-6d2f-4d3c-9622-c31412542920     68477   \n",
              "3     2018-10-01  ee47d746-6d2f-4d3c-9622-c31412542920     68477   \n",
              "4     2018-10-01  ee47d746-6d2f-4d3c-9622-c31412542920     68477   \n",
              "...          ...                                   ...       ...   \n",
              "4581  2019-10-31  73d1cd35-5e5f-4629-8cf2-3fda829d4e58     73156   \n",
              "4582  2019-10-31  1f0a7f35-7459-4f23-b468-5e45bf481dd1     73158   \n",
              "4583  2019-10-31  25df96a7-c453-4708-9cea-a3dfc7c342ea     73162   \n",
              "4584  2019-10-31  73d1cd35-5e5f-4629-8cf2-3fda829d4e58     73164   \n",
              "4585  2019-10-31  344aa778-e436-419e-a9c6-9b8f37b7c1df     73137   \n",
              "\n",
              "                                                product  quantity   price  \\\n",
              "0       Комнатное растение в горшке Алое Вера, d12, h30         1   142.0   \n",
              "1     Комнатное растение в горшке Кофе Арабика, d12,...         1   194.0   \n",
              "2                           Радермахера d-12 см h-20 см         1   112.0   \n",
              "3                      Хризолидокарпус Лутесценс d-9 см         1   179.0   \n",
              "4                        Циперус Зумула d-12 см h-25 см         1   112.0   \n",
              "...                                                 ...       ...     ...   \n",
              "4581  Таз пластмассовый 40,0 л пищевой овальный (Иж)...         1   404.0   \n",
              "4582         Сумка-тележка 2-х колесная Gimi Argo синяя         1  1087.0   \n",
              "4583  Герань домашняя (пеларгония зональная) цветуща...         1   157.0   \n",
              "4584  Таз пластмассовый со стиральной доской (Иж), 1...         1   397.0   \n",
              "4585         Сумка-тележка 2-х колесная Gimi Argo синяя         1  1087.0   \n",
              "\n",
              "                                cat   total  \n",
              "0              Комнатное растение в   142.0  \n",
              "1              Комнатное растение в   194.0  \n",
              "2               Радермахера d-12 см   112.0  \n",
              "3     Хризолидокарпус Лутесценс d-9   179.0  \n",
              "4               Циперус Зумула d-12   112.0  \n",
              "...                             ...     ...  \n",
              "4581         Таз пластмассовый 40,0   404.0  \n",
              "4582     Сумка-тележка 2-х колесная  1087.0  \n",
              "4583    Герань домашняя (пеларгония   157.0  \n",
              "4584           Таз пластмассовый со   397.0  \n",
              "4585     Сумка-тележка 2-х колесная  1087.0  \n",
              "\n",
              "[4586 rows x 8 columns]"
            ]
          },
          "execution_count": 31,
          "metadata": {},
          "output_type": "execute_result"
        }
      ],
      "source": [
        "# Добавим столбец \"total\" - сумма продаж за товар в корзине:\n",
        "data['total'] = data['quantity']*data['price']\n",
        "data"
      ]
    },
    {
      "cell_type": "code",
      "execution_count": null,
      "id": "ec838e02",
      "metadata": {
        "id": "ec838e02",
        "outputId": "5f581b20-e9b9-4446-d22a-685d46c6bd52"
      },
      "outputs": [
        {
          "data": {
            "text/plain": [
              "cat\n",
              "Сушилка для белья                       276240.0\n",
              "Сумка-тележка хозяйственная Rolser      209249.0\n",
              "Сумка-тележка 2-х колесная              132378.0\n",
              "Сумка-тележка хозяйственная Andersen    123843.0\n",
              "Гладильная доска НИКА                   106545.0\n",
              "Штора для ванной                         75776.0\n",
              "Тележка багажная DELTA                   62302.0\n",
              "Пеларгония зональная диам.               55130.0\n",
              "Сумка-тележка 3-х колесная               36887.0\n",
              "Сумка-тележка хозяйственная GIMI         33659.0\n",
              "Сумка-тележка хозяйственная Gimi         32045.0\n",
              "Рассада зелени для                       30941.0\n",
              "Чехол для гладильной                     30076.0\n",
              "Коврик для ванной                        25305.0\n",
              "Урна уличная \"Гео\",                      24370.0\n",
              "Гладильная доска Sarayli                 23392.0\n",
              "Мусорный контейнер Hailo                 19085.0\n",
              "Герань домашняя (пеларгония              18270.0\n",
              "Сумка-тележка TWIN стальной              17993.0\n",
              "Стремянки Colombo Leonardo               17658.0\n",
              "Name: total, dtype: float64"
            ]
          },
          "execution_count": 32,
          "metadata": {},
          "output_type": "execute_result"
        }
      ],
      "source": [
        "# Посмотрим, какие условные категории принесли больше всего денег:\n",
        "data.groupby('cat')['total'].sum().sort_values(ascending=False).head(20)"
      ]
    },
    {
      "cell_type": "markdown",
      "id": "92926b5d",
      "metadata": {
        "id": "92926b5d"
      },
      "source": [
        "Выделим следующие категории:\n",
        "1.\tРастения\n",
        "2.\tХозяйственные товары\n",
        "3.\tТовары для строительства и ремонта\n",
        "4.\tТекстиль для дома\n",
        "5.\tРассада и семена\n",
        "6.  Посуда\n",
        "7.  Декор и интерьер"
      ]
    },
    {
      "cell_type": "code",
      "execution_count": null,
      "id": "476d2f06",
      "metadata": {
        "id": "476d2f06",
        "outputId": "b8cf311d-8814-4387-df0b-7fff185ae8fa"
      },
      "outputs": [
        {
          "name": "stderr",
          "output_type": "stream",
          "text": [
            "C:\\Users\\73B5~1\\AppData\\Local\\Temp/ipykernel_2740/4058534222.py:17: SettingWithCopyWarning: \n",
            "A value is trying to be set on a copy of a slice from a DataFrame\n",
            "\n",
            "See the caveats in the documentation: https://pandas.pydata.org/pandas-docs/stable/user_guide/indexing.html#returning-a-view-versus-a-copy\n",
            "  data['category'][i]=j\n",
            "C:\\programs\\lib\\site-packages\\pandas\\core\\indexing.py:1732: SettingWithCopyWarning: \n",
            "A value is trying to be set on a copy of a slice from a DataFrame\n",
            "\n",
            "See the caveats in the documentation: https://pandas.pydata.org/pandas-docs/stable/user_guide/indexing.html#returning-a-view-versus-a-copy\n",
            "  self._setitem_single_block(indexer, value, name)\n"
          ]
        }
      ],
      "source": [
        "# Создадим словарь товаров под каждую категорию:\n",
        "dict_category = {'Растения': ('Замиокулькас', 'Кампанула', 'Крассула', 'Фиттония',  'Фикус', 'Физостегия', 'Фатсия', 'Хоста', 'Хамедорея', 'Цинерария', 'Эхинокактус', 'Эхинацея', 'Эпипремнум', 'Энотера', 'Цитрофортунелла', 'Цинния', 'Импатиенс',  'Иссоп', 'Каллуна', 'Калоцефалус', 'Калоцефалус', 'Капсикум', 'Кипарисовик', 'Виола', 'Гайлардия', 'крупноцветков', 'Гимнокалициум', 'Глоксиния', 'Джункус', 'Гортензия', 'Дендробиум', 'Зверобой', 'Диффенбахия', 'Драцена', 'Бузульник', 'ербера', 'Литопс', 'Лилейник', 'Юкка', 'Каланхое', 'Лаванда', 'Барвинок', 'Лантана ', 'Суккулент', 'Мелисса', 'Бадан', 'Афеляндра', 'Соланум', 'Муррайя', 'Астра', 'Молодило', 'Аспарагус', 'Лавр', 'Солидаго', 'Монарда', 'Артемизия', 'Мята', 'Синнингия', 'Рудбекия', 'Нефролепис', 'Анемона', 'Нолина', 'Скиммия', 'Пуансетия', 'Альбука', 'Азалия', 'Пеперомия', 'Пряные травы', 'Осина', 'Сантолина', 'Пахира', 'Платикодон', 'Адиантум', 'Подсолнечник', 'Подсолнечник', 'Пиретрум', 'Аквилегия', 'Кореопсис', 'Алоэ', 'Лапчатка', 'Лапчатка', 'Антуриум', 'Спатифиллум', 'Укроп', 'Антуриум', 'Земляника', 'Лен', 'Цикламен', 'Калатея', 'Хризантема', 'Девичий виноград', 'Розмарин', 'Душица', 'Бальзамин', 'Шеффлера', 'Бегония', 'Фаленопсис', 'Вероника колосковая', 'Пуансеттия', 'Гипсофила', 'Фиалка', 'Гардения', 'Роза', 'Папоротник', 'Примула', 'Вербейник', 'Ясколка', 'Эхеверия', 'Котовник', 'Нивянник', 'Флокс', 'Тимьян', 'Кофе Арабика', 'Мирт', 'Камнеломка', 'Вербена','Аптения', 'Седум', 'Чабер', 'Лобелия', 'Мединилла', 'Мимоза', 'Фуксия', 'фиалка', 'Колокольчик', 'Хлорофитум', \"еларгония\", 'Эвкалипт', 'в горшке', 'Бакопа', \"ерань\", 'алибрахоа', 'адермахер', 'ризолидокарпус', 'астени', 'иперус', 'етуни', 'черенок', 'Ель'),\n",
        "                'Хозяйственные товары': ('Корзинка ', 'микрофибры', 'Ванна', 'Мусорный контейнер', 'прищепок',  'Отбеливатель', 'Пружина', 'Решетка', 'Сетка для глажения', 'Скребок', 'Сметка', 'порошок', 'Стяжки', 'Ткань для окон', 'Линейка', 'Короб', 'Кольца для штор', 'Корзина', 'Крючок', 'Фиксатор', 'Фен', 'Фал капроновый', 'пепельница', 'Урна', 'Уголок',  'микрофибра', 'Увлажняющая маска', 'Электроштопор', 'Штангенциркуль', 'Шпингалет', 'Шпагат', 'Шнур', 'хозяйственный', 'пятен', 'Стяжка', 'Ковш', 'Утюг', 'Фоторамка', 'скоба', 'Завертка', 'Зубная паста', 'угольник', 'Губка', 'Кипятильник', 'оробка', 'Вантуз', 'Веревка', 'Держатель', 'Доска гладильная', 'Ерш', 'мыло', 'ешалк', 'Крепеж', 'Шило', 'прищепк', 'Веник', 'Корзина на колесах', 'сантехни', 'напильников', 'Лоток KNIT', 'для белья', 'Многофункциональный инструмент', 'стирки', 'мусор', 'для стирки', 'блок для ролика', 'Скребок для окон', 'Мыло', 'мебельная', 'Рассекатель', 'инструментов в алюминиевом', 'вешалок', 'ржавчин', 'сверел', 'для чистки', 'асадка', 'Антинакипин', 'Совок', 'посудомоечных', 'пробки', 'Антижир', 'Сиденье для ванны пластмассовое', 'швабр', 'Сверло', 'Пена для ванн', 'Пылесос', 'Пьезозажигалка', 'Светильник', 'Пробка', 'Паста', 'ведра', 'для мусора', 'для хранения', 'Ящик', 'Петля', 'Прищепк', 'приварна', 'приварная', 'Подголовник', 'Этажерка', 'Ёрш', 'Бензин', 'Полка', 'Миксер', 'Чайник', 'Щетка', 'Паста зубная', 'хозяйственная', 'Плечики', 'сварка', 'Перчатки', 'Ведро', 'для мытья', 'Стеллаж', 'Термометр', 'Тряпкодержатель', 'Весы', 'водопровод', 'Кофр', 'Корзина для белья', 'Корзина пластиковая для белья', 'Вешалка', 'Подставка для обуви', 'Комод', 'Щетка для мытья', 'Швабра', 'Полки', 'Окномойка', 'ушилка', 'умка-тележка', 'ележк', 'доска', 'Ящик почтовый', 'Подрукавник', 'для гладильной доски'),\n",
        "                'Товары для строительства и ремонта': ('тремянк', 'Таз', 'таз', 'Корыто', 'Карниз', 'Штанга для ванной'),\n",
        "                'Текстиль для дома': ('Наматрацник', 'постельного белья', 'скатерть', 'постельное белье', 'Халат', 'полотенец', 'халат','Наволочка', 'Наматрасник', 'Одеяло', 'Пододеяльник', 'Простын', 'Плед', 'Полотенце', 'Подушка', 'Покрывало', 'Скатерть', 'Салфетка', 'салфет', 'ехол', 'оврик', 'полотенце', 'Сиденье в ванну', 'Штора'),\n",
        "                'Рассада и семена': ('Эшшольция', 'Тюльпан', 'Цинния', 'Тыква', 'Клубника', 'Капуста декоративная', 'Гвоздика', 'Георгина', 'Годеция', 'Горох', 'Космея', 'Кабачок', 'Бархатцы', 'Календула', 'Лаватера', 'Баклажан','Львиный зев','Салат', 'Детская сладость', 'Смолевка', 'Ранункулус', 'Настурция ','Незабудка', 'Огурец', 'Патиссон','Петрушка ','луковиц', 'в кассете', 'Алиссум','Томат', 'Капуста цветная Альфа', 'ассад', 'томат', 'Арбуз', 'Дыня', 'Базилик'),\n",
        "                'Посуда': ('Тортница', 'Термос', 'Толкушка', 'Контейнер для приготовления', 'Котел', 'кружка', 'Чайный набор', 'Половник', 'для выпечки', 'Картофелемялка', 'Контейнер герметичный', 'Контейнер для СВЧ', 'Венчик', 'дуршлаг', 'Доска разделочная', 'Емкость для СВЧ', 'Емкость для соуса', 'Бульонница', 'Блюдце', 'Бидон', 'эмалированный', 'Лопатка', 'ложка','нож', 'Сито', 'сковород', 'Скалка', 'Кружка', 'Соковыжималка', 'Сотейник', 'посуды', 'для пикника', 'кондитерский', 'Соковарка', 'бокал', 'кекс', 'кружек', 'Рыбочистка', 'стакан', 'фужер', 'салатник', 'Орехоколка', 'Отделитель косточек', 'Овощечистка', 'Противень', 'для продуктов', 'для яйца','Пресс для чеснока', 'ножей', 'столовых', 'Сковорода', 'Tepмокружка', 'Стакан', 'Крышка', 'Блюдо', 'Кастрюля', 'Сахарница', 'Просеиватель', 'Банка', 'Овощеварка', 'Хлебница', 'Терка', 'Тарелка', 'Ложка', 'Контейнер для овощей', 'Вилка', 'Термокружка', 'Кувшин', 'Нож', 'Миска', 'банка', 'асленка', 'Мантоварка', 'Салатник', 'Овсянница', 'Измельчитель овощей'),\n",
        "                'Декор и интерьер': ('Ваза', 'Искусственный лист Клена', 'Ковер', 'Ключница', 'Салфетница','Мыльница', 'ковров', 'Обувница','пуф', 'Подставка для цветов', 'Ковёр', 'кашпо', 'Стакан для ванной комнаты', 'Дозатор для мыла', 'Декоративная композиция',  'Искусственный цветок', 'уляж', 'плетеный с крышкой', 'Цветок искусственный', 'Искусственная лиана', 'Искусственная композиция из цветов')\n",
        "                }\n",
        "# Напишем цикл, который пробежит по каждой строке и значениям словаря и запишет категорию в датасет:\n",
        "data['category']=0\n",
        "for i in range(len(data)):\n",
        "    for j in dict_category.keys():\n",
        "        for k in dict_category[j]:\n",
        "            if k in data['product'][i] :\n",
        "                if data['category'][i] == 0:\n",
        "                    data['category'][i]=j"
      ]
    },
    {
      "cell_type": "code",
      "execution_count": null,
      "id": "a7d8c6e6",
      "metadata": {
        "id": "a7d8c6e6",
        "outputId": "b1b95f11-267a-41c0-a4ff-3508b8774b95"
      },
      "outputs": [
        {
          "data": {
            "text/plain": [
              "Series([], dtype: int64)"
            ]
          },
          "execution_count": 34,
          "metadata": {},
          "output_type": "execute_result"
        }
      ],
      "source": [
        "# Проверим, что у нас не осталось товаров без категории:\n",
        "data[data['category'] == 0].value_counts('product').head(50)"
      ]
    },
    {
      "cell_type": "code",
      "execution_count": null,
      "id": "604cea08",
      "metadata": {
        "id": "604cea08"
      },
      "outputs": [],
      "source": [
        "# Удалим вспомогательный столбец cat:\n",
        "data = data.drop('cat', axis=1)"
      ]
    },
    {
      "cell_type": "code",
      "execution_count": null,
      "id": "6bd74fce",
      "metadata": {
        "id": "6bd74fce",
        "outputId": "93f9c0e6-152e-49d4-d5e1-3159c188f752"
      },
      "outputs": [
        {
          "data": {
            "text/plain": [
              "category\n",
              "Декор и интерьер                      0.015853\n",
              "Посуда                                0.055013\n",
              "Рассада и семена                      0.026152\n",
              "Растения                              0.142611\n",
              "Текстиль для дома                     0.107770\n",
              "Товары для строительства и ремонта    0.056324\n",
              "Хозяйственные товары                  0.596277\n",
              "Name: total, dtype: float64"
            ]
          },
          "execution_count": 36,
          "metadata": {},
          "output_type": "execute_result"
        }
      ],
      "source": [
        "# Посмотрим, какую долю занимает каждая категория в общем доходе:\n",
        "data.groupby('category')['total'].sum() / data['total'].sum()"
      ]
    },
    {
      "cell_type": "code",
      "execution_count": null,
      "id": "454487b6",
      "metadata": {
        "id": "454487b6",
        "outputId": "819c45b3-ff3b-4781-e813-aaf3d0f98980"
      },
      "outputs": [
        {
          "data": {
            "text/plain": [
              "category\n",
              "Декор и интерьер                      0.055629\n",
              "Посуда                                0.076201\n",
              "Рассада и семена                      0.160632\n",
              "Растения                              0.385286\n",
              "Текстиль для дома                     0.065504\n",
              "Товары для строительства и ремонта    0.026827\n",
              "Хозяйственные товары                  0.229921\n",
              "Name: quantity, dtype: float64"
            ]
          },
          "execution_count": 37,
          "metadata": {},
          "output_type": "execute_result"
        }
      ],
      "source": [
        "# Посмотрим, какую долю занимает каждая категория в общем количестве купленных товаров:\n",
        "data.groupby('category')['quantity'].sum() / data['quantity'].sum()"
      ]
    },
    {
      "cell_type": "markdown",
      "id": "e0cd71c2",
      "metadata": {
        "id": "e0cd71c2"
      },
      "source": [
        "60% выручки приносят хозяйственные товары. А по количеству проданных товаров лидируют растения (39%)"
      ]
    },
    {
      "cell_type": "markdown",
      "id": "27e0b318",
      "metadata": {
        "id": "27e0b318"
      },
      "source": [
        "Посмотрим на выручку и количество купленных товаров по категориям в разрезе рассматриваемого периода:"
      ]
    },
    {
      "cell_type": "code",
      "execution_count": null,
      "id": "f2d4ab5b",
      "metadata": {
        "id": "f2d4ab5b",
        "outputId": "f79efb4a-17c6-421d-cae6-b310c0e7b9c4"
      },
      "outputs": [
        {
          "name": "stderr",
          "output_type": "stream",
          "text": [
            "C:\\Users\\73B5~1\\AppData\\Local\\Temp/ipykernel_2740/1100585906.py:4: SettingWithCopyWarning: \n",
            "A value is trying to be set on a copy of a slice from a DataFrame\n",
            "\n",
            "See the caveats in the documentation: https://pandas.pydata.org/pandas-docs/stable/user_guide/indexing.html#returning-a-view-versus-a-copy\n",
            "  data['month'][i] = data['date'][i].replace(day=1)\n"
          ]
        },
        {
          "data": {
            "text/plain": [
              "2019-05-01    681\n",
              "2019-04-01    641\n",
              "2018-10-01    447\n",
              "2018-11-01    401\n",
              "2019-03-01    391\n",
              "2019-02-01    333\n",
              "2019-06-01    322\n",
              "2018-12-01    298\n",
              "2019-07-01    294\n",
              "2019-09-01    210\n",
              "2019-10-01    202\n",
              "2019-08-01    195\n",
              "2019-01-01    171\n",
              "Name: month, dtype: int64"
            ]
          },
          "execution_count": 38,
          "metadata": {},
          "output_type": "execute_result"
        }
      ],
      "source": [
        "# Создадим столбец month, в который запишем год и месяц (без даты):\n",
        "data['month']=0\n",
        "for i in range(len(data)):\n",
        "    data['month'][i] = data['date'][i].replace(day=1)\n",
        "# Проверим, какие значения получились, должно быть 13 месяцев:\n",
        "data['month'].value_counts()"
      ]
    },
    {
      "cell_type": "code",
      "execution_count": null,
      "id": "a2649697",
      "metadata": {
        "id": "a2649697",
        "outputId": "caf92571-ade8-4c27-f837-10c63f788863"
      },
      "outputs": [
        {
          "data": {
            "image/png": "[encoded data removed]",
            "text/plain": [
              "<Figure size 1080x720 with 1 Axes>"
            ]
          },
          "metadata": {
            "needs_background": "light"
          },
          "output_type": "display_data"
        }
      ],
      "source": [
        "data.pivot_table(index='category', columns='month', values='quantity', aggfunc='sum').T.plot(\n",
        "    figsize=(15,10), ylabel='Количество проданных товаров', title='Количество проданных товаров',kind='bar')\n",
        "plt.show()"
      ]
    },
    {
      "cell_type": "code",
      "execution_count": null,
      "id": "7c1fdd38",
      "metadata": {
        "id": "7c1fdd38",
        "outputId": "898ae473-cd6d-4dc1-ccc2-7e04ebdd91bf"
      },
      "outputs": [
        {
          "data": {
            "image/png": "[encoded data removed]",
            "text/plain": [
              "<Figure size 1080x720 with 1 Axes>"
            ]
          },
          "metadata": {
            "needs_background": "light"
          },
          "output_type": "display_data"
        }
      ],
      "source": [
        "data.pivot_table(index='category', columns='month', values='total', aggfunc='sum').T.plot(\n",
        "    figsize=(15,10), ylabel='Совокупная выручка', title='Совокупная выручка',kind='bar')\n",
        "plt.show()"
      ]
    },
    {
      "cell_type": "markdown",
      "id": "87f66908",
      "metadata": {
        "id": "87f66908"
      },
      "source": [
        "Видим, покупки сезонны:\n",
        "- Декор и интерьер: пик продаж в октябре, ноябре, мае. Спад: август, сентябрь.\n",
        "- Посуда: пик в октябре, ноябре, декабре, феврале. Спад: аперль - август.\n",
        "- Рассада и семена: пик в апреле-мае. Спад: октябрь, январь, февраль, августь ,сентябряь.\n",
        "- Растения: пик в апреле-мае. Спад: январь.\n",
        "- Текстиль для дома: пик в октябре-январе, июле, сентябре. Спад: апрель - июнь, август.\n",
        "- Товары для строительства и ремонта: в целом - равномерное распределение, больше продаж в октябре.\n",
        "- хозяйственные товары: пик продаж в октябре, ноябре, декабре, феврале. Спад:  январь, май, июнь.\n",
        "\n",
        "Удивительно, что в 2019 г. октябрь показал меньше продаж по всем категориям, чем в 2018 г. Необходимо провести дополнительное исследование по этому поводу."
      ]
    },
    {
      "cell_type": "markdown",
      "id": "fc2dee7e",
      "metadata": {
        "id": "fc2dee7e"
      },
      "source": [
        "# Кластеризация покупателей на основе истории их покупок\n",
        "Кластеризуем покупателей по показателям:\n",
        "- Средний чек\n",
        "- Кол-во товаров\n",
        "- Общая сумма покупок\n",
        "- Средняя цена товаров"
      ]
    },
    {
      "cell_type": "code",
      "execution_count": null,
      "id": "18bfd624",
      "metadata": {
        "id": "18bfd624",
        "outputId": "f50d2301-a6be-4d3d-f858-532306541fb4"
      },
      "outputs": [
        {
          "data": {
            "text/html": [
              "<div>\n",
              "<style scoped>\n",
              "    .dataframe tbody tr th:only-of-type {\n",
              "        vertical-align: middle;\n",
              "    }\n",
              "\n",
              "    .dataframe tbody tr th {\n",
              "        vertical-align: top;\n",
              "    }\n",
              "\n",
              "    .dataframe thead th {\n",
              "        text-align: right;\n",
              "    }\n",
              "</style>\n",
              "<table border=\"1\" class=\"dataframe\">\n",
              "  <thead>\n",
              "    <tr style=\"text-align: right;\">\n",
              "      <th></th>\n",
              "      <th>date</th>\n",
              "      <th>customer_id</th>\n",
              "      <th>order_id</th>\n",
              "      <th>product</th>\n",
              "      <th>quantity</th>\n",
              "      <th>price</th>\n",
              "      <th>total</th>\n",
              "      <th>category</th>\n",
              "      <th>month</th>\n",
              "    </tr>\n",
              "  </thead>\n",
              "  <tbody>\n",
              "    <tr>\n",
              "      <th>0</th>\n",
              "      <td>2018-10-01</td>\n",
              "      <td>ee47d746-6d2f-4d3c-9622-c31412542920</td>\n",
              "      <td>68477</td>\n",
              "      <td>Комнатное растение в горшке Алое Вера, d12, h30</td>\n",
              "      <td>1</td>\n",
              "      <td>142.0</td>\n",
              "      <td>142.0</td>\n",
              "      <td>Растения</td>\n",
              "      <td>2018-10-01</td>\n",
              "    </tr>\n",
              "    <tr>\n",
              "      <th>1</th>\n",
              "      <td>2018-10-01</td>\n",
              "      <td>ee47d746-6d2f-4d3c-9622-c31412542920</td>\n",
              "      <td>68477</td>\n",
              "      <td>Комнатное растение в горшке Кофе Арабика, d12,...</td>\n",
              "      <td>1</td>\n",
              "      <td>194.0</td>\n",
              "      <td>194.0</td>\n",
              "      <td>Растения</td>\n",
              "      <td>2018-10-01</td>\n",
              "    </tr>\n",
              "    <tr>\n",
              "      <th>2</th>\n",
              "      <td>2018-10-01</td>\n",
              "      <td>ee47d746-6d2f-4d3c-9622-c31412542920</td>\n",
              "      <td>68477</td>\n",
              "      <td>Радермахера d-12 см h-20 см</td>\n",
              "      <td>1</td>\n",
              "      <td>112.0</td>\n",
              "      <td>112.0</td>\n",
              "      <td>Растения</td>\n",
              "      <td>2018-10-01</td>\n",
              "    </tr>\n",
              "    <tr>\n",
              "      <th>3</th>\n",
              "      <td>2018-10-01</td>\n",
              "      <td>ee47d746-6d2f-4d3c-9622-c31412542920</td>\n",
              "      <td>68477</td>\n",
              "      <td>Хризолидокарпус Лутесценс d-9 см</td>\n",
              "      <td>1</td>\n",
              "      <td>179.0</td>\n",
              "      <td>179.0</td>\n",
              "      <td>Растения</td>\n",
              "      <td>2018-10-01</td>\n",
              "    </tr>\n",
              "    <tr>\n",
              "      <th>4</th>\n",
              "      <td>2018-10-01</td>\n",
              "      <td>ee47d746-6d2f-4d3c-9622-c31412542920</td>\n",
              "      <td>68477</td>\n",
              "      <td>Циперус Зумула d-12 см h-25 см</td>\n",
              "      <td>1</td>\n",
              "      <td>112.0</td>\n",
              "      <td>112.0</td>\n",
              "      <td>Растения</td>\n",
              "      <td>2018-10-01</td>\n",
              "    </tr>\n",
              "  </tbody>\n",
              "</table>\n",
              "</div>"
            ],
            "text/plain": [
              "         date                           customer_id  order_id  \\\n",
              "0  2018-10-01  ee47d746-6d2f-4d3c-9622-c31412542920     68477   \n",
              "1  2018-10-01  ee47d746-6d2f-4d3c-9622-c31412542920     68477   \n",
              "2  2018-10-01  ee47d746-6d2f-4d3c-9622-c31412542920     68477   \n",
              "3  2018-10-01  ee47d746-6d2f-4d3c-9622-c31412542920     68477   \n",
              "4  2018-10-01  ee47d746-6d2f-4d3c-9622-c31412542920     68477   \n",
              "\n",
              "                                             product  quantity  price  total  \\\n",
              "0    Комнатное растение в горшке Алое Вера, d12, h30         1  142.0  142.0   \n",
              "1  Комнатное растение в горшке Кофе Арабика, d12,...         1  194.0  194.0   \n",
              "2                        Радермахера d-12 см h-20 см         1  112.0  112.0   \n",
              "3                   Хризолидокарпус Лутесценс d-9 см         1  179.0  179.0   \n",
              "4                     Циперус Зумула d-12 см h-25 см         1  112.0  112.0   \n",
              "\n",
              "   category       month  \n",
              "0  Растения  2018-10-01  \n",
              "1  Растения  2018-10-01  \n",
              "2  Растения  2018-10-01  \n",
              "3  Растения  2018-10-01  \n",
              "4  Растения  2018-10-01  "
            ]
          },
          "execution_count": 41,
          "metadata": {},
          "output_type": "execute_result"
        }
      ],
      "source": [
        "data.head()"
      ]
    },
    {
      "cell_type": "code",
      "execution_count": null,
      "id": "1b908757",
      "metadata": {
        "id": "1b908757",
        "outputId": "3a7dc3ae-6e54-4057-a135-402aad346d2b"
      },
      "outputs": [
        {
          "data": {
            "text/html": [
              "<div>\n",
              "<style scoped>\n",
              "    .dataframe tbody tr th:only-of-type {\n",
              "        vertical-align: middle;\n",
              "    }\n",
              "\n",
              "    .dataframe tbody tr th {\n",
              "        vertical-align: top;\n",
              "    }\n",
              "\n",
              "    .dataframe thead th {\n",
              "        text-align: right;\n",
              "    }\n",
              "</style>\n",
              "<table border=\"1\" class=\"dataframe\">\n",
              "  <thead>\n",
              "    <tr style=\"text-align: right;\">\n",
              "      <th></th>\n",
              "      <th>order_id</th>\n",
              "      <th>price</th>\n",
              "      <th>quantity</th>\n",
              "      <th>total</th>\n",
              "    </tr>\n",
              "    <tr>\n",
              "      <th>customer_id</th>\n",
              "      <th></th>\n",
              "      <th></th>\n",
              "      <th></th>\n",
              "      <th></th>\n",
              "    </tr>\n",
              "  </thead>\n",
              "  <tbody>\n",
              "    <tr>\n",
              "      <th>000d6849-084e-4d9f-ac03-37174eaf60c4</th>\n",
              "      <td>4</td>\n",
              "      <td>555.0</td>\n",
              "      <td>4</td>\n",
              "      <td>555.0</td>\n",
              "    </tr>\n",
              "    <tr>\n",
              "      <th>001cee7f-0b29-4716-b202-0042213ab038</th>\n",
              "      <td>1</td>\n",
              "      <td>442.0</td>\n",
              "      <td>1</td>\n",
              "      <td>442.0</td>\n",
              "    </tr>\n",
              "    <tr>\n",
              "      <th>00299f34-5385-4d13-9aea-c80b81658e1b</th>\n",
              "      <td>1</td>\n",
              "      <td>457.0</td>\n",
              "      <td>2</td>\n",
              "      <td>914.0</td>\n",
              "    </tr>\n",
              "    <tr>\n",
              "      <th>002d4d3a-4a59-406b-86ec-c3314357e498</th>\n",
              "      <td>1</td>\n",
              "      <td>1649.0</td>\n",
              "      <td>1</td>\n",
              "      <td>1649.0</td>\n",
              "    </tr>\n",
              "    <tr>\n",
              "      <th>003bbd39-0000-41ff-b7f9-2ddaec152037</th>\n",
              "      <td>1</td>\n",
              "      <td>1162.0</td>\n",
              "      <td>2</td>\n",
              "      <td>2324.0</td>\n",
              "    </tr>\n",
              "  </tbody>\n",
              "</table>\n",
              "</div>"
            ],
            "text/plain": [
              "                                      order_id   price  quantity   total\n",
              "customer_id                                                             \n",
              "000d6849-084e-4d9f-ac03-37174eaf60c4         4   555.0         4   555.0\n",
              "001cee7f-0b29-4716-b202-0042213ab038         1   442.0         1   442.0\n",
              "00299f34-5385-4d13-9aea-c80b81658e1b         1   457.0         2   914.0\n",
              "002d4d3a-4a59-406b-86ec-c3314357e498         1  1649.0         1  1649.0\n",
              "003bbd39-0000-41ff-b7f9-2ddaec152037         1  1162.0         2  2324.0"
            ]
          },
          "execution_count": 42,
          "metadata": {},
          "output_type": "execute_result"
        }
      ],
      "source": [
        "# Сгруппируем данные по пользователям:\n",
        "data_by_customers = data.pivot_table(index = 'customer_id', values = ['quantity', 'price', 'total', 'order_id'],\n",
        "                                     aggfunc = {'quantity': 'sum',\n",
        "                                                'price': 'sum',\n",
        "                                                'total': 'sum',\n",
        "                                               'order_id': 'count'})\n",
        "data_by_customers.head(5)"
      ]
    },
    {
      "cell_type": "code",
      "execution_count": null,
      "id": "d3db7a0b",
      "metadata": {
        "id": "d3db7a0b",
        "outputId": "8afc87d4-79f6-46a8-b1d9-9b12a8fe6256"
      },
      "outputs": [
        {
          "data": {
            "text/html": [
              "<div>\n",
              "<style scoped>\n",
              "    .dataframe tbody tr th:only-of-type {\n",
              "        vertical-align: middle;\n",
              "    }\n",
              "\n",
              "    .dataframe tbody tr th {\n",
              "        vertical-align: top;\n",
              "    }\n",
              "\n",
              "    .dataframe thead th {\n",
              "        text-align: right;\n",
              "    }\n",
              "</style>\n",
              "<table border=\"1\" class=\"dataframe\">\n",
              "  <thead>\n",
              "    <tr style=\"text-align: right;\">\n",
              "      <th></th>\n",
              "      <th>order_id</th>\n",
              "      <th>price</th>\n",
              "      <th>quantity</th>\n",
              "      <th>total</th>\n",
              "      <th>average</th>\n",
              "      <th>average_check</th>\n",
              "    </tr>\n",
              "    <tr>\n",
              "      <th>customer_id</th>\n",
              "      <th></th>\n",
              "      <th></th>\n",
              "      <th></th>\n",
              "      <th></th>\n",
              "      <th></th>\n",
              "      <th></th>\n",
              "    </tr>\n",
              "  </thead>\n",
              "  <tbody>\n",
              "    <tr>\n",
              "      <th>000d6849-084e-4d9f-ac03-37174eaf60c4</th>\n",
              "      <td>4</td>\n",
              "      <td>555.0</td>\n",
              "      <td>4</td>\n",
              "      <td>555.0</td>\n",
              "      <td>138.75</td>\n",
              "      <td>138.75</td>\n",
              "    </tr>\n",
              "    <tr>\n",
              "      <th>001cee7f-0b29-4716-b202-0042213ab038</th>\n",
              "      <td>1</td>\n",
              "      <td>442.0</td>\n",
              "      <td>1</td>\n",
              "      <td>442.0</td>\n",
              "      <td>442.00</td>\n",
              "      <td>442.00</td>\n",
              "    </tr>\n",
              "    <tr>\n",
              "      <th>00299f34-5385-4d13-9aea-c80b81658e1b</th>\n",
              "      <td>1</td>\n",
              "      <td>457.0</td>\n",
              "      <td>2</td>\n",
              "      <td>914.0</td>\n",
              "      <td>457.00</td>\n",
              "      <td>914.00</td>\n",
              "    </tr>\n",
              "    <tr>\n",
              "      <th>002d4d3a-4a59-406b-86ec-c3314357e498</th>\n",
              "      <td>1</td>\n",
              "      <td>1649.0</td>\n",
              "      <td>1</td>\n",
              "      <td>1649.0</td>\n",
              "      <td>1649.00</td>\n",
              "      <td>1649.00</td>\n",
              "    </tr>\n",
              "    <tr>\n",
              "      <th>003bbd39-0000-41ff-b7f9-2ddaec152037</th>\n",
              "      <td>1</td>\n",
              "      <td>1162.0</td>\n",
              "      <td>2</td>\n",
              "      <td>2324.0</td>\n",
              "      <td>1162.00</td>\n",
              "      <td>2324.00</td>\n",
              "    </tr>\n",
              "    <tr>\n",
              "      <th>...</th>\n",
              "      <td>...</td>\n",
              "      <td>...</td>\n",
              "      <td>...</td>\n",
              "      <td>...</td>\n",
              "      <td>...</td>\n",
              "      <td>...</td>\n",
              "    </tr>\n",
              "    <tr>\n",
              "      <th>ff601403-b094-4b86-9ac6-264d725b9277</th>\n",
              "      <td>1</td>\n",
              "      <td>1649.0</td>\n",
              "      <td>1</td>\n",
              "      <td>1649.0</td>\n",
              "      <td>1649.00</td>\n",
              "      <td>1649.00</td>\n",
              "    </tr>\n",
              "    <tr>\n",
              "      <th>ffaeab76-3a8d-49ee-860f-17273b2fc8a2</th>\n",
              "      <td>1</td>\n",
              "      <td>397.0</td>\n",
              "      <td>1</td>\n",
              "      <td>397.0</td>\n",
              "      <td>397.00</td>\n",
              "      <td>397.00</td>\n",
              "    </tr>\n",
              "    <tr>\n",
              "      <th>ffb5976a-7a4d-460b-95c4-5ffaba31cb24</th>\n",
              "      <td>1</td>\n",
              "      <td>389.0</td>\n",
              "      <td>1</td>\n",
              "      <td>389.0</td>\n",
              "      <td>389.00</td>\n",
              "      <td>389.00</td>\n",
              "    </tr>\n",
              "    <tr>\n",
              "      <th>ffb80538-3fda-4351-8ea9-9d2bec58bb07</th>\n",
              "      <td>1</td>\n",
              "      <td>974.0</td>\n",
              "      <td>1</td>\n",
              "      <td>974.0</td>\n",
              "      <td>974.00</td>\n",
              "      <td>974.00</td>\n",
              "    </tr>\n",
              "    <tr>\n",
              "      <th>ffe82299-3f5b-4214-87fe-3d36ecccfac3</th>\n",
              "      <td>1</td>\n",
              "      <td>577.0</td>\n",
              "      <td>1</td>\n",
              "      <td>577.0</td>\n",
              "      <td>577.00</td>\n",
              "      <td>577.00</td>\n",
              "    </tr>\n",
              "  </tbody>\n",
              "</table>\n",
              "<p>2268 rows × 6 columns</p>\n",
              "</div>"
            ],
            "text/plain": [
              "                                      order_id   price  quantity   total  \\\n",
              "customer_id                                                                \n",
              "000d6849-084e-4d9f-ac03-37174eaf60c4         4   555.0         4   555.0   \n",
              "001cee7f-0b29-4716-b202-0042213ab038         1   442.0         1   442.0   \n",
              "00299f34-5385-4d13-9aea-c80b81658e1b         1   457.0         2   914.0   \n",
              "002d4d3a-4a59-406b-86ec-c3314357e498         1  1649.0         1  1649.0   \n",
              "003bbd39-0000-41ff-b7f9-2ddaec152037         1  1162.0         2  2324.0   \n",
              "...                                        ...     ...       ...     ...   \n",
              "ff601403-b094-4b86-9ac6-264d725b9277         1  1649.0         1  1649.0   \n",
              "ffaeab76-3a8d-49ee-860f-17273b2fc8a2         1   397.0         1   397.0   \n",
              "ffb5976a-7a4d-460b-95c4-5ffaba31cb24         1   389.0         1   389.0   \n",
              "ffb80538-3fda-4351-8ea9-9d2bec58bb07         1   974.0         1   974.0   \n",
              "ffe82299-3f5b-4214-87fe-3d36ecccfac3         1   577.0         1   577.0   \n",
              "\n",
              "                                      average  average_check  \n",
              "customer_id                                                   \n",
              "000d6849-084e-4d9f-ac03-37174eaf60c4   138.75         138.75  \n",
              "001cee7f-0b29-4716-b202-0042213ab038   442.00         442.00  \n",
              "00299f34-5385-4d13-9aea-c80b81658e1b   457.00         914.00  \n",
              "002d4d3a-4a59-406b-86ec-c3314357e498  1649.00        1649.00  \n",
              "003bbd39-0000-41ff-b7f9-2ddaec152037  1162.00        2324.00  \n",
              "...                                       ...            ...  \n",
              "ff601403-b094-4b86-9ac6-264d725b9277  1649.00        1649.00  \n",
              "ffaeab76-3a8d-49ee-860f-17273b2fc8a2   397.00         397.00  \n",
              "ffb5976a-7a4d-460b-95c4-5ffaba31cb24   389.00         389.00  \n",
              "ffb80538-3fda-4351-8ea9-9d2bec58bb07   974.00         974.00  \n",
              "ffe82299-3f5b-4214-87fe-3d36ecccfac3   577.00         577.00  \n",
              "\n",
              "[2268 rows x 6 columns]"
            ]
          },
          "execution_count": 43,
          "metadata": {},
          "output_type": "execute_result"
        }
      ],
      "source": [
        "# Посчитаем среднюю стоимость товара по покупателю: разделим общуюю сумму на количество купленных товаров\n",
        "data_by_customers['average'] = data_by_customers['total'] / data_by_customers['quantity']\n",
        "# Посчитаем средний чек: разделим общую сумму на количество заказов:\n",
        "data_by_customers['average_check'] = data_by_customers['total'] / data_by_customers['order_id']\n",
        "data_by_customers"
      ]
    },
    {
      "cell_type": "code",
      "execution_count": null,
      "id": "0b1e58b0",
      "metadata": {
        "id": "0b1e58b0",
        "outputId": "c4b08161-b7b7-47ea-dcad-b7361f8801ac"
      },
      "outputs": [
        {
          "data": {
            "text/html": [
              "<div>\n",
              "<style scoped>\n",
              "    .dataframe tbody tr th:only-of-type {\n",
              "        vertical-align: middle;\n",
              "    }\n",
              "\n",
              "    .dataframe tbody tr th {\n",
              "        vertical-align: top;\n",
              "    }\n",
              "\n",
              "    .dataframe thead th {\n",
              "        text-align: right;\n",
              "    }\n",
              "</style>\n",
              "<table border=\"1\" class=\"dataframe\">\n",
              "  <thead>\n",
              "    <tr style=\"text-align: right;\">\n",
              "      <th></th>\n",
              "      <th>order_id</th>\n",
              "      <th>price</th>\n",
              "      <th>quantity</th>\n",
              "      <th>total</th>\n",
              "      <th>average</th>\n",
              "      <th>average_check</th>\n",
              "    </tr>\n",
              "    <tr>\n",
              "      <th>customer_id</th>\n",
              "      <th></th>\n",
              "      <th></th>\n",
              "      <th></th>\n",
              "      <th></th>\n",
              "      <th></th>\n",
              "      <th></th>\n",
              "    </tr>\n",
              "  </thead>\n",
              "  <tbody>\n",
              "    <tr>\n",
              "      <th>c971fb21-d54c-4134-938f-16b62ee86d3b</th>\n",
              "      <td>133</td>\n",
              "      <td>131825.0</td>\n",
              "      <td>172</td>\n",
              "      <td>141644.0</td>\n",
              "      <td>823.511628</td>\n",
              "      <td>1064.992481</td>\n",
              "    </tr>\n",
              "    <tr>\n",
              "      <th>2a0acc09-e343-4f92-b5c0-f598ef2b07d4</th>\n",
              "      <td>31</td>\n",
              "      <td>1178.0</td>\n",
              "      <td>60</td>\n",
              "      <td>2280.0</td>\n",
              "      <td>38.000000</td>\n",
              "      <td>73.548387</td>\n",
              "    </tr>\n",
              "    <tr>\n",
              "      <th>0184f535-b60a-4914-a982-231e3f615206</th>\n",
              "      <td>30</td>\n",
              "      <td>3310.0</td>\n",
              "      <td>58</td>\n",
              "      <td>5891.0</td>\n",
              "      <td>101.568966</td>\n",
              "      <td>196.366667</td>\n",
              "    </tr>\n",
              "    <tr>\n",
              "      <th>d3b9ffea-d143-4747-8d59-74ab843d1ad6</th>\n",
              "      <td>51</td>\n",
              "      <td>2922.0</td>\n",
              "      <td>51</td>\n",
              "      <td>2922.0</td>\n",
              "      <td>57.294118</td>\n",
              "      <td>57.294118</td>\n",
              "    </tr>\n",
              "    <tr>\n",
              "      <th>97f94402-66c0-4995-b8d7-adb33eda71c8</th>\n",
              "      <td>16</td>\n",
              "      <td>1330.0</td>\n",
              "      <td>44</td>\n",
              "      <td>2394.0</td>\n",
              "      <td>54.409091</td>\n",
              "      <td>149.625000</td>\n",
              "    </tr>\n",
              "    <tr>\n",
              "      <th>4d93d3f6-8b24-403b-a74b-f5173e40d7db</th>\n",
              "      <td>34</td>\n",
              "      <td>29343.0</td>\n",
              "      <td>41</td>\n",
              "      <td>36086.0</td>\n",
              "      <td>880.146341</td>\n",
              "      <td>1061.352941</td>\n",
              "    </tr>\n",
              "    <tr>\n",
              "      <th>760aa067-90c3-4794-b7a9-a8831197388b</th>\n",
              "      <td>36</td>\n",
              "      <td>4389.0</td>\n",
              "      <td>37</td>\n",
              "      <td>4558.0</td>\n",
              "      <td>123.189189</td>\n",
              "      <td>126.611111</td>\n",
              "    </tr>\n",
              "    <tr>\n",
              "      <th>b6da6f7a-d2a3-424a-878e-1876c8b88126</th>\n",
              "      <td>14</td>\n",
              "      <td>942.0</td>\n",
              "      <td>35</td>\n",
              "      <td>2068.0</td>\n",
              "      <td>59.085714</td>\n",
              "      <td>147.714286</td>\n",
              "    </tr>\n",
              "    <tr>\n",
              "      <th>b6095dc9-1580-4d1f-8ba3-a554a8dab3bd</th>\n",
              "      <td>8</td>\n",
              "      <td>304.0</td>\n",
              "      <td>34</td>\n",
              "      <td>1292.0</td>\n",
              "      <td>38.000000</td>\n",
              "      <td>161.500000</td>\n",
              "    </tr>\n",
              "    <tr>\n",
              "      <th>eeec96e6-88f0-4d11-a100-0b3971840412</th>\n",
              "      <td>21</td>\n",
              "      <td>2804.0</td>\n",
              "      <td>34</td>\n",
              "      <td>4482.0</td>\n",
              "      <td>131.823529</td>\n",
              "      <td>213.428571</td>\n",
              "    </tr>\n",
              "  </tbody>\n",
              "</table>\n",
              "</div>"
            ],
            "text/plain": [
              "                                      order_id     price  quantity     total  \\\n",
              "customer_id                                                                    \n",
              "c971fb21-d54c-4134-938f-16b62ee86d3b       133  131825.0       172  141644.0   \n",
              "2a0acc09-e343-4f92-b5c0-f598ef2b07d4        31    1178.0        60    2280.0   \n",
              "0184f535-b60a-4914-a982-231e3f615206        30    3310.0        58    5891.0   \n",
              "d3b9ffea-d143-4747-8d59-74ab843d1ad6        51    2922.0        51    2922.0   \n",
              "97f94402-66c0-4995-b8d7-adb33eda71c8        16    1330.0        44    2394.0   \n",
              "4d93d3f6-8b24-403b-a74b-f5173e40d7db        34   29343.0        41   36086.0   \n",
              "760aa067-90c3-4794-b7a9-a8831197388b        36    4389.0        37    4558.0   \n",
              "b6da6f7a-d2a3-424a-878e-1876c8b88126        14     942.0        35    2068.0   \n",
              "b6095dc9-1580-4d1f-8ba3-a554a8dab3bd         8     304.0        34    1292.0   \n",
              "eeec96e6-88f0-4d11-a100-0b3971840412        21    2804.0        34    4482.0   \n",
              "\n",
              "                                         average  average_check  \n",
              "customer_id                                                      \n",
              "c971fb21-d54c-4134-938f-16b62ee86d3b  823.511628    1064.992481  \n",
              "2a0acc09-e343-4f92-b5c0-f598ef2b07d4   38.000000      73.548387  \n",
              "0184f535-b60a-4914-a982-231e3f615206  101.568966     196.366667  \n",
              "d3b9ffea-d143-4747-8d59-74ab843d1ad6   57.294118      57.294118  \n",
              "97f94402-66c0-4995-b8d7-adb33eda71c8   54.409091     149.625000  \n",
              "4d93d3f6-8b24-403b-a74b-f5173e40d7db  880.146341    1061.352941  \n",
              "760aa067-90c3-4794-b7a9-a8831197388b  123.189189     126.611111  \n",
              "b6da6f7a-d2a3-424a-878e-1876c8b88126   59.085714     147.714286  \n",
              "b6095dc9-1580-4d1f-8ba3-a554a8dab3bd   38.000000     161.500000  \n",
              "eeec96e6-88f0-4d11-a100-0b3971840412  131.823529     213.428571  "
            ]
          },
          "execution_count": 44,
          "metadata": {},
          "output_type": "execute_result"
        }
      ],
      "source": [
        "data_by_customers.sort_values('quantity', ascending=False).head(10)"
      ]
    },
    {
      "cell_type": "code",
      "execution_count": null,
      "id": "e09c9d0a",
      "metadata": {
        "id": "e09c9d0a",
        "outputId": "1cfbf63e-426d-4d81-bd3b-8a2962ca152e"
      },
      "outputs": [
        {
          "data": {
            "image/png": "[encoded data removed]",
            "text/plain": [
              "<Figure size 432x288 with 1 Axes>"
            ]
          },
          "metadata": {
            "needs_background": "light"
          },
          "output_type": "display_data"
        },
        {
          "data": {
            "image/png": "[encoded data removed]",
            "text/plain": [
              "<Figure size 432x288 with 1 Axes>"
            ]
          },
          "metadata": {
            "needs_background": "light"
          },
          "output_type": "display_data"
        },
        {
          "data": {
            "image/png": "[encoded data removed]",
            "text/plain": [
              "<Figure size 432x288 with 1 Axes>"
            ]
          },
          "metadata": {
            "needs_background": "light"
          },
          "output_type": "display_data"
        },
        {
          "data": {
            "image/png": "[encoded data removed]",
            "text/plain": [
              "<Figure size 432x288 with 1 Axes>"
            ]
          },
          "metadata": {
            "needs_background": "light"
          },
          "output_type": "display_data"
        }
      ],
      "source": [
        "# Т.к. ML не любит выбросы, удалим 2,5 % сверху:\n",
        "for i in ['quantity','total', 'average', 'average_check'] :\n",
        "    data_by_customers = data_by_customers[data_by_customers[i] <= np.percentile(data_by_customers[i], 97.5)]\n",
        "    # взглянем на распределение полученных данных:\n",
        "    data_by_customers[i].hist(bins=100)\n",
        "    plt.title(i)\n",
        "    plt.show()\n",
        ""
      ]
    },
    {
      "cell_type": "markdown",
      "id": "6d21773d",
      "metadata": {
        "id": "6d21773d"
      },
      "source": [
        "Применим кластеризацию из ML (KMeans):"
      ]
    },
    {
      "cell_type": "code",
      "execution_count": null,
      "id": "43b8a8b6",
      "metadata": {
        "id": "43b8a8b6"
      },
      "outputs": [],
      "source": [
        "# За основу возьмем 5 фич:\n",
        "features = ['quantity','total', 'average', 'average_check', 'order_id']\n",
        "X = data_by_customers[features]"
      ]
    },
    {
      "cell_type": "code",
      "execution_count": null,
      "id": "79773d4e",
      "metadata": {
        "id": "79773d4e"
      },
      "outputs": [],
      "source": [
        "# Стандартизируем данные\n",
        "sc = StandardScaler()\n",
        "X_sc = sc.fit_transform(X)\n",
        "\n",
        "# задаём число кластеров, равное 3, и фиксируем значение random_state для воспроизводимости результата:\n",
        "km = KMeans(n_clusters=3, random_state=0)\n",
        "# применяем алгоритм к данным и формируем вектор кластеров\n",
        "labels = km.fit_predict(X_sc)\n",
        "# создадим столбец, в который запишем номер кластера:\n",
        "data_by_customers['cluster'] = labels"
      ]
    },
    {
      "cell_type": "markdown",
      "id": "376021c9",
      "metadata": {
        "id": "376021c9"
      },
      "source": [
        "<div class=\"alert alert-block alert-info\">\n",
        "  \n",
        "  <b>Комментарий cтудента V.2</b> Поняла, учту на будущее."
      ]
    },
    {
      "cell_type": "code",
      "execution_count": null,
      "id": "ebda3fc6",
      "metadata": {
        "id": "ebda3fc6"
      },
      "outputs": [],
      "source": [
        "data_by_customers = data_by_customers.reset_index()"
      ]
    },
    {
      "cell_type": "code",
      "execution_count": null,
      "id": "31066260",
      "metadata": {
        "id": "31066260",
        "outputId": "02f8b590-8f6d-4e10-c9eb-56dce410e04a"
      },
      "outputs": [
        {
          "data": {
            "text/html": [
              "<div>\n",
              "<style scoped>\n",
              "    .dataframe tbody tr th:only-of-type {\n",
              "        vertical-align: middle;\n",
              "    }\n",
              "\n",
              "    .dataframe tbody tr th {\n",
              "        vertical-align: top;\n",
              "    }\n",
              "\n",
              "    .dataframe thead th {\n",
              "        text-align: right;\n",
              "    }\n",
              "</style>\n",
              "<table border=\"1\" class=\"dataframe\">\n",
              "  <thead>\n",
              "    <tr style=\"text-align: right;\">\n",
              "      <th></th>\n",
              "      <th>customer_id</th>\n",
              "      <th>order_id</th>\n",
              "      <th>price</th>\n",
              "      <th>quantity</th>\n",
              "      <th>total</th>\n",
              "      <th>average</th>\n",
              "      <th>average_check</th>\n",
              "      <th>cluster</th>\n",
              "    </tr>\n",
              "  </thead>\n",
              "  <tbody>\n",
              "    <tr>\n",
              "      <th>0</th>\n",
              "      <td>000d6849-084e-4d9f-ac03-37174eaf60c4</td>\n",
              "      <td>4</td>\n",
              "      <td>555.0</td>\n",
              "      <td>4</td>\n",
              "      <td>555.0</td>\n",
              "      <td>138.75</td>\n",
              "      <td>138.75</td>\n",
              "      <td>1</td>\n",
              "    </tr>\n",
              "    <tr>\n",
              "      <th>1</th>\n",
              "      <td>001cee7f-0b29-4716-b202-0042213ab038</td>\n",
              "      <td>1</td>\n",
              "      <td>442.0</td>\n",
              "      <td>1</td>\n",
              "      <td>442.0</td>\n",
              "      <td>442.00</td>\n",
              "      <td>442.00</td>\n",
              "      <td>1</td>\n",
              "    </tr>\n",
              "    <tr>\n",
              "      <th>2</th>\n",
              "      <td>00299f34-5385-4d13-9aea-c80b81658e1b</td>\n",
              "      <td>1</td>\n",
              "      <td>457.0</td>\n",
              "      <td>2</td>\n",
              "      <td>914.0</td>\n",
              "      <td>457.00</td>\n",
              "      <td>914.00</td>\n",
              "      <td>1</td>\n",
              "    </tr>\n",
              "    <tr>\n",
              "      <th>3</th>\n",
              "      <td>002d4d3a-4a59-406b-86ec-c3314357e498</td>\n",
              "      <td>1</td>\n",
              "      <td>1649.0</td>\n",
              "      <td>1</td>\n",
              "      <td>1649.0</td>\n",
              "      <td>1649.00</td>\n",
              "      <td>1649.00</td>\n",
              "      <td>2</td>\n",
              "    </tr>\n",
              "    <tr>\n",
              "      <th>4</th>\n",
              "      <td>003bbd39-0000-41ff-b7f9-2ddaec152037</td>\n",
              "      <td>1</td>\n",
              "      <td>1162.0</td>\n",
              "      <td>2</td>\n",
              "      <td>2324.0</td>\n",
              "      <td>1162.00</td>\n",
              "      <td>2324.00</td>\n",
              "      <td>2</td>\n",
              "    </tr>\n",
              "    <tr>\n",
              "      <th>...</th>\n",
              "      <td>...</td>\n",
              "      <td>...</td>\n",
              "      <td>...</td>\n",
              "      <td>...</td>\n",
              "      <td>...</td>\n",
              "      <td>...</td>\n",
              "      <td>...</td>\n",
              "      <td>...</td>\n",
              "    </tr>\n",
              "    <tr>\n",
              "      <th>2048</th>\n",
              "      <td>ff601403-b094-4b86-9ac6-264d725b9277</td>\n",
              "      <td>1</td>\n",
              "      <td>1649.0</td>\n",
              "      <td>1</td>\n",
              "      <td>1649.0</td>\n",
              "      <td>1649.00</td>\n",
              "      <td>1649.00</td>\n",
              "      <td>2</td>\n",
              "    </tr>\n",
              "    <tr>\n",
              "      <th>2049</th>\n",
              "      <td>ffaeab76-3a8d-49ee-860f-17273b2fc8a2</td>\n",
              "      <td>1</td>\n",
              "      <td>397.0</td>\n",
              "      <td>1</td>\n",
              "      <td>397.0</td>\n",
              "      <td>397.00</td>\n",
              "      <td>397.00</td>\n",
              "      <td>1</td>\n",
              "    </tr>\n",
              "    <tr>\n",
              "      <th>2050</th>\n",
              "      <td>ffb5976a-7a4d-460b-95c4-5ffaba31cb24</td>\n",
              "      <td>1</td>\n",
              "      <td>389.0</td>\n",
              "      <td>1</td>\n",
              "      <td>389.0</td>\n",
              "      <td>389.00</td>\n",
              "      <td>389.00</td>\n",
              "      <td>1</td>\n",
              "    </tr>\n",
              "    <tr>\n",
              "      <th>2051</th>\n",
              "      <td>ffb80538-3fda-4351-8ea9-9d2bec58bb07</td>\n",
              "      <td>1</td>\n",
              "      <td>974.0</td>\n",
              "      <td>1</td>\n",
              "      <td>974.0</td>\n",
              "      <td>974.00</td>\n",
              "      <td>974.00</td>\n",
              "      <td>2</td>\n",
              "    </tr>\n",
              "    <tr>\n",
              "      <th>2052</th>\n",
              "      <td>ffe82299-3f5b-4214-87fe-3d36ecccfac3</td>\n",
              "      <td>1</td>\n",
              "      <td>577.0</td>\n",
              "      <td>1</td>\n",
              "      <td>577.0</td>\n",
              "      <td>577.00</td>\n",
              "      <td>577.00</td>\n",
              "      <td>1</td>\n",
              "    </tr>\n",
              "  </tbody>\n",
              "</table>\n",
              "<p>2053 rows × 8 columns</p>\n",
              "</div>"
            ],
            "text/plain": [
              "                               customer_id  order_id   price  quantity  \\\n",
              "0     000d6849-084e-4d9f-ac03-37174eaf60c4         4   555.0         4   \n",
              "1     001cee7f-0b29-4716-b202-0042213ab038         1   442.0         1   \n",
              "2     00299f34-5385-4d13-9aea-c80b81658e1b         1   457.0         2   \n",
              "3     002d4d3a-4a59-406b-86ec-c3314357e498         1  1649.0         1   \n",
              "4     003bbd39-0000-41ff-b7f9-2ddaec152037         1  1162.0         2   \n",
              "...                                    ...       ...     ...       ...   \n",
              "2048  ff601403-b094-4b86-9ac6-264d725b9277         1  1649.0         1   \n",
              "2049  ffaeab76-3a8d-49ee-860f-17273b2fc8a2         1   397.0         1   \n",
              "2050  ffb5976a-7a4d-460b-95c4-5ffaba31cb24         1   389.0         1   \n",
              "2051  ffb80538-3fda-4351-8ea9-9d2bec58bb07         1   974.0         1   \n",
              "2052  ffe82299-3f5b-4214-87fe-3d36ecccfac3         1   577.0         1   \n",
              "\n",
              "       total  average  average_check  cluster  \n",
              "0      555.0   138.75         138.75        1  \n",
              "1      442.0   442.00         442.00        1  \n",
              "2      914.0   457.00         914.00        1  \n",
              "3     1649.0  1649.00        1649.00        2  \n",
              "4     2324.0  1162.00        2324.00        2  \n",
              "...      ...      ...            ...      ...  \n",
              "2048  1649.0  1649.00        1649.00        2  \n",
              "2049   397.0   397.00         397.00        1  \n",
              "2050   389.0   389.00         389.00        1  \n",
              "2051   974.0   974.00         974.00        2  \n",
              "2052   577.0   577.00         577.00        1  \n",
              "\n",
              "[2053 rows x 8 columns]"
            ]
          },
          "execution_count": 49,
          "metadata": {},
          "output_type": "execute_result"
        }
      ],
      "source": [
        "data_by_customers"
      ]
    },
    {
      "cell_type": "code",
      "execution_count": null,
      "id": "b9d0a10c",
      "metadata": {
        "id": "b9d0a10c",
        "outputId": "7527276b-227a-4b2e-f869-1da24a4d421f"
      },
      "outputs": [
        {
          "data": {
            "text/html": [
              "<div>\n",
              "<style scoped>\n",
              "    .dataframe tbody tr th:only-of-type {\n",
              "        vertical-align: middle;\n",
              "    }\n",
              "\n",
              "    .dataframe tbody tr th {\n",
              "        vertical-align: top;\n",
              "    }\n",
              "\n",
              "    .dataframe thead th {\n",
              "        text-align: right;\n",
              "    }\n",
              "</style>\n",
              "<table border=\"1\" class=\"dataframe\">\n",
              "  <thead>\n",
              "    <tr style=\"text-align: right;\">\n",
              "      <th></th>\n",
              "      <th>date</th>\n",
              "      <th>customer_id</th>\n",
              "      <th>order_id_x</th>\n",
              "      <th>product</th>\n",
              "      <th>quantity_x</th>\n",
              "      <th>price_x</th>\n",
              "      <th>total_x</th>\n",
              "      <th>category</th>\n",
              "      <th>month</th>\n",
              "      <th>order_id_y</th>\n",
              "      <th>price_y</th>\n",
              "      <th>quantity_y</th>\n",
              "      <th>total_y</th>\n",
              "      <th>average</th>\n",
              "      <th>average_check</th>\n",
              "      <th>cluster</th>\n",
              "    </tr>\n",
              "  </thead>\n",
              "  <tbody>\n",
              "    <tr>\n",
              "      <th>0</th>\n",
              "      <td>2018-10-01</td>\n",
              "      <td>ee47d746-6d2f-4d3c-9622-c31412542920</td>\n",
              "      <td>68477</td>\n",
              "      <td>Комнатное растение в горшке Алое Вера, d12, h30</td>\n",
              "      <td>1</td>\n",
              "      <td>142.0</td>\n",
              "      <td>142.0</td>\n",
              "      <td>Растения</td>\n",
              "      <td>2018-10-01</td>\n",
              "      <td>7</td>\n",
              "      <td>1037.0</td>\n",
              "      <td>7</td>\n",
              "      <td>1037.0</td>\n",
              "      <td>148.142857</td>\n",
              "      <td>148.142857</td>\n",
              "      <td>0</td>\n",
              "    </tr>\n",
              "    <tr>\n",
              "      <th>1</th>\n",
              "      <td>2018-10-01</td>\n",
              "      <td>ee47d746-6d2f-4d3c-9622-c31412542920</td>\n",
              "      <td>68477</td>\n",
              "      <td>Комнатное растение в горшке Кофе Арабика, d12,...</td>\n",
              "      <td>1</td>\n",
              "      <td>194.0</td>\n",
              "      <td>194.0</td>\n",
              "      <td>Растения</td>\n",
              "      <td>2018-10-01</td>\n",
              "      <td>7</td>\n",
              "      <td>1037.0</td>\n",
              "      <td>7</td>\n",
              "      <td>1037.0</td>\n",
              "      <td>148.142857</td>\n",
              "      <td>148.142857</td>\n",
              "      <td>0</td>\n",
              "    </tr>\n",
              "    <tr>\n",
              "      <th>2</th>\n",
              "      <td>2018-10-01</td>\n",
              "      <td>ee47d746-6d2f-4d3c-9622-c31412542920</td>\n",
              "      <td>68477</td>\n",
              "      <td>Радермахера d-12 см h-20 см</td>\n",
              "      <td>1</td>\n",
              "      <td>112.0</td>\n",
              "      <td>112.0</td>\n",
              "      <td>Растения</td>\n",
              "      <td>2018-10-01</td>\n",
              "      <td>7</td>\n",
              "      <td>1037.0</td>\n",
              "      <td>7</td>\n",
              "      <td>1037.0</td>\n",
              "      <td>148.142857</td>\n",
              "      <td>148.142857</td>\n",
              "      <td>0</td>\n",
              "    </tr>\n",
              "    <tr>\n",
              "      <th>3</th>\n",
              "      <td>2018-10-01</td>\n",
              "      <td>ee47d746-6d2f-4d3c-9622-c31412542920</td>\n",
              "      <td>68477</td>\n",
              "      <td>Хризолидокарпус Лутесценс d-9 см</td>\n",
              "      <td>1</td>\n",
              "      <td>179.0</td>\n",
              "      <td>179.0</td>\n",
              "      <td>Растения</td>\n",
              "      <td>2018-10-01</td>\n",
              "      <td>7</td>\n",
              "      <td>1037.0</td>\n",
              "      <td>7</td>\n",
              "      <td>1037.0</td>\n",
              "      <td>148.142857</td>\n",
              "      <td>148.142857</td>\n",
              "      <td>0</td>\n",
              "    </tr>\n",
              "    <tr>\n",
              "      <th>4</th>\n",
              "      <td>2018-10-01</td>\n",
              "      <td>ee47d746-6d2f-4d3c-9622-c31412542920</td>\n",
              "      <td>68477</td>\n",
              "      <td>Циперус Зумула d-12 см h-25 см</td>\n",
              "      <td>1</td>\n",
              "      <td>112.0</td>\n",
              "      <td>112.0</td>\n",
              "      <td>Растения</td>\n",
              "      <td>2018-10-01</td>\n",
              "      <td>7</td>\n",
              "      <td>1037.0</td>\n",
              "      <td>7</td>\n",
              "      <td>1037.0</td>\n",
              "      <td>148.142857</td>\n",
              "      <td>148.142857</td>\n",
              "      <td>0</td>\n",
              "    </tr>\n",
              "  </tbody>\n",
              "</table>\n",
              "</div>"
            ],
            "text/plain": [
              "         date                           customer_id  order_id_x  \\\n",
              "0  2018-10-01  ee47d746-6d2f-4d3c-9622-c31412542920       68477   \n",
              "1  2018-10-01  ee47d746-6d2f-4d3c-9622-c31412542920       68477   \n",
              "2  2018-10-01  ee47d746-6d2f-4d3c-9622-c31412542920       68477   \n",
              "3  2018-10-01  ee47d746-6d2f-4d3c-9622-c31412542920       68477   \n",
              "4  2018-10-01  ee47d746-6d2f-4d3c-9622-c31412542920       68477   \n",
              "\n",
              "                                             product  quantity_x  price_x  \\\n",
              "0    Комнатное растение в горшке Алое Вера, d12, h30           1    142.0   \n",
              "1  Комнатное растение в горшке Кофе Арабика, d12,...           1    194.0   \n",
              "2                        Радермахера d-12 см h-20 см           1    112.0   \n",
              "3                   Хризолидокарпус Лутесценс d-9 см           1    179.0   \n",
              "4                     Циперус Зумула d-12 см h-25 см           1    112.0   \n",
              "\n",
              "   total_x  category       month  order_id_y  price_y  quantity_y  total_y  \\\n",
              "0    142.0  Растения  2018-10-01           7   1037.0           7   1037.0   \n",
              "1    194.0  Растения  2018-10-01           7   1037.0           7   1037.0   \n",
              "2    112.0  Растения  2018-10-01           7   1037.0           7   1037.0   \n",
              "3    179.0  Растения  2018-10-01           7   1037.0           7   1037.0   \n",
              "4    112.0  Растения  2018-10-01           7   1037.0           7   1037.0   \n",
              "\n",
              "      average  average_check  cluster  \n",
              "0  148.142857     148.142857        0  \n",
              "1  148.142857     148.142857        0  \n",
              "2  148.142857     148.142857        0  \n",
              "3  148.142857     148.142857        0  \n",
              "4  148.142857     148.142857        0  "
            ]
          },
          "execution_count": 50,
          "metadata": {},
          "output_type": "execute_result"
        }
      ],
      "source": [
        "data = data.merge(data_by_customers, on = 'customer_id')\n",
        "data.head()"
      ]
    },
    {
      "cell_type": "code",
      "execution_count": null,
      "id": "0b2c673e",
      "metadata": {
        "id": "0b2c673e",
        "outputId": "30bbd9db-7dd6-4165-dfad-b52b9056cfdb"
      },
      "outputs": [
        {
          "data": {
            "text/html": [
              "<div>\n",
              "<style scoped>\n",
              "    .dataframe tbody tr th:only-of-type {\n",
              "        vertical-align: middle;\n",
              "    }\n",
              "\n",
              "    .dataframe tbody tr th {\n",
              "        vertical-align: top;\n",
              "    }\n",
              "\n",
              "    .dataframe thead th {\n",
              "        text-align: right;\n",
              "    }\n",
              "</style>\n",
              "<table border=\"1\" class=\"dataframe\">\n",
              "  <thead>\n",
              "    <tr style=\"text-align: right;\">\n",
              "      <th></th>\n",
              "      <th>date</th>\n",
              "      <th>customer_id</th>\n",
              "      <th>order_id_x</th>\n",
              "      <th>product</th>\n",
              "      <th>quantity_x</th>\n",
              "      <th>price_x</th>\n",
              "      <th>total_x</th>\n",
              "      <th>category</th>\n",
              "      <th>month</th>\n",
              "      <th>order_id_y</th>\n",
              "      <th>average</th>\n",
              "      <th>average_check</th>\n",
              "      <th>cluster</th>\n",
              "    </tr>\n",
              "  </thead>\n",
              "  <tbody>\n",
              "    <tr>\n",
              "      <th>0</th>\n",
              "      <td>2018-10-01</td>\n",
              "      <td>ee47d746-6d2f-4d3c-9622-c31412542920</td>\n",
              "      <td>68477</td>\n",
              "      <td>Комнатное растение в горшке Алое Вера, d12, h30</td>\n",
              "      <td>1</td>\n",
              "      <td>142.0</td>\n",
              "      <td>142.0</td>\n",
              "      <td>Растения</td>\n",
              "      <td>2018-10-01</td>\n",
              "      <td>7</td>\n",
              "      <td>148.142857</td>\n",
              "      <td>148.142857</td>\n",
              "      <td>0</td>\n",
              "    </tr>\n",
              "    <tr>\n",
              "      <th>1</th>\n",
              "      <td>2018-10-01</td>\n",
              "      <td>ee47d746-6d2f-4d3c-9622-c31412542920</td>\n",
              "      <td>68477</td>\n",
              "      <td>Комнатное растение в горшке Кофе Арабика, d12,...</td>\n",
              "      <td>1</td>\n",
              "      <td>194.0</td>\n",
              "      <td>194.0</td>\n",
              "      <td>Растения</td>\n",
              "      <td>2018-10-01</td>\n",
              "      <td>7</td>\n",
              "      <td>148.142857</td>\n",
              "      <td>148.142857</td>\n",
              "      <td>0</td>\n",
              "    </tr>\n",
              "    <tr>\n",
              "      <th>2</th>\n",
              "      <td>2018-10-01</td>\n",
              "      <td>ee47d746-6d2f-4d3c-9622-c31412542920</td>\n",
              "      <td>68477</td>\n",
              "      <td>Радермахера d-12 см h-20 см</td>\n",
              "      <td>1</td>\n",
              "      <td>112.0</td>\n",
              "      <td>112.0</td>\n",
              "      <td>Растения</td>\n",
              "      <td>2018-10-01</td>\n",
              "      <td>7</td>\n",
              "      <td>148.142857</td>\n",
              "      <td>148.142857</td>\n",
              "      <td>0</td>\n",
              "    </tr>\n",
              "    <tr>\n",
              "      <th>3</th>\n",
              "      <td>2018-10-01</td>\n",
              "      <td>ee47d746-6d2f-4d3c-9622-c31412542920</td>\n",
              "      <td>68477</td>\n",
              "      <td>Хризолидокарпус Лутесценс d-9 см</td>\n",
              "      <td>1</td>\n",
              "      <td>179.0</td>\n",
              "      <td>179.0</td>\n",
              "      <td>Растения</td>\n",
              "      <td>2018-10-01</td>\n",
              "      <td>7</td>\n",
              "      <td>148.142857</td>\n",
              "      <td>148.142857</td>\n",
              "      <td>0</td>\n",
              "    </tr>\n",
              "    <tr>\n",
              "      <th>4</th>\n",
              "      <td>2018-10-01</td>\n",
              "      <td>ee47d746-6d2f-4d3c-9622-c31412542920</td>\n",
              "      <td>68477</td>\n",
              "      <td>Циперус Зумула d-12 см h-25 см</td>\n",
              "      <td>1</td>\n",
              "      <td>112.0</td>\n",
              "      <td>112.0</td>\n",
              "      <td>Растения</td>\n",
              "      <td>2018-10-01</td>\n",
              "      <td>7</td>\n",
              "      <td>148.142857</td>\n",
              "      <td>148.142857</td>\n",
              "      <td>0</td>\n",
              "    </tr>\n",
              "  </tbody>\n",
              "</table>\n",
              "</div>"
            ],
            "text/plain": [
              "         date                           customer_id  order_id_x  \\\n",
              "0  2018-10-01  ee47d746-6d2f-4d3c-9622-c31412542920       68477   \n",
              "1  2018-10-01  ee47d746-6d2f-4d3c-9622-c31412542920       68477   \n",
              "2  2018-10-01  ee47d746-6d2f-4d3c-9622-c31412542920       68477   \n",
              "3  2018-10-01  ee47d746-6d2f-4d3c-9622-c31412542920       68477   \n",
              "4  2018-10-01  ee47d746-6d2f-4d3c-9622-c31412542920       68477   \n",
              "\n",
              "                                             product  quantity_x  price_x  \\\n",
              "0    Комнатное растение в горшке Алое Вера, d12, h30           1    142.0   \n",
              "1  Комнатное растение в горшке Кофе Арабика, d12,...           1    194.0   \n",
              "2                        Радермахера d-12 см h-20 см           1    112.0   \n",
              "3                   Хризолидокарпус Лутесценс d-9 см           1    179.0   \n",
              "4                     Циперус Зумула d-12 см h-25 см           1    112.0   \n",
              "\n",
              "   total_x  category       month  order_id_y     average  average_check  \\\n",
              "0    142.0  Растения  2018-10-01           7  148.142857     148.142857   \n",
              "1    194.0  Растения  2018-10-01           7  148.142857     148.142857   \n",
              "2    112.0  Растения  2018-10-01           7  148.142857     148.142857   \n",
              "3    179.0  Растения  2018-10-01           7  148.142857     148.142857   \n",
              "4    112.0  Растения  2018-10-01           7  148.142857     148.142857   \n",
              "\n",
              "   cluster  \n",
              "0        0  \n",
              "1        0  \n",
              "2        0  \n",
              "3        0  \n",
              "4        0  "
            ]
          },
          "execution_count": 51,
          "metadata": {},
          "output_type": "execute_result"
        }
      ],
      "source": [
        "# Удалим лишние столбцы:\n",
        "for i in ['price_y', 'quantity_y', 'total_y']:\n",
        "    data = data.drop(i, axis=1)\n",
        "data.head()"
      ]
    },
    {
      "cell_type": "code",
      "execution_count": null,
      "id": "3fcba444",
      "metadata": {
        "id": "3fcba444",
        "outputId": "acfdcc0e-6c77-402e-ca0b-09f9c64717bf"
      },
      "outputs": [
        {
          "data": {
            "text/plain": [
              "1    1675\n",
              "0    1025\n",
              "2     592\n",
              "Name: cluster, dtype: int64"
            ]
          },
          "execution_count": 52,
          "metadata": {},
          "output_type": "execute_result"
        }
      ],
      "source": [
        "# Взглянем на объем получившихся кластеров\n",
        "data['cluster'].value_counts()"
      ]
    },
    {
      "cell_type": "code",
      "execution_count": null,
      "id": "e5cb8865",
      "metadata": {
        "id": "e5cb8865",
        "outputId": "ad5b66dd-1822-4f53-9b6e-575fa059ab61"
      },
      "outputs": [
        {
          "data": {
            "text/plain": [
              "2053"
            ]
          },
          "execution_count": 53,
          "metadata": {},
          "output_type": "execute_result"
        }
      ],
      "source": [
        "data['customer_id'].nunique()"
      ]
    },
    {
      "cell_type": "markdown",
      "id": "d321e9d1",
      "metadata": {
        "id": "d321e9d1"
      },
      "source": [
        "Кластеризацию мы делали по сгруппированным данным data_by_customers, длина которых:"
      ]
    },
    {
      "cell_type": "code",
      "execution_count": null,
      "id": "748c20f8",
      "metadata": {
        "id": "748c20f8",
        "outputId": "0611d12c-d837-4bab-f151-7cd2846253b3"
      },
      "outputs": [
        {
          "data": {
            "text/plain": [
              "2053"
            ]
          },
          "execution_count": 54,
          "metadata": {},
          "output_type": "execute_result"
        }
      ],
      "source": [
        "len(data_by_customers)"
      ]
    },
    {
      "cell_type": "code",
      "execution_count": null,
      "id": "3c05cc72",
      "metadata": {
        "id": "3c05cc72"
      },
      "outputs": [],
      "source": [
        "# Переименуем столбцы:\n",
        "data.rename(columns = {'quantity_x' : 'quantity', 'price_x' : 'price', 'total_x': 'total', 'order_id_x': 'order_id', 'order_id_y': 'quantity_order_id'}, inplace = True)"
      ]
    },
    {
      "cell_type": "code",
      "execution_count": null,
      "id": "6be86da7",
      "metadata": {
        "id": "6be86da7",
        "outputId": "079f29e1-4bfc-4e75-b26d-57aaacb4e267"
      },
      "outputs": [
        {
          "data": {
            "text/html": [
              "<div>\n",
              "<style scoped>\n",
              "    .dataframe tbody tr th:only-of-type {\n",
              "        vertical-align: middle;\n",
              "    }\n",
              "\n",
              "    .dataframe tbody tr th {\n",
              "        vertical-align: top;\n",
              "    }\n",
              "\n",
              "    .dataframe thead th {\n",
              "        text-align: right;\n",
              "    }\n",
              "</style>\n",
              "<table border=\"1\" class=\"dataframe\">\n",
              "  <thead>\n",
              "    <tr style=\"text-align: right;\">\n",
              "      <th></th>\n",
              "      <th>date</th>\n",
              "      <th>customer_id</th>\n",
              "      <th>order_id</th>\n",
              "      <th>product</th>\n",
              "      <th>quantity</th>\n",
              "      <th>price</th>\n",
              "      <th>total</th>\n",
              "      <th>category</th>\n",
              "      <th>month</th>\n",
              "      <th>quantity_order_id</th>\n",
              "      <th>average</th>\n",
              "      <th>average_check</th>\n",
              "      <th>cluster</th>\n",
              "    </tr>\n",
              "  </thead>\n",
              "  <tbody>\n",
              "    <tr>\n",
              "      <th>0</th>\n",
              "      <td>2018-10-01</td>\n",
              "      <td>ee47d746-6d2f-4d3c-9622-c31412542920</td>\n",
              "      <td>68477</td>\n",
              "      <td>Комнатное растение в горшке Алое Вера, d12, h30</td>\n",
              "      <td>1</td>\n",
              "      <td>142.0</td>\n",
              "      <td>142.0</td>\n",
              "      <td>Растения</td>\n",
              "      <td>2018-10-01</td>\n",
              "      <td>7</td>\n",
              "      <td>148.142857</td>\n",
              "      <td>148.142857</td>\n",
              "      <td>0</td>\n",
              "    </tr>\n",
              "    <tr>\n",
              "      <th>1</th>\n",
              "      <td>2018-10-01</td>\n",
              "      <td>ee47d746-6d2f-4d3c-9622-c31412542920</td>\n",
              "      <td>68477</td>\n",
              "      <td>Комнатное растение в горшке Кофе Арабика, d12,...</td>\n",
              "      <td>1</td>\n",
              "      <td>194.0</td>\n",
              "      <td>194.0</td>\n",
              "      <td>Растения</td>\n",
              "      <td>2018-10-01</td>\n",
              "      <td>7</td>\n",
              "      <td>148.142857</td>\n",
              "      <td>148.142857</td>\n",
              "      <td>0</td>\n",
              "    </tr>\n",
              "    <tr>\n",
              "      <th>2</th>\n",
              "      <td>2018-10-01</td>\n",
              "      <td>ee47d746-6d2f-4d3c-9622-c31412542920</td>\n",
              "      <td>68477</td>\n",
              "      <td>Радермахера d-12 см h-20 см</td>\n",
              "      <td>1</td>\n",
              "      <td>112.0</td>\n",
              "      <td>112.0</td>\n",
              "      <td>Растения</td>\n",
              "      <td>2018-10-01</td>\n",
              "      <td>7</td>\n",
              "      <td>148.142857</td>\n",
              "      <td>148.142857</td>\n",
              "      <td>0</td>\n",
              "    </tr>\n",
              "    <tr>\n",
              "      <th>3</th>\n",
              "      <td>2018-10-01</td>\n",
              "      <td>ee47d746-6d2f-4d3c-9622-c31412542920</td>\n",
              "      <td>68477</td>\n",
              "      <td>Хризолидокарпус Лутесценс d-9 см</td>\n",
              "      <td>1</td>\n",
              "      <td>179.0</td>\n",
              "      <td>179.0</td>\n",
              "      <td>Растения</td>\n",
              "      <td>2018-10-01</td>\n",
              "      <td>7</td>\n",
              "      <td>148.142857</td>\n",
              "      <td>148.142857</td>\n",
              "      <td>0</td>\n",
              "    </tr>\n",
              "    <tr>\n",
              "      <th>4</th>\n",
              "      <td>2018-10-01</td>\n",
              "      <td>ee47d746-6d2f-4d3c-9622-c31412542920</td>\n",
              "      <td>68477</td>\n",
              "      <td>Циперус Зумула d-12 см h-25 см</td>\n",
              "      <td>1</td>\n",
              "      <td>112.0</td>\n",
              "      <td>112.0</td>\n",
              "      <td>Растения</td>\n",
              "      <td>2018-10-01</td>\n",
              "      <td>7</td>\n",
              "      <td>148.142857</td>\n",
              "      <td>148.142857</td>\n",
              "      <td>0</td>\n",
              "    </tr>\n",
              "  </tbody>\n",
              "</table>\n",
              "</div>"
            ],
            "text/plain": [
              "         date                           customer_id  order_id  \\\n",
              "0  2018-10-01  ee47d746-6d2f-4d3c-9622-c31412542920     68477   \n",
              "1  2018-10-01  ee47d746-6d2f-4d3c-9622-c31412542920     68477   \n",
              "2  2018-10-01  ee47d746-6d2f-4d3c-9622-c31412542920     68477   \n",
              "3  2018-10-01  ee47d746-6d2f-4d3c-9622-c31412542920     68477   \n",
              "4  2018-10-01  ee47d746-6d2f-4d3c-9622-c31412542920     68477   \n",
              "\n",
              "                                             product  quantity  price  total  \\\n",
              "0    Комнатное растение в горшке Алое Вера, d12, h30         1  142.0  142.0   \n",
              "1  Комнатное растение в горшке Кофе Арабика, d12,...         1  194.0  194.0   \n",
              "2                        Радермахера d-12 см h-20 см         1  112.0  112.0   \n",
              "3                   Хризолидокарпус Лутесценс d-9 см         1  179.0  179.0   \n",
              "4                     Циперус Зумула d-12 см h-25 см         1  112.0  112.0   \n",
              "\n",
              "   category       month  quantity_order_id     average  average_check  cluster  \n",
              "0  Растения  2018-10-01                  7  148.142857     148.142857        0  \n",
              "1  Растения  2018-10-01                  7  148.142857     148.142857        0  \n",
              "2  Растения  2018-10-01                  7  148.142857     148.142857        0  \n",
              "3  Растения  2018-10-01                  7  148.142857     148.142857        0  \n",
              "4  Растения  2018-10-01                  7  148.142857     148.142857        0  "
            ]
          },
          "execution_count": 56,
          "metadata": {},
          "output_type": "execute_result"
        }
      ],
      "source": [
        "data.head()"
      ]
    },
    {
      "cell_type": "code",
      "execution_count": null,
      "id": "c4f565c7",
      "metadata": {
        "id": "c4f565c7",
        "outputId": "35721b2d-b201-4b0a-eb49-cfef0e67406b"
      },
      "outputs": [
        {
          "data": {
            "text/html": [
              "<style type=\"text/css\">\n",
              "#T_ee92c_row0_col0, #T_ee92c_row0_col3, #T_ee92c_row0_col4, #T_ee92c_row2_col4, #T_ee92c_row5_col0, #T_ee92c_row14_col1, #T_ee92c_row14_col2 {\n",
              "  background-color: #f7fcfd;\n",
              "  color: #000000;\n",
              "}\n",
              "#T_ee92c_row0_col1, #T_ee92c_row1_col1, #T_ee92c_row3_col3, #T_ee92c_row6_col2, #T_ee92c_row16_col1, #T_ee92c_row18_col1, #T_ee92c_row18_col2 {\n",
              "  background-color: #f1fafc;\n",
              "  color: #000000;\n",
              "}\n",
              "#T_ee92c_row0_col2, #T_ee92c_row3_col4, #T_ee92c_row12_col0, #T_ee92c_row16_col2 {\n",
              "  background-color: #f2fafc;\n",
              "  color: #000000;\n",
              "}\n",
              "#T_ee92c_row1_col0, #T_ee92c_row2_col3, #T_ee92c_row4_col0, #T_ee92c_row4_col1, #T_ee92c_row5_col1, #T_ee92c_row5_col2, #T_ee92c_row6_col0, #T_ee92c_row14_col0 {\n",
              "  background-color: #f6fcfd;\n",
              "  color: #000000;\n",
              "}\n",
              "#T_ee92c_row1_col2, #T_ee92c_row9_col0 {\n",
              "  background-color: #f5fbfc;\n",
              "  color: #000000;\n",
              "}\n",
              "#T_ee92c_row1_col3, #T_ee92c_row6_col1, #T_ee92c_row6_col3, #T_ee92c_row9_col4 {\n",
              "  background-color: #f0f9fb;\n",
              "  color: #000000;\n",
              "}\n",
              "#T_ee92c_row1_col4 {\n",
              "  background-color: #e0f3f5;\n",
              "  color: #000000;\n",
              "}\n",
              "#T_ee92c_row2_col0, #T_ee92c_row7_col0 {\n",
              "  background-color: #f3fafc;\n",
              "  color: #000000;\n",
              "}\n",
              "#T_ee92c_row2_col1 {\n",
              "  background-color: #ccece6;\n",
              "  color: #000000;\n",
              "}\n",
              "#T_ee92c_row2_col2, #T_ee92c_row7_col1, #T_ee92c_row11_col1 {\n",
              "  background-color: #ceede8;\n",
              "  color: #000000;\n",
              "}\n",
              "#T_ee92c_row3_col0, #T_ee92c_row11_col4 {\n",
              "  background-color: #d6f0ee;\n",
              "  color: #000000;\n",
              "}\n",
              "#T_ee92c_row3_col1, #T_ee92c_row3_col2, #T_ee92c_row14_col4, #T_ee92c_row18_col3, #T_ee92c_row19_col0 {\n",
              "  background-color: #00441b;\n",
              "  color: #f1f1f1;\n",
              "}\n",
              "#T_ee92c_row4_col2, #T_ee92c_row7_col3, #T_ee92c_row9_col3 {\n",
              "  background-color: #f5fbfd;\n",
              "  color: #000000;\n",
              "}\n",
              "#T_ee92c_row4_col3, #T_ee92c_row8_col4 {\n",
              "  background-color: #daf1f1;\n",
              "  color: #000000;\n",
              "}\n",
              "#T_ee92c_row4_col4 {\n",
              "  background-color: #def2f4;\n",
              "  color: #000000;\n",
              "}\n",
              "#T_ee92c_row5_col3 {\n",
              "  background-color: #eaf7fa;\n",
              "  color: #000000;\n",
              "}\n",
              "#T_ee92c_row5_col4, #T_ee92c_row10_col4, #T_ee92c_row16_col0 {\n",
              "  background-color: #eef8fb;\n",
              "  color: #000000;\n",
              "}\n",
              "#T_ee92c_row6_col4, #T_ee92c_row7_col4, #T_ee92c_row10_col3, #T_ee92c_row15_col2 {\n",
              "  background-color: #eff9fb;\n",
              "  color: #000000;\n",
              "}\n",
              "#T_ee92c_row7_col2 {\n",
              "  background-color: #e4f5f8;\n",
              "  color: #000000;\n",
              "}\n",
              "#T_ee92c_row8_col0 {\n",
              "  background-color: #e8f6fa;\n",
              "  color: #000000;\n",
              "}\n",
              "#T_ee92c_row8_col1 {\n",
              "  background-color: #afe1d5;\n",
              "  color: #000000;\n",
              "}\n",
              "#T_ee92c_row8_col2 {\n",
              "  background-color: #d4efec;\n",
              "  color: #000000;\n",
              "}\n",
              "#T_ee92c_row8_col3, #T_ee92c_row11_col0, #T_ee92c_row18_col0 {\n",
              "  background-color: #e9f7fa;\n",
              "  color: #000000;\n",
              "}\n",
              "#T_ee92c_row9_col1 {\n",
              "  background-color: #e3f4f7;\n",
              "  color: #000000;\n",
              "}\n",
              "#T_ee92c_row9_col2 {\n",
              "  background-color: #ebf7fa;\n",
              "  color: #000000;\n",
              "}\n",
              "#T_ee92c_row10_col0 {\n",
              "  background-color: #d2eeeb;\n",
              "  color: #000000;\n",
              "}\n",
              "#T_ee92c_row10_col1 {\n",
              "  background-color: #005a24;\n",
              "  color: #f1f1f1;\n",
              "}\n",
              "#T_ee92c_row10_col2 {\n",
              "  background-color: #03702e;\n",
              "  color: #f1f1f1;\n",
              "}\n",
              "#T_ee92c_row11_col2 {\n",
              "  background-color: #d8f0ef;\n",
              "  color: #000000;\n",
              "}\n",
              "#T_ee92c_row11_col3 {\n",
              "  background-color: #e1f4f6;\n",
              "  color: #000000;\n",
              "}\n",
              "#T_ee92c_row12_col1, #T_ee92c_row15_col1 {\n",
              "  background-color: #ecf8fa;\n",
              "  color: #000000;\n",
              "}\n",
              "#T_ee92c_row12_col2 {\n",
              "  background-color: #ecf8fb;\n",
              "  color: #000000;\n",
              "}\n",
              "#T_ee92c_row12_col3 {\n",
              "  background-color: #ddf2f3;\n",
              "  color: #000000;\n",
              "}\n",
              "#T_ee92c_row12_col4 {\n",
              "  background-color: #d9f1f0;\n",
              "  color: #000000;\n",
              "}\n",
              "#T_ee92c_row13_col0 {\n",
              "  background-color: #7dccb5;\n",
              "  color: #000000;\n",
              "}\n",
              "#T_ee92c_row13_col1 {\n",
              "  background-color: #2c9553;\n",
              "  color: #f1f1f1;\n",
              "}\n",
              "#T_ee92c_row13_col2 {\n",
              "  background-color: #2e9756;\n",
              "  color: #f1f1f1;\n",
              "}\n",
              "#T_ee92c_row13_col3 {\n",
              "  background-color: #cfede8;\n",
              "  color: #000000;\n",
              "}\n",
              "#T_ee92c_row13_col4 {\n",
              "  background-color: #cdece6;\n",
              "  color: #000000;\n",
              "}\n",
              "#T_ee92c_row14_col3 {\n",
              "  background-color: #005c25;\n",
              "  color: #f1f1f1;\n",
              "}\n",
              "#T_ee92c_row15_col0 {\n",
              "  background-color: #e7f6f9;\n",
              "  color: #000000;\n",
              "}\n",
              "#T_ee92c_row15_col3 {\n",
              "  background-color: #44af79;\n",
              "  color: #f1f1f1;\n",
              "}\n",
              "#T_ee92c_row15_col4 {\n",
              "  background-color: #00682a;\n",
              "  color: #f1f1f1;\n",
              "}\n",
              "#T_ee92c_row16_col3 {\n",
              "  background-color: #3fab72;\n",
              "  color: #f1f1f1;\n",
              "}\n",
              "#T_ee92c_row16_col4 {\n",
              "  background-color: #238b45;\n",
              "  color: #f1f1f1;\n",
              "}\n",
              "#T_ee92c_row17_col0 {\n",
              "  background-color: #d0ede9;\n",
              "  color: #000000;\n",
              "}\n",
              "#T_ee92c_row17_col1, #T_ee92c_row17_col2 {\n",
              "  background-color: #e5f5f9;\n",
              "  color: #000000;\n",
              "}\n",
              "#T_ee92c_row17_col3 {\n",
              "  background-color: #117b38;\n",
              "  color: #f1f1f1;\n",
              "}\n",
              "#T_ee92c_row17_col4 {\n",
              "  background-color: #127c39;\n",
              "  color: #f1f1f1;\n",
              "}\n",
              "#T_ee92c_row18_col4 {\n",
              "  background-color: #005622;\n",
              "  color: #f1f1f1;\n",
              "}\n",
              "#T_ee92c_row19_col1 {\n",
              "  background-color: #6cc4a8;\n",
              "  color: #000000;\n",
              "}\n",
              "#T_ee92c_row19_col2 {\n",
              "  background-color: #63c0a0;\n",
              "  color: #000000;\n",
              "}\n",
              "#T_ee92c_row19_col3 {\n",
              "  background-color: #006227;\n",
              "  color: #f1f1f1;\n",
              "}\n",
              "#T_ee92c_row19_col4 {\n",
              "  background-color: #006328;\n",
              "  color: #f1f1f1;\n",
              "}\n",
              "</style>\n",
              "<table id=\"T_ee92c_\">\n",
              "  <thead>\n",
              "    <tr>\n",
              "      <th class=\"blank\" >&nbsp;</th>\n",
              "      <th class=\"blank level0\" >&nbsp;</th>\n",
              "      <th class=\"col_heading level0 col0\" >total</th>\n",
              "      <th class=\"col_heading level0 col1\" >quantity</th>\n",
              "      <th class=\"col_heading level0 col2\" >order_id</th>\n",
              "      <th class=\"col_heading level0 col3\" >average</th>\n",
              "      <th class=\"col_heading level0 col4\" >average_check</th>\n",
              "    </tr>\n",
              "    <tr>\n",
              "      <th class=\"index_name level0\" >cluster</th>\n",
              "      <th class=\"index_name level1\" >category</th>\n",
              "      <th class=\"blank col0\" >&nbsp;</th>\n",
              "      <th class=\"blank col1\" >&nbsp;</th>\n",
              "      <th class=\"blank col2\" >&nbsp;</th>\n",
              "      <th class=\"blank col3\" >&nbsp;</th>\n",
              "      <th class=\"blank col4\" >&nbsp;</th>\n",
              "    </tr>\n",
              "  </thead>\n",
              "  <tbody>\n",
              "    <tr>\n",
              "      <th id=\"T_ee92c_level0_row0\" class=\"row_heading level0 row0\" rowspan=\"7\">0</th>\n",
              "      <th id=\"T_ee92c_level1_row0\" class=\"row_heading level1 row0\" >Декор и интерьер</th>\n",
              "      <td id=\"T_ee92c_row0_col0\" class=\"data row0 col0\" >3485.000000</td>\n",
              "      <td id=\"T_ee92c_row0_col1\" class=\"data row0 col1\" >44</td>\n",
              "      <td id=\"T_ee92c_row0_col2\" class=\"data row0 col2\" >33</td>\n",
              "      <td id=\"T_ee92c_row0_col3\" class=\"data row0 col3\" >79.204545</td>\n",
              "      <td id=\"T_ee92c_row0_col4\" class=\"data row0 col4\" >105.606061</td>\n",
              "    </tr>\n",
              "    <tr>\n",
              "      <th id=\"T_ee92c_level1_row1\" class=\"row_heading level1 row1\" >Посуда</th>\n",
              "      <td id=\"T_ee92c_row1_col0\" class=\"data row1 col0\" >6487.000000</td>\n",
              "      <td id=\"T_ee92c_row1_col1\" class=\"data row1 col1\" >44</td>\n",
              "      <td id=\"T_ee92c_row1_col2\" class=\"data row1 col2\" >19</td>\n",
              "      <td id=\"T_ee92c_row1_col3\" class=\"data row1 col3\" >147.431818</td>\n",
              "      <td id=\"T_ee92c_row1_col4\" class=\"data row1 col4\" >341.421053</td>\n",
              "    </tr>\n",
              "    <tr>\n",
              "      <th id=\"T_ee92c_level1_row2\" class=\"row_heading level1 row2\" >Рассада и семена</th>\n",
              "      <td id=\"T_ee92c_row2_col0\" class=\"data row2 col0\" >18775.000000</td>\n",
              "      <td id=\"T_ee92c_row2_col1\" class=\"data row2 col1\" >219</td>\n",
              "      <td id=\"T_ee92c_row2_col2\" class=\"data row2 col2\" >180</td>\n",
              "      <td id=\"T_ee92c_row2_col3\" class=\"data row2 col3\" >85.730594</td>\n",
              "      <td id=\"T_ee92c_row2_col4\" class=\"data row2 col4\" >104.305556</td>\n",
              "    </tr>\n",
              "    <tr>\n",
              "      <th id=\"T_ee92c_level1_row3\" class=\"row_heading level1 row3\" >Растения</th>\n",
              "      <td id=\"T_ee92c_row3_col0\" class=\"data row3 col0\" >119077.000000</td>\n",
              "      <td id=\"T_ee92c_row3_col1\" class=\"data row3 col1\" >849</td>\n",
              "      <td id=\"T_ee92c_row3_col2\" class=\"data row3 col2\" >732</td>\n",
              "      <td id=\"T_ee92c_row3_col3\" class=\"data row3 col3\" >140.255595</td>\n",
              "      <td id=\"T_ee92c_row3_col4\" class=\"data row3 col4\" >162.673497</td>\n",
              "    </tr>\n",
              "    <tr>\n",
              "      <th id=\"T_ee92c_level1_row4\" class=\"row_heading level1 row4\" >Текстиль для дома</th>\n",
              "      <td id=\"T_ee92c_row4_col0\" class=\"data row4 col0\" >5105.000000</td>\n",
              "      <td id=\"T_ee92c_row4_col1\" class=\"data row4 col1\" >15</td>\n",
              "      <td id=\"T_ee92c_row4_col2\" class=\"data row4 col2\" >14</td>\n",
              "      <td id=\"T_ee92c_row4_col3\" class=\"data row4 col3\" >340.333333</td>\n",
              "      <td id=\"T_ee92c_row4_col4\" class=\"data row4 col4\" >364.642857</td>\n",
              "    </tr>\n",
              "    <tr>\n",
              "      <th id=\"T_ee92c_level1_row5\" class=\"row_heading level1 row5\" >Товары для строительства и ремонта</th>\n",
              "      <td id=\"T_ee92c_row5_col0\" class=\"data row5 col0\" >2517.000000</td>\n",
              "      <td id=\"T_ee92c_row5_col1\" class=\"data row5 col1\" >12</td>\n",
              "      <td id=\"T_ee92c_row5_col2\" class=\"data row5 col2\" >12</td>\n",
              "      <td id=\"T_ee92c_row5_col3\" class=\"data row5 col3\" >209.750000</td>\n",
              "      <td id=\"T_ee92c_row5_col4\" class=\"data row5 col4\" >209.750000</td>\n",
              "    </tr>\n",
              "    <tr>\n",
              "      <th id=\"T_ee92c_level1_row6\" class=\"row_heading level1 row6\" >Хозяйственные товары</th>\n",
              "      <td id=\"T_ee92c_row6_col0\" class=\"data row6 col0\" >7009.000000</td>\n",
              "      <td id=\"T_ee92c_row6_col1\" class=\"data row6 col1\" >46</td>\n",
              "      <td id=\"T_ee92c_row6_col2\" class=\"data row6 col2\" >35</td>\n",
              "      <td id=\"T_ee92c_row6_col3\" class=\"data row6 col3\" >152.369565</td>\n",
              "      <td id=\"T_ee92c_row6_col4\" class=\"data row6 col4\" >200.257143</td>\n",
              "    </tr>\n",
              "    <tr>\n",
              "      <th id=\"T_ee92c_level0_row7\" class=\"row_heading level0 row7\" rowspan=\"7\">1</th>\n",
              "      <th id=\"T_ee92c_level1_row7\" class=\"row_heading level1 row7\" >Декор и интерьер</th>\n",
              "      <td id=\"T_ee92c_row7_col0\" class=\"data row7 col0\" >20347.000000</td>\n",
              "      <td id=\"T_ee92c_row7_col1\" class=\"data row7 col1\" >209</td>\n",
              "      <td id=\"T_ee92c_row7_col2\" class=\"data row7 col2\" >101</td>\n",
              "      <td id=\"T_ee92c_row7_col3\" class=\"data row7 col3\" >97.354067</td>\n",
              "      <td id=\"T_ee92c_row7_col4\" class=\"data row7 col4\" >201.455446</td>\n",
              "    </tr>\n",
              "    <tr>\n",
              "      <th id=\"T_ee92c_level1_row8\" class=\"row_heading level1 row8\" >Посуда</th>\n",
              "      <td id=\"T_ee92c_row8_col0\" class=\"data row8 col0\" >62630.000000</td>\n",
              "      <td id=\"T_ee92c_row8_col1\" class=\"data row8 col1\" >277</td>\n",
              "      <td id=\"T_ee92c_row8_col2\" class=\"data row8 col2\" >158</td>\n",
              "      <td id=\"T_ee92c_row8_col3\" class=\"data row8 col3\" >226.101083</td>\n",
              "      <td id=\"T_ee92c_row8_col4\" class=\"data row8 col4\" >396.392405</td>\n",
              "    </tr>\n",
              "    <tr>\n",
              "      <th id=\"T_ee92c_level1_row9\" class=\"row_heading level1 row9\" >Рассада и семена</th>\n",
              "      <td id=\"T_ee92c_row9_col0\" class=\"data row9 col0\" >12394.000000</td>\n",
              "      <td id=\"T_ee92c_row9_col1\" class=\"data row9 col1\" >122</td>\n",
              "      <td id=\"T_ee92c_row9_col2\" class=\"data row9 col2\" >67</td>\n",
              "      <td id=\"T_ee92c_row9_col3\" class=\"data row9 col3\" >101.590164</td>\n",
              "      <td id=\"T_ee92c_row9_col4\" class=\"data row9 col4\" >184.985075</td>\n",
              "    </tr>\n",
              "    <tr>\n",
              "      <th id=\"T_ee92c_level1_row10\" class=\"row_heading level1 row10\" >Растения</th>\n",
              "      <td id=\"T_ee92c_row10_col0\" class=\"data row10 col0\" >129539.000000</td>\n",
              "      <td id=\"T_ee92c_row10_col1\" class=\"data row10 col1\" >791</td>\n",
              "      <td id=\"T_ee92c_row10_col2\" class=\"data row10 col2\" >631</td>\n",
              "      <td id=\"T_ee92c_row10_col3\" class=\"data row10 col3\" >163.766119</td>\n",
              "      <td id=\"T_ee92c_row10_col4\" class=\"data row10 col4\" >205.291601</td>\n",
              "    </tr>\n",
              "    <tr>\n",
              "      <th id=\"T_ee92c_level1_row11\" class=\"row_heading level1 row11\" >Текстиль для дома</th>\n",
              "      <td id=\"T_ee92c_row11_col0\" class=\"data row11 col0\" >60384.000000</td>\n",
              "      <td id=\"T_ee92c_row11_col1\" class=\"data row11 col1\" >209</td>\n",
              "      <td id=\"T_ee92c_row11_col2\" class=\"data row11 col2\" >142</td>\n",
              "      <td id=\"T_ee92c_row11_col3\" class=\"data row11 col3\" >288.918660</td>\n",
              "      <td id=\"T_ee92c_row11_col4\" class=\"data row11 col4\" >425.239437</td>\n",
              "    </tr>\n",
              "    <tr>\n",
              "      <th id=\"T_ee92c_level1_row12\" class=\"row_heading level1 row12\" >Товары для строительства и ремонта</th>\n",
              "      <td id=\"T_ee92c_row12_col0\" class=\"data row12 col0\" >23461.000000</td>\n",
              "      <td id=\"T_ee92c_row12_col1\" class=\"data row12 col1\" >73</td>\n",
              "      <td id=\"T_ee92c_row12_col2\" class=\"data row12 col2\" >59</td>\n",
              "      <td id=\"T_ee92c_row12_col3\" class=\"data row12 col3\" >321.383562</td>\n",
              "      <td id=\"T_ee92c_row12_col4\" class=\"data row12 col4\" >397.644068</td>\n",
              "    </tr>\n",
              "    <tr>\n",
              "      <th id=\"T_ee92c_level1_row13\" class=\"row_heading level1 row13\" >Хозяйственные товары</th>\n",
              "      <td id=\"T_ee92c_row13_col0\" class=\"data row13 col0\" >257894.000000</td>\n",
              "      <td id=\"T_ee92c_row13_col1\" class=\"data row13 col1\" >608</td>\n",
              "      <td id=\"T_ee92c_row13_col2\" class=\"data row13 col2\" >517</td>\n",
              "      <td id=\"T_ee92c_row13_col3\" class=\"data row13 col3\" >424.167763</td>\n",
              "      <td id=\"T_ee92c_row13_col4\" class=\"data row13 col4\" >498.827853</td>\n",
              "    </tr>\n",
              "    <tr>\n",
              "      <th id=\"T_ee92c_level0_row14\" class=\"row_heading level0 row14\" rowspan=\"6\">2</th>\n",
              "      <th id=\"T_ee92c_level1_row14\" class=\"row_heading level1 row14\" >Декор и интерьер</th>\n",
              "      <td id=\"T_ee92c_row14_col0\" class=\"data row14 col0\" >8508.000000</td>\n",
              "      <td id=\"T_ee92c_row14_col1\" class=\"data row14 col1\" >6</td>\n",
              "      <td id=\"T_ee92c_row14_col2\" class=\"data row14 col2\" >5</td>\n",
              "      <td id=\"T_ee92c_row14_col3\" class=\"data row14 col3\" >1418.000000</td>\n",
              "      <td id=\"T_ee92c_row14_col4\" class=\"data row14 col4\" >1701.600000</td>\n",
              "    </tr>\n",
              "    <tr>\n",
              "      <th id=\"T_ee92c_level1_row15\" class=\"row_heading level1 row15\" >Посуда</th>\n",
              "      <td id=\"T_ee92c_row15_col0\" class=\"data row15 col0\" >69954.000000</td>\n",
              "      <td id=\"T_ee92c_row15_col1\" class=\"data row15 col1\" >72</td>\n",
              "      <td id=\"T_ee92c_row15_col2\" class=\"data row15 col2\" >46</td>\n",
              "      <td id=\"T_ee92c_row15_col3\" class=\"data row15 col3\" >971.583333</td>\n",
              "      <td id=\"T_ee92c_row15_col4\" class=\"data row15 col4\" >1520.739130</td>\n",
              "    </tr>\n",
              "    <tr>\n",
              "      <th id=\"T_ee92c_level1_row16\" class=\"row_heading level1 row16\" >Растения</th>\n",
              "      <td id=\"T_ee92c_row16_col0\" class=\"data row16 col0\" >38884.000000</td>\n",
              "      <td id=\"T_ee92c_row16_col1\" class=\"data row16 col1\" >39</td>\n",
              "      <td id=\"T_ee92c_row16_col2\" class=\"data row16 col2\" >30</td>\n",
              "      <td id=\"T_ee92c_row16_col3\" class=\"data row16 col3\" >997.025641</td>\n",
              "      <td id=\"T_ee92c_row16_col4\" class=\"data row16 col4\" >1296.133333</td>\n",
              "    </tr>\n",
              "    <tr>\n",
              "      <th id=\"T_ee92c_level1_row17\" class=\"row_heading level1 row17\" >Текстиль для дома</th>\n",
              "      <td id=\"T_ee92c_row17_col0\" class=\"data row17 col0\" >137227.000000</td>\n",
              "      <td id=\"T_ee92c_row17_col1\" class=\"data row17 col1\" >109</td>\n",
              "      <td id=\"T_ee92c_row17_col2\" class=\"data row17 col2\" >98</td>\n",
              "      <td id=\"T_ee92c_row17_col3\" class=\"data row17 col3\" >1258.963303</td>\n",
              "      <td id=\"T_ee92c_row17_col4\" class=\"data row17 col4\" >1400.275510</td>\n",
              "    </tr>\n",
              "    <tr>\n",
              "      <th id=\"T_ee92c_level1_row18\" class=\"row_heading level1 row18\" >Товары для строительства и ремонта</th>\n",
              "      <td id=\"T_ee92c_row18_col0\" class=\"data row18 col0\" >61123.000000</td>\n",
              "      <td id=\"T_ee92c_row18_col1\" class=\"data row18 col1\" >40</td>\n",
              "      <td id=\"T_ee92c_row18_col2\" class=\"data row18 col2\" >38</td>\n",
              "      <td id=\"T_ee92c_row18_col3\" class=\"data row18 col3\" >1528.075000</td>\n",
              "      <td id=\"T_ee92c_row18_col4\" class=\"data row18 col4\" >1608.500000</td>\n",
              "    </tr>\n",
              "    <tr>\n",
              "      <th id=\"T_ee92c_level1_row19\" class=\"row_heading level1 row19\" >Хозяйственные товары</th>\n",
              "      <td id=\"T_ee92c_row19_col0\" class=\"data row19 col0\" >579992.000000</td>\n",
              "      <td id=\"T_ee92c_row19_col1\" class=\"data row19 col1\" >415</td>\n",
              "      <td id=\"T_ee92c_row19_col2\" class=\"data row19 col2\" >375</td>\n",
              "      <td id=\"T_ee92c_row19_col3\" class=\"data row19 col3\" >1397.571084</td>\n",
              "      <td id=\"T_ee92c_row19_col4\" class=\"data row19 col4\" >1546.645333</td>\n",
              "    </tr>\n",
              "  </tbody>\n",
              "</table>\n"
            ],
            "text/plain": [
              "<pandas.io.formats.style.Styler at 0x22d6c53d7c0>"
            ]
          },
          "execution_count": 57,
          "metadata": {},
          "output_type": "execute_result"
        }
      ],
      "source": [
        "# Посмотрим на получившиеся кластеры и категории в них:\n",
        "data_by_clusters = data.groupby(['cluster', 'category']).agg(\n",
        "    {'total': 'sum', 'quantity':'sum', 'order_id': 'count'})\n",
        "data_by_clusters['average'] = data_by_clusters['total'] / data_by_clusters['quantity']\n",
        "data_by_clusters['average_check'] = data_by_clusters['total'] / data_by_clusters['order_id']\n",
        "data_by_clusters.style.background_gradient(subset=['total', 'quantity', 'order_id', 'average',  'average_check'], cmap='BuGn')"
      ]
    },
    {
      "cell_type": "markdown",
      "id": "0ddaba1a",
      "metadata": {
        "id": "0ddaba1a"
      },
      "source": [
        "Опишем кластеры:\n",
        "- 2 - \"дойная корова\": самая доходная категория - покупают дорогие товары, совсем не интересуются рассадой, а любимая категория - хозяйственные товары.\n",
        "- 1 - \"середняки\": средний чек - до 500 ден. ед., любимые категории: растения и хоз товары.\n",
        "- 0 - \"пенсионеры-дачники\": покупют мало, покупают дешевые товары с низким средним чеком, в основном - растения и рассаду."
      ]
    },
    {
      "cell_type": "markdown",
      "id": "fc1dc48d",
      "metadata": {
        "id": "fc1dc48d"
      },
      "source": [
        "Посмотрим на распределние данных по датам."
      ]
    },
    {
      "cell_type": "code",
      "execution_count": null,
      "id": "732328a8",
      "metadata": {
        "id": "732328a8",
        "outputId": "93afc32a-66e7-4490-8af0-199063389d90"
      },
      "outputs": [
        {
          "data": {
            "image/png": "[encoded data removed]",
            "text/plain": [
              "<Figure size 1080x720 with 1 Axes>"
            ]
          },
          "metadata": {
            "needs_background": "light"
          },
          "output_type": "display_data"
        }
      ],
      "source": [
        "data.pivot_table(index='cluster', columns='month', values='average_check', aggfunc='mean').T.plot(\n",
        "    figsize=(15,10), ylabel='Средний чек', title='Средний чек',kind='bar')\n",
        "plt.show()"
      ]
    },
    {
      "cell_type": "code",
      "execution_count": null,
      "id": "59b2e913",
      "metadata": {
        "id": "59b2e913",
        "outputId": "c1c3fdae-fe43-4d47-a30d-aeaf8ddcbbce"
      },
      "outputs": [
        {
          "data": {
            "image/png": "[encoded data removed]",
            "text/plain": [
              "<Figure size 1080x720 with 1 Axes>"
            ]
          },
          "metadata": {
            "needs_background": "light"
          },
          "output_type": "display_data"
        }
      ],
      "source": [
        "data.pivot_table(index='cluster', columns='month', values='total', aggfunc='sum').T.plot(\n",
        "    figsize=(15,10), ylabel='Совокупная выручка', title='Совокупная выручка',kind='bar')\n",
        "plt.show()"
      ]
    },
    {
      "cell_type": "code",
      "execution_count": null,
      "id": "7c7d410a",
      "metadata": {
        "id": "7c7d410a",
        "outputId": "ebc11326-ec2d-4591-8631-28c73de33c1c"
      },
      "outputs": [
        {
          "data": {
            "image/png": "[encoded data removed]",
            "text/plain": [
              "<Figure size 1080x720 with 1 Axes>"
            ]
          },
          "metadata": {
            "needs_background": "light"
          },
          "output_type": "display_data"
        }
      ],
      "source": [
        "data.pivot_table(index='cluster', columns='month', values='quantity', aggfunc='sum').T.plot(\n",
        "    figsize=(15,10), ylabel='Количество товаров', title='Количество товаров',kind='bar')\n",
        "plt.show()"
      ]
    },
    {
      "cell_type": "code",
      "execution_count": null,
      "id": "48443836",
      "metadata": {
        "id": "48443836",
        "outputId": "c29650a3-c2f9-41cb-92cc-8e129ef5aca8"
      },
      "outputs": [
        {
          "data": {
            "image/png": "[encoded data removed]",
            "text/plain": [
              "<Figure size 1080x720 with 1 Axes>"
            ]
          },
          "metadata": {
            "needs_background": "light"
          },
          "output_type": "display_data"
        }
      ],
      "source": [
        "data.pivot_table(index='cluster', columns='month', values='quantity_order_id', aggfunc='mean').T.plot(\n",
        "    figsize=(15,10), ylabel='Количество заказов на одного пользователя', title='Среднее количество заказов на одного пользователя',kind='bar')\n",
        "plt.show()"
      ]
    },
    {
      "cell_type": "code",
      "execution_count": null,
      "id": "f1d55793",
      "metadata": {
        "id": "f1d55793",
        "outputId": "99c8b5d2-f57c-4283-a0a6-e0cb49f04762"
      },
      "outputs": [
        {
          "data": {
            "image/png": "[encoded data removed]",
            "text/plain": [
              "<Figure size 1080x720 with 1 Axes>"
            ]
          },
          "metadata": {
            "needs_background": "light"
          },
          "output_type": "display_data"
        }
      ],
      "source": [
        "data.pivot_table(index='cluster', columns='month', values='average', aggfunc='mean').T.plot(\n",
        "    figsize=(15,10), ylabel='Средняя стоимость товара', title='Средняя стоимость товара',kind='bar')\n",
        "plt.show()"
      ]
    },
    {
      "cell_type": "markdown",
      "id": "a31688cb",
      "metadata": {
        "id": "a31688cb"
      },
      "source": [
        "Видим, что средний чек и средняя стоимость товара практически не зависят от сезонности.\n",
        "\n",
        "По совокупной выручке: дойные коровы больше всего приносят выручки в декабре, а спад - в мае-июне. Середняки стабильны в течении года. А вот у пенсионеров-дачников: пик продаж - в мае. Декабрь-явнарь - мертвые месяцы.\n",
        "\n",
        "По количеству товаров: сильная сезонность наблюдается у дачников: в фервале начинается рост, который достигает пика в мае и заканчивается к июлю.\n",
        "\n",
        "По дачникам подозрительно то, что в октябре-ноябре 2018 г были высокие продажи, которые в октябре 2019 г. сильно снизились.  Необходимо дополнительно исследовать, с чем это связано."
      ]
    },
    {
      "cell_type": "markdown",
      "id": "d01f9b7f",
      "metadata": {
        "id": "d01f9b7f"
      },
      "source": [
        "Посмотрим на совокупную выручку по категориям по каждому кластеру в течении исследуемого периода:"
      ]
    },
    {
      "cell_type": "code",
      "execution_count": null,
      "id": "46d776c3",
      "metadata": {
        "id": "46d776c3",
        "outputId": "d303dc8d-ef73-433e-d69f-843120cb0b5d"
      },
      "outputs": [
        {
          "name": "stdout",
          "output_type": "stream",
          "text": [
            "Кластер: 0\n"
          ]
        },
        {
          "data": {
            "image/png": "[encoded data removed]",
            "text/plain": [
              "<Figure size 720x504 with 1 Axes>"
            ]
          },
          "metadata": {
            "needs_background": "light"
          },
          "output_type": "display_data"
        },
        {
          "name": "stdout",
          "output_type": "stream",
          "text": [
            "Кластер: 1\n"
          ]
        },
        {
          "data": {
            "image/png": "[encoded data removed]",
            "text/plain": [
              "<Figure size 720x504 with 1 Axes>"
            ]
          },
          "metadata": {
            "needs_background": "light"
          },
          "output_type": "display_data"
        },
        {
          "name": "stdout",
          "output_type": "stream",
          "text": [
            "Кластер: 2\n"
          ]
        },
        {
          "data": {
            "image/png": "[encoded data removed]",
            "text/plain": [
              "<Figure size 720x504 with 1 Axes>"
            ]
          },
          "metadata": {
            "needs_background": "light"
          },
          "output_type": "display_data"
        }
      ],
      "source": [
        "for i in range(0,3):\n",
        "    print('Кластер:', i)\n",
        "    data.query('cluster == @i').pivot_table(index='category', columns='month', values='total', aggfunc='sum').T.plot(\n",
        "        figsize=(10,7), ylabel='Совокупная выручка', title='Совокупная выручка',kind='bar')\n",
        "    plt.show()"
      ]
    },
    {
      "cell_type": "markdown",
      "id": "f0303ad0",
      "metadata": {
        "id": "f0303ad0"
      },
      "source": [
        "Вывод:\n",
        "Для каждого кластера к пику - заранее давать рекламу и увеличивать ассортимент, к спаду нужно снижать ассортимент и количество товара на складе.\n",
        "- пик выручки от \"дойных коровх\" приходится на категорию \"Хозяйственные товары\", особенно - в декабре и августе. Спад по хоз товарам - май-июнь.\n",
        "- \"середняки\" - пик \"посуды\" в декабре, спад \"хоз товаров\" в мае, а пик - в феврале, пик растений - с февраля по апрель, пик \"рассады\" - с марта по июнь.\n",
        "- \"дачники\" - Пик выручки от \"пенсионеров\" приходится на категорию “растения”: покупки начинаются в феврале, достигают пика в мае и затухают к августу. Следом идет “рассада”, которая с марта набирает обороты, достигает пика в мае и затухает к июлю."
      ]
    },
    {
      "cell_type": "code",
      "execution_count": null,
      "id": "33494854",
      "metadata": {
        "id": "33494854",
        "outputId": "3962009f-9a58-415c-ddc4-4f1b92172fce"
      },
      "outputs": [
        {
          "data": {
            "image/png": "[encoded data removed]",
            "text/plain": [
              "<Figure size 1080x720 with 1 Axes>"
            ]
          },
          "metadata": {
            "needs_background": "light"
          },
          "output_type": "display_data"
        }
      ],
      "source": [
        "# Дендрограмма:\n",
        "\n",
        "linked = linkage(X_sc, method = 'ward')\n",
        "plt.figure(figsize=(15, 10))\n",
        "dendrogram(linked, orientation='top')\n",
        "plt.title('Hierarchial clustering for customers')\n",
        "plt.show()"
      ]
    },
    {
      "cell_type": "code",
      "execution_count": null,
      "id": "aab760c2",
      "metadata": {
        "id": "aab760c2",
        "outputId": "bec06348-3e4c-4fec-ab3c-a585bdf20149"
      },
      "outputs": [
        {
          "name": "stderr",
          "output_type": "stream",
          "text": [
            "C:\\programs\\lib\\site-packages\\sklearn\\cluster\\_kmeans.py:881: UserWarning: KMeans is known to have a memory leak on Windows with MKL, when there are less chunks than available threads. You can avoid it by setting the environment variable OMP_NUM_THREADS=9.\n",
            "  warnings.warn(\n"
          ]
        },
        {
          "data": {
            "text/plain": [
              "Text(0, 0.5, 'WCSS')"
            ]
          },
          "execution_count": 65,
          "metadata": {},
          "output_type": "execute_result"
        },
        {
          "data": {
            "image/png": "[encoded data removed]",
            "text/plain": [
              "<Figure size 720x432 with 1 Axes>"
            ]
          },
          "metadata": {
            "needs_background": "light"
          },
          "output_type": "display_data"
        }
      ],
      "source": [
        "# импортируем нужный класс\n",
        "from sklearn.cluster import KMeans\n",
        "\n",
        "# создадим пустой список для записи показателя WCSS (нашей ошибки)\n",
        "wcss = []\n",
        "\n",
        "# воспользуемся функцией range(), она возвращает последовательность чисел\n",
        "# в данном случае числа от 1 до 10\n",
        "for i in range(1, 11):\n",
        "\n",
        "    # настроим параметры модели\n",
        "    kmeans = KMeans(n_clusters = i, init = 'k-means++', max_iter = 300, n_init = 100, random_state = 42)\n",
        "\n",
        "    # обучим модель на наших данных с разным количеством кластеров\n",
        "    kmeans.fit(X)\n",
        "\n",
        "    # для каждого кластера рассчитаем ошибку (атрибут inertia_) и поместим в список\n",
        "    wcss.append(kmeans.inertia_)\n",
        "\n",
        "# зададим размер график\n",
        "plt.figure(figsize = (10,6))\n",
        "# передадим функции plot() последовательность кластеров и ошибку WCSS\n",
        "plt.plot(range(1, 11), wcss)\n",
        "# и добавим подписи\n",
        "plt.title('Выбор количества кластеров методом локтя')\n",
        "plt.xlabel('Количество кластеров')\n",
        "plt.ylabel('WCSS')"
      ]
    },
    {
      "cell_type": "markdown",
      "id": "e002d035",
      "metadata": {
        "id": "e002d035"
      },
      "source": [
        "По графику выше видим, что можно взять 2 или 3 кластера. Но с т зр смысла для бизнеса результаты, которые показывают 3 кластера, более применимы, чем 2. Поэтому выбираем 3."
      ]
    },
    {
      "cell_type": "markdown",
      "id": "44d7df18",
      "metadata": {
        "id": "44d7df18"
      },
      "source": [
        "# Проверка статистических гипотез"
      ]
    },
    {
      "cell_type": "code",
      "execution_count": null,
      "id": "b01212b5",
      "metadata": {
        "id": "b01212b5",
        "outputId": "dc20cb97-c1d9-4961-bcfa-d49e32491ed0"
      },
      "outputs": [
        {
          "name": "stdout",
          "output_type": "stream",
          "text": [
            "Сравниваем 2 кластера: 0 1\n",
            "p-значение:  1.2043751400533067e-76\n",
            "Отвергаем нулевую гипотезу: разница статистически значима\n",
            "Сравниваем 2 кластера: 0 2\n",
            "p-значение:  1.3329133174508796e-246\n",
            "Отвергаем нулевую гипотезу: разница статистически значима\n",
            "Сравниваем 2 кластера: 1 2\n",
            "p-значение:  1.4494725554587507e-278\n",
            "Отвергаем нулевую гипотезу: разница статистически значима\n"
          ]
        }
      ],
      "source": [
        "# Н0 - два кластера похожи друг на друга по среднему чеку\n",
        "# Н1 - два кластера отличаются друг от друга по среднему чеку\n",
        "# Применим непараметрический тест Уилкоксона-Манна-Уитни:\n",
        "\n",
        "# зададим критический уровень статистической значимости\n",
        "alpha = 0.05\n",
        "\n",
        "# проверим гипотезу о равенстве двух кластеров по среднему чеку (циклом сразу все кластеры)\n",
        "\n",
        "for i in range(0,2):\n",
        "    for j in range(i+1,3):\n",
        "        print('Сравниваем 2 кластера:', i, j)\n",
        "        results = st.mannwhitneyu(data.query('cluster == @i')['average_check'],\n",
        "            data.query('cluster == @j')['average_check'])\n",
        "\n",
        "        print('p-значение: ', results.pvalue)\n",
        "\n",
        "        if results.pvalue < alpha:\n",
        "            print('Отвергаем нулевую гипотезу: разница статистически значима')\n",
        "        else:\n",
        "            print('Не получилось отвергнуть нулевую гипотезу, вывод о различии сделать нельзя')"
      ]
    },
    {
      "cell_type": "markdown",
      "id": "e38a184f",
      "metadata": {
        "id": "e38a184f"
      },
      "source": [
        "Видим, что разбивка на кластеры прошла успешно, мы действительно выделили 3 разных по среднему чеку кластера"
      ]
    },
    {
      "cell_type": "code",
      "execution_count": null,
      "id": "65164bf4",
      "metadata": {
        "id": "65164bf4",
        "outputId": "8ea6fffd-e835-466f-9254-9f73fedcd98f"
      },
      "outputs": [
        {
          "name": "stdout",
          "output_type": "stream",
          "text": [
            "Сравниваем 2 кластера: 0 1\n",
            "p-значение:  3.221604855016266e-85\n",
            "Отвергаем нулевую гипотезу: разница статистически значима\n",
            "Сравниваем 2 кластера: 0 2\n",
            "p-значение:  8.441057243076572e-246\n",
            "Отвергаем нулевую гипотезу: разница статистически значима\n",
            "Сравниваем 2 кластера: 1 2\n",
            "p-значение:  1.0510653946136903e-277\n",
            "Отвергаем нулевую гипотезу: разница статистически значима\n"
          ]
        }
      ],
      "source": [
        "# Н0 - два кластера похожи друг на друга по общей выручке\n",
        "# Н1 - два кластера отличаются друг от друга по общей выручке\n",
        "# Применим непараметрический тест Уилкоксона-Манна-Уитни:\n",
        "\n",
        "# зададим критический уровень статистической значимости\n",
        "alpha = 0.05\n",
        "\n",
        "# проверим гипотезу о равенстве двух кластеров по общей выручке  (циклом сразу все кластеры)\n",
        "\n",
        "for i in range(0,2):\n",
        "    for j in range(i+1,3):\n",
        "        print('Сравниваем 2 кластера:', i, j)\n",
        "        results = st.mannwhitneyu(data.query('cluster == @i')['total'],\n",
        "            data.query('cluster == @j')['average_check'])\n",
        "\n",
        "        print('p-значение: ', results.pvalue)\n",
        "\n",
        "        if results.pvalue < alpha:\n",
        "            print('Отвергаем нулевую гипотезу: разница статистически значима')\n",
        "        else:\n",
        "            print('Не получилось отвергнуть нулевую гипотезу, вывод о различии сделать нельзя')"
      ]
    },
    {
      "cell_type": "markdown",
      "id": "602fd69f",
      "metadata": {
        "id": "602fd69f"
      },
      "source": [
        "Видим, что разбивка на кластеры прошла успешно, мы действительно выделили 3 разных по среднему чеку кластера"
      ]
    },
    {
      "cell_type": "markdown",
      "id": "6fdb3aa6",
      "metadata": {
        "id": "6fdb3aa6"
      },
      "source": [
        "# Выводы"
      ]
    },
    {
      "cell_type": "markdown",
      "id": "6cfc7015",
      "metadata": {
        "id": "6cfc7015"
      },
      "source": [
        "Покупатели разделены на 3 кластера:\n",
        "- 2 - \"дойная корова\": самая доходная категория - покупают дорогие товары, совсем не интересуются рассадой, а любимая категория - хозяйственные товары.\n",
        "Пик выручки от \"дойных коровх\" приходится на категорию \"Хозяйственные товары\", особенно - в декабре и августе. Спад по хоз товарам - май-июнь.\n",
        "- 1 - \"середняки\": средний чек - до 500 ден. ед., любимые категории: растения и хоз товары.\n",
        "Пик выручки от \"середняков\" приходится на категорию “хозяйственные товары” в феврале. \"Посуда\" лидирует в декабре, пик растений - с февраля по апрель, пик \"рассады\" - с марта по июнь.\n",
        "- 0 - \"пенсионеры-дачники\": покупют мало, покупают дешевые товары с низким средним чеком, в основном - растения и рассаду.\n",
        "Пик \"растений\" в мае, начинает расти в фервале и затухает к августу. Пик выручки от \"пенсионеров\" приходится на категорию “растения”: покупки начинаются в феврале, достигают пика в мае и затухают к августу. Следом идет “рассада”, которая с марта набирает обороты, достигает пика в мае и затухает к июлю.\n",
        "\n",
        "Для каждого кластера к пику продаж необходимо заранее давать рекламу и увеличивать ассортимент, к спаду нужно снижать ассортимент и количество товара на складе."
      ]
    },
    {
      "cell_type": "markdown",
      "id": "149f1c6e",
      "metadata": {
        "id": "149f1c6e"
      },
      "source": [
        "Обратить внимание на те заказы, в которых более 6 штук каждого товара. Необходимо исследовать данную категорию, среди них есть оптовики, которым можно сделать специальное предложение."
      ]
    },
    {
      "cell_type": "markdown",
      "id": "97b1b30d",
      "metadata": {
        "id": "97b1b30d"
      },
      "source": [
        "В 2019 г. октябрь показал меньше продаж по всем категориям, чем в 2018 г. Необходимо провести дополнительное исследование по этому поводу."
      ]
    }
  ],
  "metadata": {
    "ExecuteTimeLog": [
      {
        "duration": 4,
        "start_time": "2022-08-07T06:02:50.133Z"
      },
      {
        "duration": 97,
        "start_time": "2022-08-07T07:24:33.298Z"
      },
      {
        "duration": 60,
        "start_time": "2022-08-07T07:24:41.546Z"
      },
      {
        "duration": 1540,
        "start_time": "2022-08-07T07:24:47.877Z"
      },
      {
        "duration": 132,
        "start_time": "2022-08-07T07:24:49.424Z"
      },
      {
        "duration": 15,
        "start_time": "2022-08-07T07:24:49.558Z"
      },
      {
        "duration": 14,
        "start_time": "2022-08-07T07:24:49.575Z"
      },
      {
        "duration": 50,
        "start_time": "2022-08-07T07:24:49.591Z"
      },
      {
        "duration": 111,
        "start_time": "2022-08-07T07:24:49.643Z"
      },
      {
        "duration": 5,
        "start_time": "2022-08-07T07:24:49.755Z"
      },
      {
        "duration": 68,
        "start_time": "2022-08-07T07:24:49.761Z"
      },
      {
        "duration": 28,
        "start_time": "2022-08-07T07:24:49.831Z"
      },
      {
        "duration": 59,
        "start_time": "2022-08-07T07:24:49.861Z"
      },
      {
        "duration": 204,
        "start_time": "2022-08-07T07:24:49.922Z"
      },
      {
        "duration": 102,
        "start_time": "2022-08-07T07:24:50.128Z"
      },
      {
        "duration": 9,
        "start_time": "2022-08-07T07:24:50.233Z"
      },
      {
        "duration": 42,
        "start_time": "2022-08-07T07:24:50.245Z"
      },
      {
        "duration": 321,
        "start_time": "2022-08-07T07:24:50.289Z"
      },
      {
        "duration": 24,
        "start_time": "2022-08-07T07:24:50.612Z"
      },
      {
        "duration": 10,
        "start_time": "2022-08-07T07:24:50.638Z"
      },
      {
        "duration": 36,
        "start_time": "2022-08-07T07:24:50.650Z"
      },
      {
        "duration": 192,
        "start_time": "2022-08-07T07:24:50.687Z"
      },
      {
        "duration": 31,
        "start_time": "2022-08-07T07:24:50.881Z"
      },
      {
        "duration": 40,
        "start_time": "2022-08-07T07:24:50.914Z"
      },
      {
        "duration": 12,
        "start_time": "2022-08-07T07:24:50.955Z"
      },
      {
        "duration": 20,
        "start_time": "2022-08-07T07:24:50.969Z"
      },
      {
        "duration": 97,
        "start_time": "2022-08-07T07:24:56.715Z"
      },
      {
        "duration": 84,
        "start_time": "2022-08-07T07:27:50.282Z"
      },
      {
        "duration": 5,
        "start_time": "2022-08-07T07:30:51.159Z"
      },
      {
        "duration": 18,
        "start_time": "2022-08-07T07:39:07.532Z"
      },
      {
        "duration": 6,
        "start_time": "2022-08-07T07:40:27.725Z"
      },
      {
        "duration": 17,
        "start_time": "2022-08-07T07:41:30.982Z"
      },
      {
        "duration": 4,
        "start_time": "2022-08-07T07:43:19.671Z"
      },
      {
        "duration": 21,
        "start_time": "2022-08-07T07:43:27.425Z"
      },
      {
        "duration": 10,
        "start_time": "2022-08-07T07:43:54.646Z"
      },
      {
        "duration": 12,
        "start_time": "2022-08-07T07:44:11.078Z"
      },
      {
        "duration": 8,
        "start_time": "2022-08-07T07:44:27.688Z"
      },
      {
        "duration": 9,
        "start_time": "2022-08-07T07:44:39.062Z"
      },
      {
        "duration": 26,
        "start_time": "2022-08-07T07:46:08.574Z"
      },
      {
        "duration": 9,
        "start_time": "2022-08-07T07:46:39.730Z"
      },
      {
        "duration": 100,
        "start_time": "2022-08-07T07:48:06.729Z"
      },
      {
        "duration": 88,
        "start_time": "2022-08-07T07:51:06.903Z"
      },
      {
        "duration": 89,
        "start_time": "2022-08-07T07:51:34.259Z"
      },
      {
        "duration": 146,
        "start_time": "2022-08-07T07:51:48.955Z"
      },
      {
        "duration": 85,
        "start_time": "2022-08-07T07:52:03.699Z"
      },
      {
        "duration": 93,
        "start_time": "2022-08-07T07:52:25.214Z"
      },
      {
        "duration": 111,
        "start_time": "2022-08-07T07:53:03.636Z"
      },
      {
        "duration": 123,
        "start_time": "2022-08-07T07:53:32.149Z"
      },
      {
        "duration": 9,
        "start_time": "2022-08-07T07:55:09.653Z"
      },
      {
        "duration": 22,
        "start_time": "2022-08-07T07:55:20.964Z"
      },
      {
        "duration": 7,
        "start_time": "2022-08-07T07:57:33.648Z"
      },
      {
        "duration": 68,
        "start_time": "2022-08-07T07:58:24.184Z"
      },
      {
        "duration": 6,
        "start_time": "2022-08-07T07:58:44.656Z"
      },
      {
        "duration": 45,
        "start_time": "2022-08-07T07:58:53.034Z"
      },
      {
        "duration": 121,
        "start_time": "2022-08-07T08:16:11.377Z"
      },
      {
        "duration": 17,
        "start_time": "2022-08-07T08:16:35.916Z"
      },
      {
        "duration": 3,
        "start_time": "2022-08-07T08:24:02.768Z"
      },
      {
        "duration": 21,
        "start_time": "2022-08-07T08:24:11.258Z"
      },
      {
        "duration": 3,
        "start_time": "2022-08-07T08:24:51.575Z"
      },
      {
        "duration": 20,
        "start_time": "2022-08-07T08:24:54.368Z"
      },
      {
        "duration": 1270,
        "start_time": "2022-08-07T08:25:11.817Z"
      },
      {
        "duration": 22,
        "start_time": "2022-08-07T08:25:30.193Z"
      },
      {
        "duration": 18,
        "start_time": "2022-08-07T08:25:53.393Z"
      },
      {
        "duration": 29,
        "start_time": "2022-08-07T08:26:02.007Z"
      },
      {
        "duration": 24,
        "start_time": "2022-08-07T08:26:07.802Z"
      },
      {
        "duration": 11,
        "start_time": "2022-08-07T08:50:03.256Z"
      },
      {
        "duration": 12,
        "start_time": "2022-08-07T08:50:19.062Z"
      },
      {
        "duration": 10,
        "start_time": "2022-08-07T08:50:59.873Z"
      },
      {
        "duration": 10,
        "start_time": "2022-08-07T08:51:14.185Z"
      },
      {
        "duration": 10,
        "start_time": "2022-08-07T08:51:40.153Z"
      },
      {
        "duration": 15,
        "start_time": "2022-08-07T08:53:37.865Z"
      },
      {
        "duration": 31,
        "start_time": "2022-08-07T09:00:45.855Z"
      },
      {
        "duration": 20,
        "start_time": "2022-08-07T09:00:59.106Z"
      },
      {
        "duration": 33,
        "start_time": "2022-08-07T09:01:20.236Z"
      },
      {
        "duration": 31,
        "start_time": "2022-08-07T09:03:04.917Z"
      },
      {
        "duration": 32,
        "start_time": "2022-08-07T09:03:55.227Z"
      },
      {
        "duration": 33,
        "start_time": "2022-08-07T09:05:50.322Z"
      },
      {
        "duration": 12,
        "start_time": "2022-08-07T09:06:57.544Z"
      },
      {
        "duration": 8,
        "start_time": "2022-08-07T09:07:03.375Z"
      },
      {
        "duration": 2519,
        "start_time": "2022-08-14T09:18:50.300Z"
      },
      {
        "duration": 154,
        "start_time": "2022-08-14T09:18:52.821Z"
      },
      {
        "duration": 14,
        "start_time": "2022-08-14T09:18:52.978Z"
      },
      {
        "duration": 15,
        "start_time": "2022-08-14T09:18:52.994Z"
      },
      {
        "duration": 26,
        "start_time": "2022-08-14T09:18:53.011Z"
      },
      {
        "duration": 23,
        "start_time": "2022-08-14T09:18:53.039Z"
      },
      {
        "duration": 35,
        "start_time": "2022-08-14T09:18:53.064Z"
      },
      {
        "duration": 319,
        "start_time": "2022-08-14T09:18:53.101Z"
      },
      {
        "duration": 18,
        "start_time": "2022-08-14T09:18:53.421Z"
      },
      {
        "duration": 6,
        "start_time": "2022-08-14T09:18:53.443Z"
      },
      {
        "duration": 9,
        "start_time": "2022-08-14T09:18:53.451Z"
      },
      {
        "duration": 39,
        "start_time": "2022-08-14T09:18:53.462Z"
      },
      {
        "duration": 282,
        "start_time": "2022-08-14T09:18:53.503Z"
      },
      {
        "duration": 15,
        "start_time": "2022-08-14T09:18:53.791Z"
      },
      {
        "duration": 17,
        "start_time": "2022-08-14T09:18:53.808Z"
      },
      {
        "duration": 18,
        "start_time": "2022-08-14T09:18:53.827Z"
      },
      {
        "duration": 10,
        "start_time": "2022-08-14T09:18:53.846Z"
      },
      {
        "duration": 45,
        "start_time": "2022-08-14T09:18:53.858Z"
      },
      {
        "duration": 12,
        "start_time": "2022-08-14T09:18:53.905Z"
      },
      {
        "duration": 20,
        "start_time": "2022-08-14T09:18:53.919Z"
      },
      {
        "duration": 447,
        "start_time": "2022-08-14T09:18:53.941Z"
      },
      {
        "duration": 375,
        "start_time": "2022-08-14T09:18:54.392Z"
      },
      {
        "duration": 6,
        "start_time": "2022-08-14T09:18:54.770Z"
      },
      {
        "duration": 42,
        "start_time": "2022-08-14T09:18:54.791Z"
      },
      {
        "duration": 96,
        "start_time": "2022-08-14T09:18:54.835Z"
      },
      {
        "duration": 22,
        "start_time": "2022-08-14T09:18:54.932Z"
      },
      {
        "duration": 20,
        "start_time": "2022-08-14T09:18:54.957Z"
      },
      {
        "duration": 11600,
        "start_time": "2022-08-14T09:18:54.991Z"
      },
      {
        "duration": 9,
        "start_time": "2022-08-14T09:19:06.593Z"
      },
      {
        "duration": 5,
        "start_time": "2022-08-14T09:19:06.605Z"
      },
      {
        "duration": 19,
        "start_time": "2022-08-14T09:19:06.612Z"
      },
      {
        "duration": 16,
        "start_time": "2022-08-14T09:19:06.633Z"
      },
      {
        "duration": 17,
        "start_time": "2022-08-14T09:19:06.651Z"
      },
      {
        "duration": 1990,
        "start_time": "2022-08-14T09:19:06.670Z"
      },
      {
        "duration": 510,
        "start_time": "2022-08-14T09:19:08.662Z"
      },
      {
        "duration": 494,
        "start_time": "2022-08-14T09:19:09.174Z"
      },
      {
        "duration": 14,
        "start_time": "2022-08-14T09:19:09.670Z"
      },
      {
        "duration": 25,
        "start_time": "2022-08-14T09:19:09.692Z"
      },
      {
        "duration": 22,
        "start_time": "2022-08-14T09:19:09.719Z"
      },
      {
        "duration": 18,
        "start_time": "2022-08-14T09:19:09.742Z"
      },
      {
        "duration": 1250,
        "start_time": "2022-08-14T09:19:09.762Z"
      },
      {
        "duration": 14,
        "start_time": "2022-08-14T09:19:11.014Z"
      },
      {
        "duration": 6,
        "start_time": "2022-08-14T09:19:11.029Z"
      },
      {
        "duration": 64,
        "start_time": "2022-08-14T09:19:11.036Z"
      },
      {
        "duration": 4,
        "start_time": "2022-08-14T09:19:11.102Z"
      },
      {
        "duration": 24,
        "start_time": "2022-08-14T09:19:11.108Z"
      },
      {
        "duration": 28,
        "start_time": "2022-08-14T09:19:11.134Z"
      },
      {
        "duration": 44,
        "start_time": "2022-08-14T09:19:11.164Z"
      },
      {
        "duration": 7,
        "start_time": "2022-08-14T09:19:11.209Z"
      },
      {
        "duration": 11,
        "start_time": "2022-08-14T09:19:11.217Z"
      },
      {
        "duration": 18,
        "start_time": "2022-08-14T09:19:11.230Z"
      },
      {
        "duration": 90,
        "start_time": "2022-08-14T09:19:11.251Z"
      },
      {
        "duration": 338,
        "start_time": "2022-08-14T09:19:11.343Z"
      },
      {
        "duration": 405,
        "start_time": "2022-08-14T09:19:11.683Z"
      },
      {
        "duration": 340,
        "start_time": "2022-08-14T09:19:12.092Z"
      },
      {
        "duration": 352,
        "start_time": "2022-08-14T09:19:12.434Z"
      },
      {
        "duration": 1428,
        "start_time": "2022-08-14T09:19:12.788Z"
      },
      {
        "duration": 62593,
        "start_time": "2022-08-14T09:19:14.218Z"
      },
      {
        "duration": 38,
        "start_time": "2022-08-14T09:20:16.813Z"
      },
      {
        "duration": 123,
        "start_time": "2022-08-14T09:25:47.260Z"
      },
      {
        "duration": 18,
        "start_time": "2022-08-14T09:25:53.309Z"
      },
      {
        "duration": 156,
        "start_time": "2022-08-14T09:26:06.138Z"
      },
      {
        "duration": 2133,
        "start_time": "2022-08-14T09:31:01.298Z"
      },
      {
        "duration": 98,
        "start_time": "2022-08-14T09:31:03.433Z"
      },
      {
        "duration": 15,
        "start_time": "2022-08-14T09:31:03.533Z"
      },
      {
        "duration": 14,
        "start_time": "2022-08-14T09:31:03.549Z"
      },
      {
        "duration": 26,
        "start_time": "2022-08-14T09:31:03.566Z"
      },
      {
        "duration": 12,
        "start_time": "2022-08-14T09:31:03.594Z"
      },
      {
        "duration": 28,
        "start_time": "2022-08-14T09:31:03.608Z"
      },
      {
        "duration": 757,
        "start_time": "2022-08-14T09:31:03.638Z"
      },
      {
        "duration": 18,
        "start_time": "2022-08-14T09:31:04.397Z"
      },
      {
        "duration": 5,
        "start_time": "2022-08-14T09:31:04.417Z"
      },
      {
        "duration": 10,
        "start_time": "2022-08-14T09:31:04.424Z"
      },
      {
        "duration": 71,
        "start_time": "2022-08-14T09:31:04.436Z"
      },
      {
        "duration": 588,
        "start_time": "2022-08-14T09:31:04.509Z"
      },
      {
        "duration": 13,
        "start_time": "2022-08-14T09:31:05.101Z"
      },
      {
        "duration": 17,
        "start_time": "2022-08-14T09:31:05.116Z"
      },
      {
        "duration": 257,
        "start_time": "2022-08-14T09:31:05.135Z"
      },
      {
        "duration": 11,
        "start_time": "2022-08-14T09:31:05.394Z"
      },
      {
        "duration": 32,
        "start_time": "2022-08-14T09:31:05.407Z"
      },
      {
        "duration": 62,
        "start_time": "2022-08-14T09:31:05.440Z"
      },
      {
        "duration": 20,
        "start_time": "2022-08-14T09:31:05.504Z"
      },
      {
        "duration": 491,
        "start_time": "2022-08-14T09:31:05.526Z"
      },
      {
        "duration": 308,
        "start_time": "2022-08-14T09:31:06.019Z"
      },
      {
        "duration": 7,
        "start_time": "2022-08-14T09:31:06.329Z"
      },
      {
        "duration": 56,
        "start_time": "2022-08-14T09:31:06.337Z"
      },
      {
        "duration": 97,
        "start_time": "2022-08-14T09:31:06.394Z"
      },
      {
        "duration": 23,
        "start_time": "2022-08-14T09:31:06.493Z"
      },
      {
        "duration": 10,
        "start_time": "2022-08-14T09:31:06.517Z"
      },
      {
        "duration": 11312,
        "start_time": "2022-08-14T09:31:06.529Z"
      },
      {
        "duration": 10,
        "start_time": "2022-08-14T09:31:17.843Z"
      },
      {
        "duration": 10,
        "start_time": "2022-08-14T09:31:17.855Z"
      },
      {
        "duration": 13,
        "start_time": "2022-08-14T09:31:17.867Z"
      },
      {
        "duration": 2,
        "start_time": "2022-08-14T09:31:17.892Z"
      },
      {
        "duration": 11,
        "start_time": "2022-08-14T09:31:17.897Z"
      },
      {
        "duration": 2230,
        "start_time": "2022-08-14T09:31:17.910Z"
      },
      {
        "duration": 467,
        "start_time": "2022-08-14T09:31:20.142Z"
      },
      {
        "duration": 478,
        "start_time": "2022-08-14T09:31:20.611Z"
      },
      {
        "duration": 13,
        "start_time": "2022-08-14T09:31:21.091Z"
      },
      {
        "duration": 33,
        "start_time": "2022-08-14T09:31:21.106Z"
      },
      {
        "duration": 21,
        "start_time": "2022-08-14T09:31:21.140Z"
      },
      {
        "duration": 43,
        "start_time": "2022-08-14T09:31:21.163Z"
      },
      {
        "duration": 1250,
        "start_time": "2022-08-14T09:31:21.211Z"
      },
      {
        "duration": 14,
        "start_time": "2022-08-14T09:31:22.463Z"
      },
      {
        "duration": 5,
        "start_time": "2022-08-14T09:31:22.491Z"
      },
      {
        "duration": 49,
        "start_time": "2022-08-14T09:31:22.498Z"
      },
      {
        "duration": 6,
        "start_time": "2022-08-14T09:31:22.549Z"
      },
      {
        "duration": 37,
        "start_time": "2022-08-14T09:31:22.557Z"
      },
      {
        "duration": 29,
        "start_time": "2022-08-14T09:31:22.596Z"
      },
      {
        "duration": 19,
        "start_time": "2022-08-14T09:31:22.628Z"
      },
      {
        "duration": 6,
        "start_time": "2022-08-14T09:31:22.649Z"
      },
      {
        "duration": 16,
        "start_time": "2022-08-14T09:31:22.657Z"
      },
      {
        "duration": 30,
        "start_time": "2022-08-14T09:31:22.675Z"
      },
      {
        "duration": 84,
        "start_time": "2022-08-14T09:31:22.707Z"
      },
      {
        "duration": 338,
        "start_time": "2022-08-14T09:31:22.793Z"
      },
      {
        "duration": 331,
        "start_time": "2022-08-14T09:31:23.133Z"
      },
      {
        "duration": 335,
        "start_time": "2022-08-14T09:31:23.466Z"
      },
      {
        "duration": 342,
        "start_time": "2022-08-14T09:31:23.803Z"
      },
      {
        "duration": 1390,
        "start_time": "2022-08-14T09:31:24.147Z"
      },
      {
        "duration": 65944,
        "start_time": "2022-08-14T09:31:25.539Z"
      },
      {
        "duration": 35,
        "start_time": "2022-08-14T09:32:31.484Z"
      },
      {
        "duration": 3,
        "start_time": "2022-08-14T09:33:04.523Z"
      },
      {
        "duration": 5,
        "start_time": "2022-08-14T09:33:10.322Z"
      },
      {
        "duration": 5,
        "start_time": "2022-08-14T09:33:26.732Z"
      },
      {
        "duration": 38,
        "start_time": "2022-08-14T09:33:31.976Z"
      },
      {
        "duration": 145,
        "start_time": "2022-08-14T09:42:45.917Z"
      },
      {
        "duration": 1864,
        "start_time": "2022-08-15T10:33:12.308Z"
      },
      {
        "duration": 94,
        "start_time": "2022-08-15T10:33:14.174Z"
      },
      {
        "duration": 12,
        "start_time": "2022-08-15T10:33:14.270Z"
      },
      {
        "duration": 11,
        "start_time": "2022-08-15T10:33:14.284Z"
      },
      {
        "duration": 17,
        "start_time": "2022-08-15T10:33:14.296Z"
      },
      {
        "duration": 7,
        "start_time": "2022-08-15T10:33:14.315Z"
      },
      {
        "duration": 19,
        "start_time": "2022-08-15T10:33:14.323Z"
      },
      {
        "duration": 282,
        "start_time": "2022-08-15T10:33:14.344Z"
      },
      {
        "duration": 15,
        "start_time": "2022-08-15T10:33:14.627Z"
      },
      {
        "duration": 5,
        "start_time": "2022-08-15T10:33:14.644Z"
      },
      {
        "duration": 8,
        "start_time": "2022-08-15T10:33:14.650Z"
      },
      {
        "duration": 17,
        "start_time": "2022-08-15T10:33:14.659Z"
      },
      {
        "duration": 272,
        "start_time": "2022-08-15T10:33:14.678Z"
      },
      {
        "duration": 10,
        "start_time": "2022-08-15T10:33:14.952Z"
      },
      {
        "duration": 11,
        "start_time": "2022-08-15T10:33:14.963Z"
      },
      {
        "duration": 32,
        "start_time": "2022-08-15T10:33:14.976Z"
      },
      {
        "duration": 10,
        "start_time": "2022-08-15T10:33:15.009Z"
      },
      {
        "duration": 34,
        "start_time": "2022-08-15T10:33:15.020Z"
      },
      {
        "duration": 9,
        "start_time": "2022-08-15T10:33:15.056Z"
      },
      {
        "duration": 17,
        "start_time": "2022-08-15T10:33:15.067Z"
      },
      {
        "duration": 355,
        "start_time": "2022-08-15T10:33:15.086Z"
      },
      {
        "duration": 238,
        "start_time": "2022-08-15T10:33:15.443Z"
      },
      {
        "duration": 6,
        "start_time": "2022-08-15T10:33:15.682Z"
      },
      {
        "duration": 19,
        "start_time": "2022-08-15T10:33:15.689Z"
      },
      {
        "duration": 12,
        "start_time": "2022-08-15T10:33:15.709Z"
      },
      {
        "duration": 36,
        "start_time": "2022-08-15T10:33:15.722Z"
      },
      {
        "duration": 5,
        "start_time": "2022-08-15T10:33:15.759Z"
      },
      {
        "duration": 9,
        "start_time": "2022-08-15T10:33:15.769Z"
      },
      {
        "duration": 52,
        "start_time": "2022-08-15T10:33:15.779Z"
      },
      {
        "duration": 77,
        "start_time": "2022-08-15T10:33:15.833Z"
      },
      {
        "duration": 17,
        "start_time": "2022-08-15T10:33:15.911Z"
      },
      {
        "duration": 8,
        "start_time": "2022-08-15T10:33:15.930Z"
      },
      {
        "duration": 9300,
        "start_time": "2022-08-15T10:33:15.940Z"
      },
      {
        "duration": 6,
        "start_time": "2022-08-15T10:33:25.241Z"
      },
      {
        "duration": 4,
        "start_time": "2022-08-15T10:33:25.248Z"
      },
      {
        "duration": 9,
        "start_time": "2022-08-15T10:33:25.253Z"
      },
      {
        "duration": 8,
        "start_time": "2022-08-15T10:33:25.263Z"
      },
      {
        "duration": 1879,
        "start_time": "2022-08-15T10:33:25.273Z"
      },
      {
        "duration": 439,
        "start_time": "2022-08-15T10:33:27.153Z"
      },
      {
        "duration": 415,
        "start_time": "2022-08-15T10:33:27.593Z"
      },
      {
        "duration": 11,
        "start_time": "2022-08-15T10:33:28.010Z"
      },
      {
        "duration": 25,
        "start_time": "2022-08-15T10:33:28.023Z"
      },
      {
        "duration": 20,
        "start_time": "2022-08-15T10:33:28.050Z"
      },
      {
        "duration": 40,
        "start_time": "2022-08-15T10:33:28.072Z"
      },
      {
        "duration": 1075,
        "start_time": "2022-08-15T10:33:28.113Z"
      },
      {
        "duration": 4,
        "start_time": "2022-08-15T10:33:29.189Z"
      },
      {
        "duration": 318,
        "start_time": "2022-08-15T10:33:29.194Z"
      },
      {
        "duration": 95,
        "start_time": "2022-08-15T10:33:29.513Z"
      },
      {
        "duration": 18,
        "start_time": "2022-08-15T10:33:29.610Z"
      },
      {
        "duration": 22,
        "start_time": "2022-08-15T10:33:29.630Z"
      },
      {
        "duration": 15,
        "start_time": "2022-08-15T10:33:29.654Z"
      },
      {
        "duration": 5,
        "start_time": "2022-08-15T10:33:29.670Z"
      },
      {
        "duration": 31,
        "start_time": "2022-08-15T10:33:29.676Z"
      },
      {
        "duration": 7,
        "start_time": "2022-08-15T10:33:29.708Z"
      },
      {
        "duration": 6,
        "start_time": "2022-08-15T10:33:29.717Z"
      },
      {
        "duration": 16,
        "start_time": "2022-08-15T10:33:29.724Z"
      },
      {
        "duration": 75,
        "start_time": "2022-08-15T10:33:29.741Z"
      },
      {
        "duration": 280,
        "start_time": "2022-08-15T10:33:29.817Z"
      },
      {
        "duration": 272,
        "start_time": "2022-08-15T10:33:30.098Z"
      },
      {
        "duration": 272,
        "start_time": "2022-08-15T10:33:30.371Z"
      },
      {
        "duration": 276,
        "start_time": "2022-08-15T10:33:30.644Z"
      },
      {
        "duration": 285,
        "start_time": "2022-08-15T10:33:30.922Z"
      },
      {
        "duration": 1287,
        "start_time": "2022-08-15T10:33:31.209Z"
      },
      {
        "duration": 51916,
        "start_time": "2022-08-15T10:33:32.497Z"
      },
      {
        "duration": 50408,
        "start_time": "2022-08-15T10:34:24.414Z"
      },
      {
        "duration": 25,
        "start_time": "2022-08-15T10:35:14.824Z"
      },
      {
        "duration": 31,
        "start_time": "2022-08-15T10:35:14.851Z"
      },
      {
        "duration": 20,
        "start_time": "2022-08-15T10:35:14.884Z"
      },
      {
        "duration": 12,
        "start_time": "2022-08-15T10:42:44.934Z"
      },
      {
        "duration": 122,
        "start_time": "2022-08-15T10:43:04.165Z"
      },
      {
        "duration": 1824,
        "start_time": "2022-08-15T10:43:08.908Z"
      },
      {
        "duration": 111,
        "start_time": "2022-08-15T10:43:10.734Z"
      },
      {
        "duration": 13,
        "start_time": "2022-08-15T10:43:10.847Z"
      },
      {
        "duration": 11,
        "start_time": "2022-08-15T10:43:10.862Z"
      },
      {
        "duration": 19,
        "start_time": "2022-08-15T10:43:10.876Z"
      },
      {
        "duration": 10,
        "start_time": "2022-08-15T10:43:10.897Z"
      },
      {
        "duration": 19,
        "start_time": "2022-08-15T10:43:10.908Z"
      },
      {
        "duration": 331,
        "start_time": "2022-08-15T10:43:10.928Z"
      },
      {
        "duration": 18,
        "start_time": "2022-08-15T10:43:11.260Z"
      },
      {
        "duration": 6,
        "start_time": "2022-08-15T10:43:11.279Z"
      },
      {
        "duration": 23,
        "start_time": "2022-08-15T10:43:11.286Z"
      },
      {
        "duration": 17,
        "start_time": "2022-08-15T10:43:11.311Z"
      },
      {
        "duration": 270,
        "start_time": "2022-08-15T10:43:11.330Z"
      },
      {
        "duration": 11,
        "start_time": "2022-08-15T10:43:11.606Z"
      },
      {
        "duration": 11,
        "start_time": "2022-08-15T10:43:11.619Z"
      },
      {
        "duration": 119,
        "start_time": "2022-08-15T10:43:11.631Z"
      },
      {
        "duration": 62,
        "start_time": "2022-08-15T10:43:11.752Z"
      },
      {
        "duration": 17,
        "start_time": "2022-08-15T10:43:11.816Z"
      },
      {
        "duration": 10,
        "start_time": "2022-08-15T10:43:11.835Z"
      },
      {
        "duration": 65,
        "start_time": "2022-08-15T10:43:11.847Z"
      },
      {
        "duration": 531,
        "start_time": "2022-08-15T10:43:11.913Z"
      },
      {
        "duration": 396,
        "start_time": "2022-08-15T10:43:12.445Z"
      },
      {
        "duration": 6,
        "start_time": "2022-08-15T10:43:12.843Z"
      },
      {
        "duration": 60,
        "start_time": "2022-08-15T10:43:12.851Z"
      },
      {
        "duration": 19,
        "start_time": "2022-08-15T10:43:12.913Z"
      },
      {
        "duration": 83,
        "start_time": "2022-08-15T10:43:12.934Z"
      },
      {
        "duration": 10,
        "start_time": "2022-08-15T10:43:13.019Z"
      },
      {
        "duration": 20,
        "start_time": "2022-08-15T10:43:13.031Z"
      },
      {
        "duration": 57,
        "start_time": "2022-08-15T10:43:13.053Z"
      },
      {
        "duration": 112,
        "start_time": "2022-08-15T10:43:13.112Z"
      },
      {
        "duration": 181,
        "start_time": "2022-08-15T10:43:13.226Z"
      },
      {
        "duration": 19,
        "start_time": "2022-08-15T10:43:13.408Z"
      },
      {
        "duration": 24,
        "start_time": "2022-08-15T10:43:13.428Z"
      },
      {
        "duration": 9406,
        "start_time": "2022-08-15T10:43:13.454Z"
      },
      {
        "duration": 6,
        "start_time": "2022-08-15T10:43:22.862Z"
      },
      {
        "duration": 6,
        "start_time": "2022-08-15T10:43:22.869Z"
      },
      {
        "duration": 7,
        "start_time": "2022-08-15T10:43:22.877Z"
      },
      {
        "duration": 20,
        "start_time": "2022-08-15T10:43:22.885Z"
      },
      {
        "duration": 2137,
        "start_time": "2022-08-15T10:43:22.907Z"
      },
      {
        "duration": 789,
        "start_time": "2022-08-15T10:43:25.045Z"
      },
      {
        "duration": 906,
        "start_time": "2022-08-15T10:43:25.838Z"
      },
      {
        "duration": 63,
        "start_time": "2022-08-15T10:43:26.746Z"
      },
      {
        "duration": 22,
        "start_time": "2022-08-15T10:43:26.811Z"
      },
      {
        "duration": 72,
        "start_time": "2022-08-15T10:43:26.834Z"
      },
      {
        "duration": 12,
        "start_time": "2022-08-15T10:43:26.908Z"
      },
      {
        "duration": 1525,
        "start_time": "2022-08-15T10:43:26.922Z"
      },
      {
        "duration": 4,
        "start_time": "2022-08-15T10:43:28.448Z"
      },
      {
        "duration": 357,
        "start_time": "2022-08-15T10:43:28.454Z"
      },
      {
        "duration": 93,
        "start_time": "2022-08-15T10:43:28.813Z"
      },
      {
        "duration": 19,
        "start_time": "2022-08-15T10:43:28.908Z"
      },
      {
        "duration": 21,
        "start_time": "2022-08-15T10:43:28.929Z"
      },
      {
        "duration": 18,
        "start_time": "2022-08-15T10:43:28.951Z"
      },
      {
        "duration": 6,
        "start_time": "2022-08-15T10:43:28.970Z"
      },
      {
        "duration": 5,
        "start_time": "2022-08-15T10:43:29.006Z"
      },
      {
        "duration": 21,
        "start_time": "2022-08-15T10:43:29.013Z"
      },
      {
        "duration": 9,
        "start_time": "2022-08-15T10:43:29.036Z"
      },
      {
        "duration": 20,
        "start_time": "2022-08-15T10:43:29.046Z"
      },
      {
        "duration": 64,
        "start_time": "2022-08-15T10:43:29.068Z"
      },
      {
        "duration": 295,
        "start_time": "2022-08-15T10:43:29.134Z"
      },
      {
        "duration": 276,
        "start_time": "2022-08-15T10:43:29.431Z"
      },
      {
        "duration": 279,
        "start_time": "2022-08-15T10:43:29.708Z"
      },
      {
        "duration": 273,
        "start_time": "2022-08-15T10:43:29.989Z"
      },
      {
        "duration": 289,
        "start_time": "2022-08-15T10:43:30.264Z"
      },
      {
        "duration": 1222,
        "start_time": "2022-08-15T10:43:30.554Z"
      },
      {
        "duration": 52172,
        "start_time": "2022-08-15T10:43:31.777Z"
      },
      {
        "duration": 51078,
        "start_time": "2022-08-15T10:44:23.950Z"
      },
      {
        "duration": 25,
        "start_time": "2022-08-15T10:45:15.030Z"
      },
      {
        "duration": 23,
        "start_time": "2022-08-15T10:45:15.057Z"
      },
      {
        "duration": 2,
        "start_time": "2022-08-15T10:45:15.081Z"
      },
      {
        "duration": 54214,
        "start_time": "2022-08-15T10:51:55.094Z"
      },
      {
        "duration": 9,
        "start_time": "2022-08-15T10:56:49.798Z"
      }
    ],
    "kernelspec": {
      "display_name": "Python 3 (ipykernel)",
      "language": "python",
      "name": "python3"
    },
    "language_info": {
      "codemirror_mode": {
        "name": "ipython",
        "version": 3
      },
      "file_extension": ".py",
      "mimetype": "text/x-python",
      "name": "python",
      "nbconvert_exporter": "python",
      "pygments_lexer": "ipython3",
      "version": "3.9.7"
    },
    "toc": {
      "base_numbering": 1,
      "nav_menu": {},
      "number_sections": true,
      "sideBar": true,
      "skip_h1_title": false,
      "title_cell": "Содержание",
      "title_sidebar": "Contents",
      "toc_cell": true,
      "toc_position": {
        "height": "calc(100% - 180px)",
        "left": "10px",
        "top": "150px",
        "width": "312.04998779296875px"
      },
      "toc_section_display": true,
      "toc_window_display": true
    },
    "colab": {
      "provenance": []
    }
  },
  "nbformat": 4,
  "nbformat_minor": 5
}